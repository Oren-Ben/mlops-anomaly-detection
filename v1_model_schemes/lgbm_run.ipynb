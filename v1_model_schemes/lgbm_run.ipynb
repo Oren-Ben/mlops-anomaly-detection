{
 "cells": [
  {
   "cell_type": "code",
   "execution_count": 1,
   "metadata": {},
   "outputs": [],
   "source": [
    "%load_ext autoreload\n",
    "%autoreload 2"
   ]
  },
  {
   "cell_type": "code",
   "execution_count": 2,
   "metadata": {},
   "outputs": [],
   "source": [
    "from utils_data import x_y_split , data_splitter\n",
    "from utils_lgbm import lgbm_train_val_test_split_original\n",
    "from lgbm_data_prep import LgbmDataPrep\n",
    "from sklearn.pipeline import Pipeline, FeatureUnion\n",
    "import numpy as np\n",
    "import pandas as pd\n",
    "from typing import List"
   ]
  },
  {
   "cell_type": "markdown",
   "metadata": {},
   "source": [
    "### Split To Original train and test"
   ]
  },
  {
   "cell_type": "code",
   "execution_count": 3,
   "metadata": {},
   "outputs": [],
   "source": [
    "x,v,t = lgbm_train_val_test_split_original()"
   ]
  },
  {
   "cell_type": "markdown",
   "metadata": {},
   "source": [
    "### split to X, y "
   ]
  },
  {
   "cell_type": "code",
   "execution_count": 4,
   "metadata": {},
   "outputs": [],
   "source": [
    "X, y = x_y_split(x,'anomaly')\n",
    "X_test, y_test = x_y_split(t,'anomaly')"
   ]
  },
  {
   "cell_type": "code",
   "execution_count": 5,
   "metadata": {},
   "outputs": [],
   "source": [
    "config = {\n",
    "    'target_column': 'anomaly',\n",
    "    'look_back': 10,\n",
    "    'num_splits': 7,\n",
    "    'th': 0.5\n",
    "\n",
    "}"
   ]
  },
  {
   "cell_type": "code",
   "execution_count": 6,
   "metadata": {},
   "outputs": [],
   "source": [
    "model_pipeline, targets_pipe =  LgbmDataPrep(**config).run()"
   ]
  },
  {
   "cell_type": "code",
   "execution_count": 7,
   "metadata": {},
   "outputs": [
    {
     "data": {
      "text/html": [
       "<style>#sk-container-id-1 {color: black;background-color: white;}#sk-container-id-1 pre{padding: 0;}#sk-container-id-1 div.sk-toggleable {background-color: white;}#sk-container-id-1 label.sk-toggleable__label {cursor: pointer;display: block;width: 100%;margin-bottom: 0;padding: 0.3em;box-sizing: border-box;text-align: center;}#sk-container-id-1 label.sk-toggleable__label-arrow:before {content: \"▸\";float: left;margin-right: 0.25em;color: #696969;}#sk-container-id-1 label.sk-toggleable__label-arrow:hover:before {color: black;}#sk-container-id-1 div.sk-estimator:hover label.sk-toggleable__label-arrow:before {color: black;}#sk-container-id-1 div.sk-toggleable__content {max-height: 0;max-width: 0;overflow: hidden;text-align: left;background-color: #f0f8ff;}#sk-container-id-1 div.sk-toggleable__content pre {margin: 0.2em;color: black;border-radius: 0.25em;background-color: #f0f8ff;}#sk-container-id-1 input.sk-toggleable__control:checked~div.sk-toggleable__content {max-height: 200px;max-width: 100%;overflow: auto;}#sk-container-id-1 input.sk-toggleable__control:checked~label.sk-toggleable__label-arrow:before {content: \"▾\";}#sk-container-id-1 div.sk-estimator input.sk-toggleable__control:checked~label.sk-toggleable__label {background-color: #d4ebff;}#sk-container-id-1 div.sk-label input.sk-toggleable__control:checked~label.sk-toggleable__label {background-color: #d4ebff;}#sk-container-id-1 input.sk-hidden--visually {border: 0;clip: rect(1px 1px 1px 1px);clip: rect(1px, 1px, 1px, 1px);height: 1px;margin: -1px;overflow: hidden;padding: 0;position: absolute;width: 1px;}#sk-container-id-1 div.sk-estimator {font-family: monospace;background-color: #f0f8ff;border: 1px dotted black;border-radius: 0.25em;box-sizing: border-box;margin-bottom: 0.5em;}#sk-container-id-1 div.sk-estimator:hover {background-color: #d4ebff;}#sk-container-id-1 div.sk-parallel-item::after {content: \"\";width: 100%;border-bottom: 1px solid gray;flex-grow: 1;}#sk-container-id-1 div.sk-label:hover label.sk-toggleable__label {background-color: #d4ebff;}#sk-container-id-1 div.sk-serial::before {content: \"\";position: absolute;border-left: 1px solid gray;box-sizing: border-box;top: 0;bottom: 0;left: 50%;z-index: 0;}#sk-container-id-1 div.sk-serial {display: flex;flex-direction: column;align-items: center;background-color: white;padding-right: 0.2em;padding-left: 0.2em;position: relative;}#sk-container-id-1 div.sk-item {position: relative;z-index: 1;}#sk-container-id-1 div.sk-parallel {display: flex;align-items: stretch;justify-content: center;background-color: white;position: relative;}#sk-container-id-1 div.sk-item::before, #sk-container-id-1 div.sk-parallel-item::before {content: \"\";position: absolute;border-left: 1px solid gray;box-sizing: border-box;top: 0;bottom: 0;left: 50%;z-index: -1;}#sk-container-id-1 div.sk-parallel-item {display: flex;flex-direction: column;z-index: 1;position: relative;background-color: white;}#sk-container-id-1 div.sk-parallel-item:first-child::after {align-self: flex-end;width: 50%;}#sk-container-id-1 div.sk-parallel-item:last-child::after {align-self: flex-start;width: 50%;}#sk-container-id-1 div.sk-parallel-item:only-child::after {width: 0;}#sk-container-id-1 div.sk-dashed-wrapped {border: 1px dashed gray;margin: 0 0.4em 0.5em 0.4em;box-sizing: border-box;padding-bottom: 0.4em;background-color: white;}#sk-container-id-1 div.sk-label label {font-family: monospace;font-weight: bold;display: inline-block;line-height: 1.2em;}#sk-container-id-1 div.sk-label-container {text-align: center;}#sk-container-id-1 div.sk-container {/* jupyter's `normalize.less` sets `[hidden] { display: none; }` but bootstrap.min.css set `[hidden] { display: none !important; }` so we also need the `!important` here to be able to override the default hidden behavior on the sphinx rendered scikit-learn.org. See: https://github.com/scikit-learn/scikit-learn/issues/21755 */display: inline-block !important;position: relative;}#sk-container-id-1 div.sk-text-repr-fallback {display: none;}</style><div id=\"sk-container-id-1\" class=\"sk-top-container\"><div class=\"sk-text-repr-fallback\"><pre>Pipeline(steps=[(&#x27;transformations&#x27;,\n",
       "                 FeatureUnion(transformer_list=[(&#x27;part_0&#x27;,\n",
       "                                                 Pipeline(steps=[(&#x27;drop_changepoint&#x27;,\n",
       "                                                                  DropColumnTransformer(columns_to_drop=[&#x27;changepoint&#x27;])),\n",
       "                                                                 (&#x27;smooth&#x27;,\n",
       "                                                                  SmoothCurve()),\n",
       "                                                                 (&#x27;scaler&#x27;,\n",
       "                                                                  StandardScaler()),\n",
       "                                                                 (&#x27;df_creator&#x27;,\n",
       "                                                                  CreateStatsDataframe()),\n",
       "                                                                 (&#x27;classifier&#x27;,\n",
       "                                                                  &lt;lgbm_model.LgbmModel object at 0x13978a050&gt;)])),\n",
       "                                                (&#x27;part_1&#x27;,\n",
       "                                                 Pipeline(steps=[(&#x27;dro...\n",
       "                                                                 (&#x27;classifier&#x27;,\n",
       "                                                                  &lt;lgbm_model.LgbmModel object at 0x13978b100&gt;)])),\n",
       "                                                (&#x27;part_6&#x27;,\n",
       "                                                 Pipeline(steps=[(&#x27;drop_changepoint&#x27;,\n",
       "                                                                  DropColumnTransformer(columns_to_drop=[&#x27;changepoint&#x27;])),\n",
       "                                                                 (&#x27;smooth&#x27;,\n",
       "                                                                  SmoothCurve()),\n",
       "                                                                 (&#x27;scaler&#x27;,\n",
       "                                                                  StandardScaler()),\n",
       "                                                                 (&#x27;df_creator&#x27;,\n",
       "                                                                  CreateStatsDataframe()),\n",
       "                                                                 (&#x27;classifier&#x27;,\n",
       "                                                                  &lt;lgbm_model.LgbmModel object at 0x13978b8e0&gt;)]))])),\n",
       "                (&#x27;processing_results&#x27;, AggregateModelScores())])</pre><b>In a Jupyter environment, please rerun this cell to show the HTML representation or trust the notebook. <br />On GitHub, the HTML representation is unable to render, please try loading this page with nbviewer.org.</b></div><div class=\"sk-container\" hidden><div class=\"sk-item sk-dashed-wrapped\"><div class=\"sk-label-container\"><div class=\"sk-label sk-toggleable\"><input class=\"sk-toggleable__control sk-hidden--visually\" id=\"sk-estimator-id-1\" type=\"checkbox\" ><label for=\"sk-estimator-id-1\" class=\"sk-toggleable__label sk-toggleable__label-arrow\">Pipeline</label><div class=\"sk-toggleable__content\"><pre>Pipeline(steps=[(&#x27;transformations&#x27;,\n",
       "                 FeatureUnion(transformer_list=[(&#x27;part_0&#x27;,\n",
       "                                                 Pipeline(steps=[(&#x27;drop_changepoint&#x27;,\n",
       "                                                                  DropColumnTransformer(columns_to_drop=[&#x27;changepoint&#x27;])),\n",
       "                                                                 (&#x27;smooth&#x27;,\n",
       "                                                                  SmoothCurve()),\n",
       "                                                                 (&#x27;scaler&#x27;,\n",
       "                                                                  StandardScaler()),\n",
       "                                                                 (&#x27;df_creator&#x27;,\n",
       "                                                                  CreateStatsDataframe()),\n",
       "                                                                 (&#x27;classifier&#x27;,\n",
       "                                                                  &lt;lgbm_model.LgbmModel object at 0x13978a050&gt;)])),\n",
       "                                                (&#x27;part_1&#x27;,\n",
       "                                                 Pipeline(steps=[(&#x27;dro...\n",
       "                                                                 (&#x27;classifier&#x27;,\n",
       "                                                                  &lt;lgbm_model.LgbmModel object at 0x13978b100&gt;)])),\n",
       "                                                (&#x27;part_6&#x27;,\n",
       "                                                 Pipeline(steps=[(&#x27;drop_changepoint&#x27;,\n",
       "                                                                  DropColumnTransformer(columns_to_drop=[&#x27;changepoint&#x27;])),\n",
       "                                                                 (&#x27;smooth&#x27;,\n",
       "                                                                  SmoothCurve()),\n",
       "                                                                 (&#x27;scaler&#x27;,\n",
       "                                                                  StandardScaler()),\n",
       "                                                                 (&#x27;df_creator&#x27;,\n",
       "                                                                  CreateStatsDataframe()),\n",
       "                                                                 (&#x27;classifier&#x27;,\n",
       "                                                                  &lt;lgbm_model.LgbmModel object at 0x13978b8e0&gt;)]))])),\n",
       "                (&#x27;processing_results&#x27;, AggregateModelScores())])</pre></div></div></div><div class=\"sk-serial\"><div class=\"sk-item sk-dashed-wrapped\"><div class=\"sk-label-container\"><div class=\"sk-label sk-toggleable\"><input class=\"sk-toggleable__control sk-hidden--visually\" id=\"sk-estimator-id-2\" type=\"checkbox\" ><label for=\"sk-estimator-id-2\" class=\"sk-toggleable__label sk-toggleable__label-arrow\">transformations: FeatureUnion</label><div class=\"sk-toggleable__content\"><pre>FeatureUnion(transformer_list=[(&#x27;part_0&#x27;,\n",
       "                                Pipeline(steps=[(&#x27;drop_changepoint&#x27;,\n",
       "                                                 DropColumnTransformer(columns_to_drop=[&#x27;changepoint&#x27;])),\n",
       "                                                (&#x27;smooth&#x27;, SmoothCurve()),\n",
       "                                                (&#x27;scaler&#x27;, StandardScaler()),\n",
       "                                                (&#x27;df_creator&#x27;,\n",
       "                                                 CreateStatsDataframe()),\n",
       "                                                (&#x27;classifier&#x27;,\n",
       "                                                 &lt;lgbm_model.LgbmModel object at 0x13978a050&gt;)])),\n",
       "                               (&#x27;part_1&#x27;,\n",
       "                                Pipeline(steps=[(&#x27;drop_changepoint&#x27;,\n",
       "                                                 DropColumnTransforme...\n",
       "                                                (&#x27;df_creator&#x27;,\n",
       "                                                 CreateStatsDataframe()),\n",
       "                                                (&#x27;classifier&#x27;,\n",
       "                                                 &lt;lgbm_model.LgbmModel object at 0x13978b100&gt;)])),\n",
       "                               (&#x27;part_6&#x27;,\n",
       "                                Pipeline(steps=[(&#x27;drop_changepoint&#x27;,\n",
       "                                                 DropColumnTransformer(columns_to_drop=[&#x27;changepoint&#x27;])),\n",
       "                                                (&#x27;smooth&#x27;, SmoothCurve()),\n",
       "                                                (&#x27;scaler&#x27;, StandardScaler()),\n",
       "                                                (&#x27;df_creator&#x27;,\n",
       "                                                 CreateStatsDataframe()),\n",
       "                                                (&#x27;classifier&#x27;,\n",
       "                                                 &lt;lgbm_model.LgbmModel object at 0x13978b8e0&gt;)]))])</pre></div></div></div><div class=\"sk-parallel\"><div class=\"sk-parallel-item\"><div class=\"sk-item\"><div class=\"sk-label-container\"><div class=\"sk-label sk-toggleable\"><label>part_0</label></div></div><div class=\"sk-serial\"><div class=\"sk-item\"><div class=\"sk-serial\"><div class=\"sk-item\"><div class=\"sk-estimator sk-toggleable\"><input class=\"sk-toggleable__control sk-hidden--visually\" id=\"sk-estimator-id-3\" type=\"checkbox\" ><label for=\"sk-estimator-id-3\" class=\"sk-toggleable__label sk-toggleable__label-arrow\">DropColumnTransformer</label><div class=\"sk-toggleable__content\"><pre>DropColumnTransformer(columns_to_drop=[&#x27;changepoint&#x27;])</pre></div></div></div><div class=\"sk-item\"><div class=\"sk-estimator sk-toggleable\"><input class=\"sk-toggleable__control sk-hidden--visually\" id=\"sk-estimator-id-4\" type=\"checkbox\" ><label for=\"sk-estimator-id-4\" class=\"sk-toggleable__label sk-toggleable__label-arrow\">SmoothCurve</label><div class=\"sk-toggleable__content\"><pre>SmoothCurve()</pre></div></div></div><div class=\"sk-item\"><div class=\"sk-estimator sk-toggleable\"><input class=\"sk-toggleable__control sk-hidden--visually\" id=\"sk-estimator-id-5\" type=\"checkbox\" ><label for=\"sk-estimator-id-5\" class=\"sk-toggleable__label sk-toggleable__label-arrow\">StandardScaler</label><div class=\"sk-toggleable__content\"><pre>StandardScaler()</pre></div></div></div><div class=\"sk-item\"><div class=\"sk-estimator sk-toggleable\"><input class=\"sk-toggleable__control sk-hidden--visually\" id=\"sk-estimator-id-6\" type=\"checkbox\" ><label for=\"sk-estimator-id-6\" class=\"sk-toggleable__label sk-toggleable__label-arrow\">CreateStatsDataframe</label><div class=\"sk-toggleable__content\"><pre>CreateStatsDataframe()</pre></div></div></div><div class=\"sk-item\"><div class=\"sk-estimator sk-toggleable\"><input class=\"sk-toggleable__control sk-hidden--visually\" id=\"sk-estimator-id-7\" type=\"checkbox\" ><label for=\"sk-estimator-id-7\" class=\"sk-toggleable__label sk-toggleable__label-arrow\">LgbmModel</label><div class=\"sk-toggleable__content\"><pre>&lt;lgbm_model.LgbmModel object at 0x13978a050&gt;</pre></div></div></div></div></div></div></div></div><div class=\"sk-parallel-item\"><div class=\"sk-item\"><div class=\"sk-label-container\"><div class=\"sk-label sk-toggleable\"><label>part_1</label></div></div><div class=\"sk-serial\"><div class=\"sk-item\"><div class=\"sk-serial\"><div class=\"sk-item\"><div class=\"sk-estimator sk-toggleable\"><input class=\"sk-toggleable__control sk-hidden--visually\" id=\"sk-estimator-id-8\" type=\"checkbox\" ><label for=\"sk-estimator-id-8\" class=\"sk-toggleable__label sk-toggleable__label-arrow\">DropColumnTransformer</label><div class=\"sk-toggleable__content\"><pre>DropColumnTransformer(columns_to_drop=[&#x27;changepoint&#x27;])</pre></div></div></div><div class=\"sk-item\"><div class=\"sk-estimator sk-toggleable\"><input class=\"sk-toggleable__control sk-hidden--visually\" id=\"sk-estimator-id-9\" type=\"checkbox\" ><label for=\"sk-estimator-id-9\" class=\"sk-toggleable__label sk-toggleable__label-arrow\">SmoothCurve</label><div class=\"sk-toggleable__content\"><pre>SmoothCurve()</pre></div></div></div><div class=\"sk-item\"><div class=\"sk-estimator sk-toggleable\"><input class=\"sk-toggleable__control sk-hidden--visually\" id=\"sk-estimator-id-10\" type=\"checkbox\" ><label for=\"sk-estimator-id-10\" class=\"sk-toggleable__label sk-toggleable__label-arrow\">StandardScaler</label><div class=\"sk-toggleable__content\"><pre>StandardScaler()</pre></div></div></div><div class=\"sk-item\"><div class=\"sk-estimator sk-toggleable\"><input class=\"sk-toggleable__control sk-hidden--visually\" id=\"sk-estimator-id-11\" type=\"checkbox\" ><label for=\"sk-estimator-id-11\" class=\"sk-toggleable__label sk-toggleable__label-arrow\">CreateStatsDataframe</label><div class=\"sk-toggleable__content\"><pre>CreateStatsDataframe()</pre></div></div></div><div class=\"sk-item\"><div class=\"sk-estimator sk-toggleable\"><input class=\"sk-toggleable__control sk-hidden--visually\" id=\"sk-estimator-id-12\" type=\"checkbox\" ><label for=\"sk-estimator-id-12\" class=\"sk-toggleable__label sk-toggleable__label-arrow\">LgbmModel</label><div class=\"sk-toggleable__content\"><pre>&lt;lgbm_model.LgbmModel object at 0x13978a9b0&gt;</pre></div></div></div></div></div></div></div></div><div class=\"sk-parallel-item\"><div class=\"sk-item\"><div class=\"sk-label-container\"><div class=\"sk-label sk-toggleable\"><label>part_2</label></div></div><div class=\"sk-serial\"><div class=\"sk-item\"><div class=\"sk-serial\"><div class=\"sk-item\"><div class=\"sk-estimator sk-toggleable\"><input class=\"sk-toggleable__control sk-hidden--visually\" id=\"sk-estimator-id-13\" type=\"checkbox\" ><label for=\"sk-estimator-id-13\" class=\"sk-toggleable__label sk-toggleable__label-arrow\">DropColumnTransformer</label><div class=\"sk-toggleable__content\"><pre>DropColumnTransformer(columns_to_drop=[&#x27;changepoint&#x27;])</pre></div></div></div><div class=\"sk-item\"><div class=\"sk-estimator sk-toggleable\"><input class=\"sk-toggleable__control sk-hidden--visually\" id=\"sk-estimator-id-14\" type=\"checkbox\" ><label for=\"sk-estimator-id-14\" class=\"sk-toggleable__label sk-toggleable__label-arrow\">SmoothCurve</label><div class=\"sk-toggleable__content\"><pre>SmoothCurve()</pre></div></div></div><div class=\"sk-item\"><div class=\"sk-estimator sk-toggleable\"><input class=\"sk-toggleable__control sk-hidden--visually\" id=\"sk-estimator-id-15\" type=\"checkbox\" ><label for=\"sk-estimator-id-15\" class=\"sk-toggleable__label sk-toggleable__label-arrow\">StandardScaler</label><div class=\"sk-toggleable__content\"><pre>StandardScaler()</pre></div></div></div><div class=\"sk-item\"><div class=\"sk-estimator sk-toggleable\"><input class=\"sk-toggleable__control sk-hidden--visually\" id=\"sk-estimator-id-16\" type=\"checkbox\" ><label for=\"sk-estimator-id-16\" class=\"sk-toggleable__label sk-toggleable__label-arrow\">CreateStatsDataframe</label><div class=\"sk-toggleable__content\"><pre>CreateStatsDataframe()</pre></div></div></div><div class=\"sk-item\"><div class=\"sk-estimator sk-toggleable\"><input class=\"sk-toggleable__control sk-hidden--visually\" id=\"sk-estimator-id-17\" type=\"checkbox\" ><label for=\"sk-estimator-id-17\" class=\"sk-toggleable__label sk-toggleable__label-arrow\">LgbmModel</label><div class=\"sk-toggleable__content\"><pre>&lt;lgbm_model.LgbmModel object at 0x13978b010&gt;</pre></div></div></div></div></div></div></div></div><div class=\"sk-parallel-item\"><div class=\"sk-item\"><div class=\"sk-label-container\"><div class=\"sk-label sk-toggleable\"><label>part_3</label></div></div><div class=\"sk-serial\"><div class=\"sk-item\"><div class=\"sk-serial\"><div class=\"sk-item\"><div class=\"sk-estimator sk-toggleable\"><input class=\"sk-toggleable__control sk-hidden--visually\" id=\"sk-estimator-id-18\" type=\"checkbox\" ><label for=\"sk-estimator-id-18\" class=\"sk-toggleable__label sk-toggleable__label-arrow\">DropColumnTransformer</label><div class=\"sk-toggleable__content\"><pre>DropColumnTransformer(columns_to_drop=[&#x27;changepoint&#x27;])</pre></div></div></div><div class=\"sk-item\"><div class=\"sk-estimator sk-toggleable\"><input class=\"sk-toggleable__control sk-hidden--visually\" id=\"sk-estimator-id-19\" type=\"checkbox\" ><label for=\"sk-estimator-id-19\" class=\"sk-toggleable__label sk-toggleable__label-arrow\">SmoothCurve</label><div class=\"sk-toggleable__content\"><pre>SmoothCurve()</pre></div></div></div><div class=\"sk-item\"><div class=\"sk-estimator sk-toggleable\"><input class=\"sk-toggleable__control sk-hidden--visually\" id=\"sk-estimator-id-20\" type=\"checkbox\" ><label for=\"sk-estimator-id-20\" class=\"sk-toggleable__label sk-toggleable__label-arrow\">StandardScaler</label><div class=\"sk-toggleable__content\"><pre>StandardScaler()</pre></div></div></div><div class=\"sk-item\"><div class=\"sk-estimator sk-toggleable\"><input class=\"sk-toggleable__control sk-hidden--visually\" id=\"sk-estimator-id-21\" type=\"checkbox\" ><label for=\"sk-estimator-id-21\" class=\"sk-toggleable__label sk-toggleable__label-arrow\">CreateStatsDataframe</label><div class=\"sk-toggleable__content\"><pre>CreateStatsDataframe()</pre></div></div></div><div class=\"sk-item\"><div class=\"sk-estimator sk-toggleable\"><input class=\"sk-toggleable__control sk-hidden--visually\" id=\"sk-estimator-id-22\" type=\"checkbox\" ><label for=\"sk-estimator-id-22\" class=\"sk-toggleable__label sk-toggleable__label-arrow\">LgbmModel</label><div class=\"sk-toggleable__content\"><pre>&lt;lgbm_model.LgbmModel object at 0x13978a860&gt;</pre></div></div></div></div></div></div></div></div><div class=\"sk-parallel-item\"><div class=\"sk-item\"><div class=\"sk-label-container\"><div class=\"sk-label sk-toggleable\"><label>part_4</label></div></div><div class=\"sk-serial\"><div class=\"sk-item\"><div class=\"sk-serial\"><div class=\"sk-item\"><div class=\"sk-estimator sk-toggleable\"><input class=\"sk-toggleable__control sk-hidden--visually\" id=\"sk-estimator-id-23\" type=\"checkbox\" ><label for=\"sk-estimator-id-23\" class=\"sk-toggleable__label sk-toggleable__label-arrow\">DropColumnTransformer</label><div class=\"sk-toggleable__content\"><pre>DropColumnTransformer(columns_to_drop=[&#x27;changepoint&#x27;])</pre></div></div></div><div class=\"sk-item\"><div class=\"sk-estimator sk-toggleable\"><input class=\"sk-toggleable__control sk-hidden--visually\" id=\"sk-estimator-id-24\" type=\"checkbox\" ><label for=\"sk-estimator-id-24\" class=\"sk-toggleable__label sk-toggleable__label-arrow\">SmoothCurve</label><div class=\"sk-toggleable__content\"><pre>SmoothCurve()</pre></div></div></div><div class=\"sk-item\"><div class=\"sk-estimator sk-toggleable\"><input class=\"sk-toggleable__control sk-hidden--visually\" id=\"sk-estimator-id-25\" type=\"checkbox\" ><label for=\"sk-estimator-id-25\" class=\"sk-toggleable__label sk-toggleable__label-arrow\">StandardScaler</label><div class=\"sk-toggleable__content\"><pre>StandardScaler()</pre></div></div></div><div class=\"sk-item\"><div class=\"sk-estimator sk-toggleable\"><input class=\"sk-toggleable__control sk-hidden--visually\" id=\"sk-estimator-id-26\" type=\"checkbox\" ><label for=\"sk-estimator-id-26\" class=\"sk-toggleable__label sk-toggleable__label-arrow\">CreateStatsDataframe</label><div class=\"sk-toggleable__content\"><pre>CreateStatsDataframe()</pre></div></div></div><div class=\"sk-item\"><div class=\"sk-estimator sk-toggleable\"><input class=\"sk-toggleable__control sk-hidden--visually\" id=\"sk-estimator-id-27\" type=\"checkbox\" ><label for=\"sk-estimator-id-27\" class=\"sk-toggleable__label sk-toggleable__label-arrow\">LgbmModel</label><div class=\"sk-toggleable__content\"><pre>&lt;lgbm_model.LgbmModel object at 0x13978b700&gt;</pre></div></div></div></div></div></div></div></div><div class=\"sk-parallel-item\"><div class=\"sk-item\"><div class=\"sk-label-container\"><div class=\"sk-label sk-toggleable\"><label>part_5</label></div></div><div class=\"sk-serial\"><div class=\"sk-item\"><div class=\"sk-serial\"><div class=\"sk-item\"><div class=\"sk-estimator sk-toggleable\"><input class=\"sk-toggleable__control sk-hidden--visually\" id=\"sk-estimator-id-28\" type=\"checkbox\" ><label for=\"sk-estimator-id-28\" class=\"sk-toggleable__label sk-toggleable__label-arrow\">DropColumnTransformer</label><div class=\"sk-toggleable__content\"><pre>DropColumnTransformer(columns_to_drop=[&#x27;changepoint&#x27;])</pre></div></div></div><div class=\"sk-item\"><div class=\"sk-estimator sk-toggleable\"><input class=\"sk-toggleable__control sk-hidden--visually\" id=\"sk-estimator-id-29\" type=\"checkbox\" ><label for=\"sk-estimator-id-29\" class=\"sk-toggleable__label sk-toggleable__label-arrow\">SmoothCurve</label><div class=\"sk-toggleable__content\"><pre>SmoothCurve()</pre></div></div></div><div class=\"sk-item\"><div class=\"sk-estimator sk-toggleable\"><input class=\"sk-toggleable__control sk-hidden--visually\" id=\"sk-estimator-id-30\" type=\"checkbox\" ><label for=\"sk-estimator-id-30\" class=\"sk-toggleable__label sk-toggleable__label-arrow\">StandardScaler</label><div class=\"sk-toggleable__content\"><pre>StandardScaler()</pre></div></div></div><div class=\"sk-item\"><div class=\"sk-estimator sk-toggleable\"><input class=\"sk-toggleable__control sk-hidden--visually\" id=\"sk-estimator-id-31\" type=\"checkbox\" ><label for=\"sk-estimator-id-31\" class=\"sk-toggleable__label sk-toggleable__label-arrow\">CreateStatsDataframe</label><div class=\"sk-toggleable__content\"><pre>CreateStatsDataframe()</pre></div></div></div><div class=\"sk-item\"><div class=\"sk-estimator sk-toggleable\"><input class=\"sk-toggleable__control sk-hidden--visually\" id=\"sk-estimator-id-32\" type=\"checkbox\" ><label for=\"sk-estimator-id-32\" class=\"sk-toggleable__label sk-toggleable__label-arrow\">LgbmModel</label><div class=\"sk-toggleable__content\"><pre>&lt;lgbm_model.LgbmModel object at 0x13978b100&gt;</pre></div></div></div></div></div></div></div></div><div class=\"sk-parallel-item\"><div class=\"sk-item\"><div class=\"sk-label-container\"><div class=\"sk-label sk-toggleable\"><label>part_6</label></div></div><div class=\"sk-serial\"><div class=\"sk-item\"><div class=\"sk-serial\"><div class=\"sk-item\"><div class=\"sk-estimator sk-toggleable\"><input class=\"sk-toggleable__control sk-hidden--visually\" id=\"sk-estimator-id-33\" type=\"checkbox\" ><label for=\"sk-estimator-id-33\" class=\"sk-toggleable__label sk-toggleable__label-arrow\">DropColumnTransformer</label><div class=\"sk-toggleable__content\"><pre>DropColumnTransformer(columns_to_drop=[&#x27;changepoint&#x27;])</pre></div></div></div><div class=\"sk-item\"><div class=\"sk-estimator sk-toggleable\"><input class=\"sk-toggleable__control sk-hidden--visually\" id=\"sk-estimator-id-34\" type=\"checkbox\" ><label for=\"sk-estimator-id-34\" class=\"sk-toggleable__label sk-toggleable__label-arrow\">SmoothCurve</label><div class=\"sk-toggleable__content\"><pre>SmoothCurve()</pre></div></div></div><div class=\"sk-item\"><div class=\"sk-estimator sk-toggleable\"><input class=\"sk-toggleable__control sk-hidden--visually\" id=\"sk-estimator-id-35\" type=\"checkbox\" ><label for=\"sk-estimator-id-35\" class=\"sk-toggleable__label sk-toggleable__label-arrow\">StandardScaler</label><div class=\"sk-toggleable__content\"><pre>StandardScaler()</pre></div></div></div><div class=\"sk-item\"><div class=\"sk-estimator sk-toggleable\"><input class=\"sk-toggleable__control sk-hidden--visually\" id=\"sk-estimator-id-36\" type=\"checkbox\" ><label for=\"sk-estimator-id-36\" class=\"sk-toggleable__label sk-toggleable__label-arrow\">CreateStatsDataframe</label><div class=\"sk-toggleable__content\"><pre>CreateStatsDataframe()</pre></div></div></div><div class=\"sk-item\"><div class=\"sk-estimator sk-toggleable\"><input class=\"sk-toggleable__control sk-hidden--visually\" id=\"sk-estimator-id-37\" type=\"checkbox\" ><label for=\"sk-estimator-id-37\" class=\"sk-toggleable__label sk-toggleable__label-arrow\">LgbmModel</label><div class=\"sk-toggleable__content\"><pre>&lt;lgbm_model.LgbmModel object at 0x13978b8e0&gt;</pre></div></div></div></div></div></div></div></div></div></div><div class=\"sk-item\"><div class=\"sk-estimator sk-toggleable\"><input class=\"sk-toggleable__control sk-hidden--visually\" id=\"sk-estimator-id-38\" type=\"checkbox\" ><label for=\"sk-estimator-id-38\" class=\"sk-toggleable__label sk-toggleable__label-arrow\">AggregateModelScores</label><div class=\"sk-toggleable__content\"><pre>AggregateModelScores()</pre></div></div></div></div></div></div></div>"
      ],
      "text/plain": [
       "Pipeline(steps=[('transformations',\n",
       "                 FeatureUnion(transformer_list=[('part_0',\n",
       "                                                 Pipeline(steps=[('drop_changepoint',\n",
       "                                                                  DropColumnTransformer(columns_to_drop=['changepoint'])),\n",
       "                                                                 ('smooth',\n",
       "                                                                  SmoothCurve()),\n",
       "                                                                 ('scaler',\n",
       "                                                                  StandardScaler()),\n",
       "                                                                 ('df_creator',\n",
       "                                                                  CreateStatsDataframe()),\n",
       "                                                                 ('classifier',\n",
       "                                                                  <lgbm_model.LgbmModel object at 0x13978a050>)])),\n",
       "                                                ('part_1',\n",
       "                                                 Pipeline(steps=[('dro...\n",
       "                                                                 ('classifier',\n",
       "                                                                  <lgbm_model.LgbmModel object at 0x13978b100>)])),\n",
       "                                                ('part_6',\n",
       "                                                 Pipeline(steps=[('drop_changepoint',\n",
       "                                                                  DropColumnTransformer(columns_to_drop=['changepoint'])),\n",
       "                                                                 ('smooth',\n",
       "                                                                  SmoothCurve()),\n",
       "                                                                 ('scaler',\n",
       "                                                                  StandardScaler()),\n",
       "                                                                 ('df_creator',\n",
       "                                                                  CreateStatsDataframe()),\n",
       "                                                                 ('classifier',\n",
       "                                                                  <lgbm_model.LgbmModel object at 0x13978b8e0>)]))])),\n",
       "                ('processing_results', AggregateModelScores())])"
      ]
     },
     "execution_count": 7,
     "metadata": {},
     "output_type": "execute_result"
    }
   ],
   "source": [
    "model_pipeline"
   ]
  },
  {
   "cell_type": "code",
   "execution_count": 8,
   "metadata": {},
   "outputs": [
    {
     "name": "stdout",
     "output_type": "stream",
     "text": [
      "[LightGBM] [Info] Number of positive: 505, number of negative: 1309\n",
      "[LightGBM] [Info] Total Bins 6116\n",
      "[LightGBM] [Info] Number of data points in the train set: 1814, number of used features: 24\n",
      "[LightGBM] [Info] [binary:BoostFromScore]: pavg=0.278390 -> initscore=-0.952460\n",
      "[LightGBM] [Info] Start training from score -0.952460\n",
      "[LightGBM] [Warning] No further splits with positive gain, best gain: -inf\n",
      "[LightGBM] [Warning] No further splits with positive gain, best gain: -inf\n",
      "[LightGBM] [Warning] No further splits with positive gain, best gain: -inf\n",
      "[LightGBM] [Info] Number of positive: 635, number of negative: 1179\n",
      "[LightGBM] [Info] Total Bins 6120\n",
      "[LightGBM] [Info] Number of data points in the train set: 1814, number of used features: 24\n",
      "[LightGBM] [Info] [binary:BoostFromScore]: pavg=0.350055 -> initscore=-0.618797\n",
      "[LightGBM] [Info] Start training from score -0.618797\n",
      "[LightGBM] [Warning] No further splits with positive gain, best gain: -inf\n",
      "[LightGBM] [Warning] No further splits with positive gain, best gain: -inf\n",
      "[LightGBM] [Info] Number of positive: 753, number of negative: 1061\n",
      "[LightGBM] [Info] Total Bins 6112\n",
      "[LightGBM] [Info] Number of data points in the train set: 1814, number of used features: 24\n",
      "[LightGBM] [Info] [binary:BoostFromScore]: pavg=0.415105 -> initscore=-0.342902\n",
      "[LightGBM] [Info] Start training from score -0.342902\n",
      "[LightGBM] [Warning] No further splits with positive gain, best gain: -inf\n",
      "[LightGBM] [Warning] No further splits with positive gain, best gain: -inf\n",
      "[LightGBM] [Warning] No further splits with positive gain, best gain: -inf\n",
      "[LightGBM] [Warning] No further splits with positive gain, best gain: -inf\n",
      "[LightGBM] [Warning] No further splits with positive gain, best gain: -inf\n",
      "[LightGBM] [Warning] No further splits with positive gain, best gain: -inf\n",
      "[LightGBM] [Warning] No further splits with positive gain, best gain: -inf\n",
      "[LightGBM] [Warning] No further splits with positive gain, best gain: -inf\n",
      "[LightGBM] [Info] Number of positive: 403, number of negative: 1411\n",
      "[LightGBM] [Info] Total Bins 6119\n",
      "[LightGBM] [Info] Number of data points in the train set: 1814, number of used features: 24\n",
      "[LightGBM] [Info] [binary:BoostFromScore]: pavg=0.222161 -> initscore=-1.253117\n",
      "[LightGBM] [Info] Start training from score -1.253117\n",
      "[LightGBM] [Warning] No further splits with positive gain, best gain: -inf\n",
      "[LightGBM] [Warning] No further splits with positive gain, best gain: -inf\n",
      "[LightGBM] [Warning] No further splits with positive gain, best gain: -inf\n",
      "[LightGBM] [Warning] No further splits with positive gain, best gain: -inf\n",
      "[LightGBM] [Warning] No further splits with positive gain, best gain: -inf\n",
      "[LightGBM] [Warning] No further splits with positive gain, best gain: -inf\n",
      "[LightGBM] [Warning] No further splits with positive gain, best gain: -inf\n",
      "[LightGBM] [Info] Number of positive: 810, number of negative: 1004\n",
      "[LightGBM] [Info] Total Bins 6119\n",
      "[LightGBM] [Info] Number of data points in the train set: 1814, number of used features: 24\n",
      "[LightGBM] [Info] [binary:BoostFromScore]: pavg=0.446527 -> initscore=-0.214713\n",
      "[LightGBM] [Info] Start training from score -0.214713\n",
      "[LightGBM] [Warning] No further splits with positive gain, best gain: -inf\n",
      "[LightGBM] [Warning] No further splits with positive gain, best gain: -inf\n",
      "[LightGBM] [Warning] No further splits with positive gain, best gain: -inf\n",
      "[LightGBM] [Warning] No further splits with positive gain, best gain: -inf\n",
      "[LightGBM] [Warning] No further splits with positive gain, best gain: -inf\n",
      "[LightGBM] [Warning] No further splits with positive gain, best gain: -inf\n",
      "[LightGBM] [Warning] No further splits with positive gain, best gain: -inf\n",
      "[LightGBM] [Warning] No further splits with positive gain, best gain: -inf\n",
      "[LightGBM] [Info] Number of positive: 563, number of negative: 1251\n",
      "[LightGBM] [Info] Total Bins 6113\n",
      "[LightGBM] [Info] Number of data points in the train set: 1814, number of used features: 24\n",
      "[LightGBM] [Info] [binary:BoostFromScore]: pavg=0.310364 -> initscore=-0.798419\n",
      "[LightGBM] [Info] Start training from score -0.798419\n",
      "[LightGBM] [Warning] No further splits with positive gain, best gain: -inf\n",
      "[LightGBM] [Warning] No further splits with positive gain, best gain: -inf\n",
      "[LightGBM] [Warning] No further splits with positive gain, best gain: -inf\n",
      "[LightGBM] [Warning] No further splits with positive gain, best gain: -inf\n",
      "[LightGBM] [Warning] No further splits with positive gain, best gain: -inf\n",
      "[LightGBM] [Warning] No further splits with positive gain, best gain: -inf\n",
      "[LightGBM] [Warning] No further splits with positive gain, best gain: -inf\n",
      "[LightGBM] [Warning] No further splits with positive gain, best gain: -inf\n",
      "[LightGBM] [Warning] No further splits with positive gain, best gain: -inf\n",
      "[LightGBM] [Warning] No further splits with positive gain, best gain: -inf\n",
      "[LightGBM] [Warning] No further splits with positive gain, best gain: -inf\n",
      "[LightGBM] [Warning] No further splits with positive gain, best gain: -inf\n",
      "[LightGBM] [Warning] No further splits with positive gain, best gain: -inf\n",
      "[LightGBM] [Warning] No further splits with positive gain, best gain: -inf\n",
      "[LightGBM] [Info] Number of positive: 640, number of negative: 1179\n",
      "[LightGBM] [Info] Total Bins 6119\n",
      "[LightGBM] [Info] Number of data points in the train set: 1819, number of used features: 24\n",
      "[LightGBM] [Info] [binary:BoostFromScore]: pavg=0.351842 -> initscore=-0.610954\n",
      "[LightGBM] [Info] Start training from score -0.610954\n",
      "[LightGBM] [Warning] No further splits with positive gain, best gain: -inf\n",
      "[LightGBM] [Warning] No further splits with positive gain, best gain: -inf\n",
      "[LightGBM] [Warning] No further splits with positive gain, best gain: -inf\n",
      "[LightGBM] [Warning] No further splits with positive gain, best gain: -inf\n",
      "[LightGBM] [Warning] No further splits with positive gain, best gain: -inf\n",
      "[LightGBM] [Warning] No further splits with positive gain, best gain: -inf\n",
      "[LightGBM] [Warning] No further splits with positive gain, best gain: -inf\n",
      "[LightGBM] [Warning] No further splits with positive gain, best gain: -inf\n",
      "[LightGBM] [Warning] No further splits with positive gain, best gain: -inf\n",
      "[LightGBM] [Warning] No further splits with positive gain, best gain: -inf\n",
      "[LightGBM] [Warning] No further splits with positive gain, best gain: -inf\n",
      "[LightGBM] [Warning] No further splits with positive gain, best gain: -inf\n",
      "[LightGBM] [Warning] No further splits with positive gain, best gain: -inf\n",
      "[LightGBM] [Warning] No further splits with positive gain, best gain: -inf\n",
      "[LightGBM] [Warning] No further splits with positive gain, best gain: -inf\n"
     ]
    },
    {
     "data": {
      "text/html": [
       "<style>#sk-container-id-2 {color: black;background-color: white;}#sk-container-id-2 pre{padding: 0;}#sk-container-id-2 div.sk-toggleable {background-color: white;}#sk-container-id-2 label.sk-toggleable__label {cursor: pointer;display: block;width: 100%;margin-bottom: 0;padding: 0.3em;box-sizing: border-box;text-align: center;}#sk-container-id-2 label.sk-toggleable__label-arrow:before {content: \"▸\";float: left;margin-right: 0.25em;color: #696969;}#sk-container-id-2 label.sk-toggleable__label-arrow:hover:before {color: black;}#sk-container-id-2 div.sk-estimator:hover label.sk-toggleable__label-arrow:before {color: black;}#sk-container-id-2 div.sk-toggleable__content {max-height: 0;max-width: 0;overflow: hidden;text-align: left;background-color: #f0f8ff;}#sk-container-id-2 div.sk-toggleable__content pre {margin: 0.2em;color: black;border-radius: 0.25em;background-color: #f0f8ff;}#sk-container-id-2 input.sk-toggleable__control:checked~div.sk-toggleable__content {max-height: 200px;max-width: 100%;overflow: auto;}#sk-container-id-2 input.sk-toggleable__control:checked~label.sk-toggleable__label-arrow:before {content: \"▾\";}#sk-container-id-2 div.sk-estimator input.sk-toggleable__control:checked~label.sk-toggleable__label {background-color: #d4ebff;}#sk-container-id-2 div.sk-label input.sk-toggleable__control:checked~label.sk-toggleable__label {background-color: #d4ebff;}#sk-container-id-2 input.sk-hidden--visually {border: 0;clip: rect(1px 1px 1px 1px);clip: rect(1px, 1px, 1px, 1px);height: 1px;margin: -1px;overflow: hidden;padding: 0;position: absolute;width: 1px;}#sk-container-id-2 div.sk-estimator {font-family: monospace;background-color: #f0f8ff;border: 1px dotted black;border-radius: 0.25em;box-sizing: border-box;margin-bottom: 0.5em;}#sk-container-id-2 div.sk-estimator:hover {background-color: #d4ebff;}#sk-container-id-2 div.sk-parallel-item::after {content: \"\";width: 100%;border-bottom: 1px solid gray;flex-grow: 1;}#sk-container-id-2 div.sk-label:hover label.sk-toggleable__label {background-color: #d4ebff;}#sk-container-id-2 div.sk-serial::before {content: \"\";position: absolute;border-left: 1px solid gray;box-sizing: border-box;top: 0;bottom: 0;left: 50%;z-index: 0;}#sk-container-id-2 div.sk-serial {display: flex;flex-direction: column;align-items: center;background-color: white;padding-right: 0.2em;padding-left: 0.2em;position: relative;}#sk-container-id-2 div.sk-item {position: relative;z-index: 1;}#sk-container-id-2 div.sk-parallel {display: flex;align-items: stretch;justify-content: center;background-color: white;position: relative;}#sk-container-id-2 div.sk-item::before, #sk-container-id-2 div.sk-parallel-item::before {content: \"\";position: absolute;border-left: 1px solid gray;box-sizing: border-box;top: 0;bottom: 0;left: 50%;z-index: -1;}#sk-container-id-2 div.sk-parallel-item {display: flex;flex-direction: column;z-index: 1;position: relative;background-color: white;}#sk-container-id-2 div.sk-parallel-item:first-child::after {align-self: flex-end;width: 50%;}#sk-container-id-2 div.sk-parallel-item:last-child::after {align-self: flex-start;width: 50%;}#sk-container-id-2 div.sk-parallel-item:only-child::after {width: 0;}#sk-container-id-2 div.sk-dashed-wrapped {border: 1px dashed gray;margin: 0 0.4em 0.5em 0.4em;box-sizing: border-box;padding-bottom: 0.4em;background-color: white;}#sk-container-id-2 div.sk-label label {font-family: monospace;font-weight: bold;display: inline-block;line-height: 1.2em;}#sk-container-id-2 div.sk-label-container {text-align: center;}#sk-container-id-2 div.sk-container {/* jupyter's `normalize.less` sets `[hidden] { display: none; }` but bootstrap.min.css set `[hidden] { display: none !important; }` so we also need the `!important` here to be able to override the default hidden behavior on the sphinx rendered scikit-learn.org. See: https://github.com/scikit-learn/scikit-learn/issues/21755 */display: inline-block !important;position: relative;}#sk-container-id-2 div.sk-text-repr-fallback {display: none;}</style><div id=\"sk-container-id-2\" class=\"sk-top-container\"><div class=\"sk-text-repr-fallback\"><pre>Pipeline(steps=[(&#x27;transformations&#x27;,\n",
       "                 FeatureUnion(transformer_list=[(&#x27;part_0&#x27;,\n",
       "                                                 Pipeline(steps=[(&#x27;drop_changepoint&#x27;,\n",
       "                                                                  DropColumnTransformer(columns_to_drop=[&#x27;changepoint&#x27;])),\n",
       "                                                                 (&#x27;smooth&#x27;,\n",
       "                                                                  SmoothCurve()),\n",
       "                                                                 (&#x27;scaler&#x27;,\n",
       "                                                                  StandardScaler()),\n",
       "                                                                 (&#x27;df_creator&#x27;,\n",
       "                                                                  CreateStatsDataframe()),\n",
       "                                                                 (&#x27;classifier&#x27;,\n",
       "                                                                  &lt;lgbm_model.LgbmModel object at 0x13978a050&gt;)])),\n",
       "                                                (&#x27;part_1&#x27;,\n",
       "                                                 Pipeline(steps=[(&#x27;dro...\n",
       "                                                                 (&#x27;classifier&#x27;,\n",
       "                                                                  &lt;lgbm_model.LgbmModel object at 0x13978b100&gt;)])),\n",
       "                                                (&#x27;part_6&#x27;,\n",
       "                                                 Pipeline(steps=[(&#x27;drop_changepoint&#x27;,\n",
       "                                                                  DropColumnTransformer(columns_to_drop=[&#x27;changepoint&#x27;])),\n",
       "                                                                 (&#x27;smooth&#x27;,\n",
       "                                                                  SmoothCurve()),\n",
       "                                                                 (&#x27;scaler&#x27;,\n",
       "                                                                  StandardScaler()),\n",
       "                                                                 (&#x27;df_creator&#x27;,\n",
       "                                                                  CreateStatsDataframe()),\n",
       "                                                                 (&#x27;classifier&#x27;,\n",
       "                                                                  &lt;lgbm_model.LgbmModel object at 0x13978b8e0&gt;)]))])),\n",
       "                (&#x27;processing_results&#x27;, AggregateModelScores())])</pre><b>In a Jupyter environment, please rerun this cell to show the HTML representation or trust the notebook. <br />On GitHub, the HTML representation is unable to render, please try loading this page with nbviewer.org.</b></div><div class=\"sk-container\" hidden><div class=\"sk-item sk-dashed-wrapped\"><div class=\"sk-label-container\"><div class=\"sk-label sk-toggleable\"><input class=\"sk-toggleable__control sk-hidden--visually\" id=\"sk-estimator-id-39\" type=\"checkbox\" ><label for=\"sk-estimator-id-39\" class=\"sk-toggleable__label sk-toggleable__label-arrow\">Pipeline</label><div class=\"sk-toggleable__content\"><pre>Pipeline(steps=[(&#x27;transformations&#x27;,\n",
       "                 FeatureUnion(transformer_list=[(&#x27;part_0&#x27;,\n",
       "                                                 Pipeline(steps=[(&#x27;drop_changepoint&#x27;,\n",
       "                                                                  DropColumnTransformer(columns_to_drop=[&#x27;changepoint&#x27;])),\n",
       "                                                                 (&#x27;smooth&#x27;,\n",
       "                                                                  SmoothCurve()),\n",
       "                                                                 (&#x27;scaler&#x27;,\n",
       "                                                                  StandardScaler()),\n",
       "                                                                 (&#x27;df_creator&#x27;,\n",
       "                                                                  CreateStatsDataframe()),\n",
       "                                                                 (&#x27;classifier&#x27;,\n",
       "                                                                  &lt;lgbm_model.LgbmModel object at 0x13978a050&gt;)])),\n",
       "                                                (&#x27;part_1&#x27;,\n",
       "                                                 Pipeline(steps=[(&#x27;dro...\n",
       "                                                                 (&#x27;classifier&#x27;,\n",
       "                                                                  &lt;lgbm_model.LgbmModel object at 0x13978b100&gt;)])),\n",
       "                                                (&#x27;part_6&#x27;,\n",
       "                                                 Pipeline(steps=[(&#x27;drop_changepoint&#x27;,\n",
       "                                                                  DropColumnTransformer(columns_to_drop=[&#x27;changepoint&#x27;])),\n",
       "                                                                 (&#x27;smooth&#x27;,\n",
       "                                                                  SmoothCurve()),\n",
       "                                                                 (&#x27;scaler&#x27;,\n",
       "                                                                  StandardScaler()),\n",
       "                                                                 (&#x27;df_creator&#x27;,\n",
       "                                                                  CreateStatsDataframe()),\n",
       "                                                                 (&#x27;classifier&#x27;,\n",
       "                                                                  &lt;lgbm_model.LgbmModel object at 0x13978b8e0&gt;)]))])),\n",
       "                (&#x27;processing_results&#x27;, AggregateModelScores())])</pre></div></div></div><div class=\"sk-serial\"><div class=\"sk-item sk-dashed-wrapped\"><div class=\"sk-label-container\"><div class=\"sk-label sk-toggleable\"><input class=\"sk-toggleable__control sk-hidden--visually\" id=\"sk-estimator-id-40\" type=\"checkbox\" ><label for=\"sk-estimator-id-40\" class=\"sk-toggleable__label sk-toggleable__label-arrow\">transformations: FeatureUnion</label><div class=\"sk-toggleable__content\"><pre>FeatureUnion(transformer_list=[(&#x27;part_0&#x27;,\n",
       "                                Pipeline(steps=[(&#x27;drop_changepoint&#x27;,\n",
       "                                                 DropColumnTransformer(columns_to_drop=[&#x27;changepoint&#x27;])),\n",
       "                                                (&#x27;smooth&#x27;, SmoothCurve()),\n",
       "                                                (&#x27;scaler&#x27;, StandardScaler()),\n",
       "                                                (&#x27;df_creator&#x27;,\n",
       "                                                 CreateStatsDataframe()),\n",
       "                                                (&#x27;classifier&#x27;,\n",
       "                                                 &lt;lgbm_model.LgbmModel object at 0x13978a050&gt;)])),\n",
       "                               (&#x27;part_1&#x27;,\n",
       "                                Pipeline(steps=[(&#x27;drop_changepoint&#x27;,\n",
       "                                                 DropColumnTransforme...\n",
       "                                                (&#x27;df_creator&#x27;,\n",
       "                                                 CreateStatsDataframe()),\n",
       "                                                (&#x27;classifier&#x27;,\n",
       "                                                 &lt;lgbm_model.LgbmModel object at 0x13978b100&gt;)])),\n",
       "                               (&#x27;part_6&#x27;,\n",
       "                                Pipeline(steps=[(&#x27;drop_changepoint&#x27;,\n",
       "                                                 DropColumnTransformer(columns_to_drop=[&#x27;changepoint&#x27;])),\n",
       "                                                (&#x27;smooth&#x27;, SmoothCurve()),\n",
       "                                                (&#x27;scaler&#x27;, StandardScaler()),\n",
       "                                                (&#x27;df_creator&#x27;,\n",
       "                                                 CreateStatsDataframe()),\n",
       "                                                (&#x27;classifier&#x27;,\n",
       "                                                 &lt;lgbm_model.LgbmModel object at 0x13978b8e0&gt;)]))])</pre></div></div></div><div class=\"sk-parallel\"><div class=\"sk-parallel-item\"><div class=\"sk-item\"><div class=\"sk-label-container\"><div class=\"sk-label sk-toggleable\"><label>part_0</label></div></div><div class=\"sk-serial\"><div class=\"sk-item\"><div class=\"sk-serial\"><div class=\"sk-item\"><div class=\"sk-estimator sk-toggleable\"><input class=\"sk-toggleable__control sk-hidden--visually\" id=\"sk-estimator-id-41\" type=\"checkbox\" ><label for=\"sk-estimator-id-41\" class=\"sk-toggleable__label sk-toggleable__label-arrow\">DropColumnTransformer</label><div class=\"sk-toggleable__content\"><pre>DropColumnTransformer(columns_to_drop=[&#x27;changepoint&#x27;])</pre></div></div></div><div class=\"sk-item\"><div class=\"sk-estimator sk-toggleable\"><input class=\"sk-toggleable__control sk-hidden--visually\" id=\"sk-estimator-id-42\" type=\"checkbox\" ><label for=\"sk-estimator-id-42\" class=\"sk-toggleable__label sk-toggleable__label-arrow\">SmoothCurve</label><div class=\"sk-toggleable__content\"><pre>SmoothCurve()</pre></div></div></div><div class=\"sk-item\"><div class=\"sk-estimator sk-toggleable\"><input class=\"sk-toggleable__control sk-hidden--visually\" id=\"sk-estimator-id-43\" type=\"checkbox\" ><label for=\"sk-estimator-id-43\" class=\"sk-toggleable__label sk-toggleable__label-arrow\">StandardScaler</label><div class=\"sk-toggleable__content\"><pre>StandardScaler()</pre></div></div></div><div class=\"sk-item\"><div class=\"sk-estimator sk-toggleable\"><input class=\"sk-toggleable__control sk-hidden--visually\" id=\"sk-estimator-id-44\" type=\"checkbox\" ><label for=\"sk-estimator-id-44\" class=\"sk-toggleable__label sk-toggleable__label-arrow\">CreateStatsDataframe</label><div class=\"sk-toggleable__content\"><pre>CreateStatsDataframe()</pre></div></div></div><div class=\"sk-item\"><div class=\"sk-estimator sk-toggleable\"><input class=\"sk-toggleable__control sk-hidden--visually\" id=\"sk-estimator-id-45\" type=\"checkbox\" ><label for=\"sk-estimator-id-45\" class=\"sk-toggleable__label sk-toggleable__label-arrow\">LgbmModel</label><div class=\"sk-toggleable__content\"><pre>&lt;lgbm_model.LgbmModel object at 0x13978a050&gt;</pre></div></div></div></div></div></div></div></div><div class=\"sk-parallel-item\"><div class=\"sk-item\"><div class=\"sk-label-container\"><div class=\"sk-label sk-toggleable\"><label>part_1</label></div></div><div class=\"sk-serial\"><div class=\"sk-item\"><div class=\"sk-serial\"><div class=\"sk-item\"><div class=\"sk-estimator sk-toggleable\"><input class=\"sk-toggleable__control sk-hidden--visually\" id=\"sk-estimator-id-46\" type=\"checkbox\" ><label for=\"sk-estimator-id-46\" class=\"sk-toggleable__label sk-toggleable__label-arrow\">DropColumnTransformer</label><div class=\"sk-toggleable__content\"><pre>DropColumnTransformer(columns_to_drop=[&#x27;changepoint&#x27;])</pre></div></div></div><div class=\"sk-item\"><div class=\"sk-estimator sk-toggleable\"><input class=\"sk-toggleable__control sk-hidden--visually\" id=\"sk-estimator-id-47\" type=\"checkbox\" ><label for=\"sk-estimator-id-47\" class=\"sk-toggleable__label sk-toggleable__label-arrow\">SmoothCurve</label><div class=\"sk-toggleable__content\"><pre>SmoothCurve()</pre></div></div></div><div class=\"sk-item\"><div class=\"sk-estimator sk-toggleable\"><input class=\"sk-toggleable__control sk-hidden--visually\" id=\"sk-estimator-id-48\" type=\"checkbox\" ><label for=\"sk-estimator-id-48\" class=\"sk-toggleable__label sk-toggleable__label-arrow\">StandardScaler</label><div class=\"sk-toggleable__content\"><pre>StandardScaler()</pre></div></div></div><div class=\"sk-item\"><div class=\"sk-estimator sk-toggleable\"><input class=\"sk-toggleable__control sk-hidden--visually\" id=\"sk-estimator-id-49\" type=\"checkbox\" ><label for=\"sk-estimator-id-49\" class=\"sk-toggleable__label sk-toggleable__label-arrow\">CreateStatsDataframe</label><div class=\"sk-toggleable__content\"><pre>CreateStatsDataframe()</pre></div></div></div><div class=\"sk-item\"><div class=\"sk-estimator sk-toggleable\"><input class=\"sk-toggleable__control sk-hidden--visually\" id=\"sk-estimator-id-50\" type=\"checkbox\" ><label for=\"sk-estimator-id-50\" class=\"sk-toggleable__label sk-toggleable__label-arrow\">LgbmModel</label><div class=\"sk-toggleable__content\"><pre>&lt;lgbm_model.LgbmModel object at 0x13978a9b0&gt;</pre></div></div></div></div></div></div></div></div><div class=\"sk-parallel-item\"><div class=\"sk-item\"><div class=\"sk-label-container\"><div class=\"sk-label sk-toggleable\"><label>part_2</label></div></div><div class=\"sk-serial\"><div class=\"sk-item\"><div class=\"sk-serial\"><div class=\"sk-item\"><div class=\"sk-estimator sk-toggleable\"><input class=\"sk-toggleable__control sk-hidden--visually\" id=\"sk-estimator-id-51\" type=\"checkbox\" ><label for=\"sk-estimator-id-51\" class=\"sk-toggleable__label sk-toggleable__label-arrow\">DropColumnTransformer</label><div class=\"sk-toggleable__content\"><pre>DropColumnTransformer(columns_to_drop=[&#x27;changepoint&#x27;])</pre></div></div></div><div class=\"sk-item\"><div class=\"sk-estimator sk-toggleable\"><input class=\"sk-toggleable__control sk-hidden--visually\" id=\"sk-estimator-id-52\" type=\"checkbox\" ><label for=\"sk-estimator-id-52\" class=\"sk-toggleable__label sk-toggleable__label-arrow\">SmoothCurve</label><div class=\"sk-toggleable__content\"><pre>SmoothCurve()</pre></div></div></div><div class=\"sk-item\"><div class=\"sk-estimator sk-toggleable\"><input class=\"sk-toggleable__control sk-hidden--visually\" id=\"sk-estimator-id-53\" type=\"checkbox\" ><label for=\"sk-estimator-id-53\" class=\"sk-toggleable__label sk-toggleable__label-arrow\">StandardScaler</label><div class=\"sk-toggleable__content\"><pre>StandardScaler()</pre></div></div></div><div class=\"sk-item\"><div class=\"sk-estimator sk-toggleable\"><input class=\"sk-toggleable__control sk-hidden--visually\" id=\"sk-estimator-id-54\" type=\"checkbox\" ><label for=\"sk-estimator-id-54\" class=\"sk-toggleable__label sk-toggleable__label-arrow\">CreateStatsDataframe</label><div class=\"sk-toggleable__content\"><pre>CreateStatsDataframe()</pre></div></div></div><div class=\"sk-item\"><div class=\"sk-estimator sk-toggleable\"><input class=\"sk-toggleable__control sk-hidden--visually\" id=\"sk-estimator-id-55\" type=\"checkbox\" ><label for=\"sk-estimator-id-55\" class=\"sk-toggleable__label sk-toggleable__label-arrow\">LgbmModel</label><div class=\"sk-toggleable__content\"><pre>&lt;lgbm_model.LgbmModel object at 0x13978b010&gt;</pre></div></div></div></div></div></div></div></div><div class=\"sk-parallel-item\"><div class=\"sk-item\"><div class=\"sk-label-container\"><div class=\"sk-label sk-toggleable\"><label>part_3</label></div></div><div class=\"sk-serial\"><div class=\"sk-item\"><div class=\"sk-serial\"><div class=\"sk-item\"><div class=\"sk-estimator sk-toggleable\"><input class=\"sk-toggleable__control sk-hidden--visually\" id=\"sk-estimator-id-56\" type=\"checkbox\" ><label for=\"sk-estimator-id-56\" class=\"sk-toggleable__label sk-toggleable__label-arrow\">DropColumnTransformer</label><div class=\"sk-toggleable__content\"><pre>DropColumnTransformer(columns_to_drop=[&#x27;changepoint&#x27;])</pre></div></div></div><div class=\"sk-item\"><div class=\"sk-estimator sk-toggleable\"><input class=\"sk-toggleable__control sk-hidden--visually\" id=\"sk-estimator-id-57\" type=\"checkbox\" ><label for=\"sk-estimator-id-57\" class=\"sk-toggleable__label sk-toggleable__label-arrow\">SmoothCurve</label><div class=\"sk-toggleable__content\"><pre>SmoothCurve()</pre></div></div></div><div class=\"sk-item\"><div class=\"sk-estimator sk-toggleable\"><input class=\"sk-toggleable__control sk-hidden--visually\" id=\"sk-estimator-id-58\" type=\"checkbox\" ><label for=\"sk-estimator-id-58\" class=\"sk-toggleable__label sk-toggleable__label-arrow\">StandardScaler</label><div class=\"sk-toggleable__content\"><pre>StandardScaler()</pre></div></div></div><div class=\"sk-item\"><div class=\"sk-estimator sk-toggleable\"><input class=\"sk-toggleable__control sk-hidden--visually\" id=\"sk-estimator-id-59\" type=\"checkbox\" ><label for=\"sk-estimator-id-59\" class=\"sk-toggleable__label sk-toggleable__label-arrow\">CreateStatsDataframe</label><div class=\"sk-toggleable__content\"><pre>CreateStatsDataframe()</pre></div></div></div><div class=\"sk-item\"><div class=\"sk-estimator sk-toggleable\"><input class=\"sk-toggleable__control sk-hidden--visually\" id=\"sk-estimator-id-60\" type=\"checkbox\" ><label for=\"sk-estimator-id-60\" class=\"sk-toggleable__label sk-toggleable__label-arrow\">LgbmModel</label><div class=\"sk-toggleable__content\"><pre>&lt;lgbm_model.LgbmModel object at 0x13978a860&gt;</pre></div></div></div></div></div></div></div></div><div class=\"sk-parallel-item\"><div class=\"sk-item\"><div class=\"sk-label-container\"><div class=\"sk-label sk-toggleable\"><label>part_4</label></div></div><div class=\"sk-serial\"><div class=\"sk-item\"><div class=\"sk-serial\"><div class=\"sk-item\"><div class=\"sk-estimator sk-toggleable\"><input class=\"sk-toggleable__control sk-hidden--visually\" id=\"sk-estimator-id-61\" type=\"checkbox\" ><label for=\"sk-estimator-id-61\" class=\"sk-toggleable__label sk-toggleable__label-arrow\">DropColumnTransformer</label><div class=\"sk-toggleable__content\"><pre>DropColumnTransformer(columns_to_drop=[&#x27;changepoint&#x27;])</pre></div></div></div><div class=\"sk-item\"><div class=\"sk-estimator sk-toggleable\"><input class=\"sk-toggleable__control sk-hidden--visually\" id=\"sk-estimator-id-62\" type=\"checkbox\" ><label for=\"sk-estimator-id-62\" class=\"sk-toggleable__label sk-toggleable__label-arrow\">SmoothCurve</label><div class=\"sk-toggleable__content\"><pre>SmoothCurve()</pre></div></div></div><div class=\"sk-item\"><div class=\"sk-estimator sk-toggleable\"><input class=\"sk-toggleable__control sk-hidden--visually\" id=\"sk-estimator-id-63\" type=\"checkbox\" ><label for=\"sk-estimator-id-63\" class=\"sk-toggleable__label sk-toggleable__label-arrow\">StandardScaler</label><div class=\"sk-toggleable__content\"><pre>StandardScaler()</pre></div></div></div><div class=\"sk-item\"><div class=\"sk-estimator sk-toggleable\"><input class=\"sk-toggleable__control sk-hidden--visually\" id=\"sk-estimator-id-64\" type=\"checkbox\" ><label for=\"sk-estimator-id-64\" class=\"sk-toggleable__label sk-toggleable__label-arrow\">CreateStatsDataframe</label><div class=\"sk-toggleable__content\"><pre>CreateStatsDataframe()</pre></div></div></div><div class=\"sk-item\"><div class=\"sk-estimator sk-toggleable\"><input class=\"sk-toggleable__control sk-hidden--visually\" id=\"sk-estimator-id-65\" type=\"checkbox\" ><label for=\"sk-estimator-id-65\" class=\"sk-toggleable__label sk-toggleable__label-arrow\">LgbmModel</label><div class=\"sk-toggleable__content\"><pre>&lt;lgbm_model.LgbmModel object at 0x13978b700&gt;</pre></div></div></div></div></div></div></div></div><div class=\"sk-parallel-item\"><div class=\"sk-item\"><div class=\"sk-label-container\"><div class=\"sk-label sk-toggleable\"><label>part_5</label></div></div><div class=\"sk-serial\"><div class=\"sk-item\"><div class=\"sk-serial\"><div class=\"sk-item\"><div class=\"sk-estimator sk-toggleable\"><input class=\"sk-toggleable__control sk-hidden--visually\" id=\"sk-estimator-id-66\" type=\"checkbox\" ><label for=\"sk-estimator-id-66\" class=\"sk-toggleable__label sk-toggleable__label-arrow\">DropColumnTransformer</label><div class=\"sk-toggleable__content\"><pre>DropColumnTransformer(columns_to_drop=[&#x27;changepoint&#x27;])</pre></div></div></div><div class=\"sk-item\"><div class=\"sk-estimator sk-toggleable\"><input class=\"sk-toggleable__control sk-hidden--visually\" id=\"sk-estimator-id-67\" type=\"checkbox\" ><label for=\"sk-estimator-id-67\" class=\"sk-toggleable__label sk-toggleable__label-arrow\">SmoothCurve</label><div class=\"sk-toggleable__content\"><pre>SmoothCurve()</pre></div></div></div><div class=\"sk-item\"><div class=\"sk-estimator sk-toggleable\"><input class=\"sk-toggleable__control sk-hidden--visually\" id=\"sk-estimator-id-68\" type=\"checkbox\" ><label for=\"sk-estimator-id-68\" class=\"sk-toggleable__label sk-toggleable__label-arrow\">StandardScaler</label><div class=\"sk-toggleable__content\"><pre>StandardScaler()</pre></div></div></div><div class=\"sk-item\"><div class=\"sk-estimator sk-toggleable\"><input class=\"sk-toggleable__control sk-hidden--visually\" id=\"sk-estimator-id-69\" type=\"checkbox\" ><label for=\"sk-estimator-id-69\" class=\"sk-toggleable__label sk-toggleable__label-arrow\">CreateStatsDataframe</label><div class=\"sk-toggleable__content\"><pre>CreateStatsDataframe()</pre></div></div></div><div class=\"sk-item\"><div class=\"sk-estimator sk-toggleable\"><input class=\"sk-toggleable__control sk-hidden--visually\" id=\"sk-estimator-id-70\" type=\"checkbox\" ><label for=\"sk-estimator-id-70\" class=\"sk-toggleable__label sk-toggleable__label-arrow\">LgbmModel</label><div class=\"sk-toggleable__content\"><pre>&lt;lgbm_model.LgbmModel object at 0x13978b100&gt;</pre></div></div></div></div></div></div></div></div><div class=\"sk-parallel-item\"><div class=\"sk-item\"><div class=\"sk-label-container\"><div class=\"sk-label sk-toggleable\"><label>part_6</label></div></div><div class=\"sk-serial\"><div class=\"sk-item\"><div class=\"sk-serial\"><div class=\"sk-item\"><div class=\"sk-estimator sk-toggleable\"><input class=\"sk-toggleable__control sk-hidden--visually\" id=\"sk-estimator-id-71\" type=\"checkbox\" ><label for=\"sk-estimator-id-71\" class=\"sk-toggleable__label sk-toggleable__label-arrow\">DropColumnTransformer</label><div class=\"sk-toggleable__content\"><pre>DropColumnTransformer(columns_to_drop=[&#x27;changepoint&#x27;])</pre></div></div></div><div class=\"sk-item\"><div class=\"sk-estimator sk-toggleable\"><input class=\"sk-toggleable__control sk-hidden--visually\" id=\"sk-estimator-id-72\" type=\"checkbox\" ><label for=\"sk-estimator-id-72\" class=\"sk-toggleable__label sk-toggleable__label-arrow\">SmoothCurve</label><div class=\"sk-toggleable__content\"><pre>SmoothCurve()</pre></div></div></div><div class=\"sk-item\"><div class=\"sk-estimator sk-toggleable\"><input class=\"sk-toggleable__control sk-hidden--visually\" id=\"sk-estimator-id-73\" type=\"checkbox\" ><label for=\"sk-estimator-id-73\" class=\"sk-toggleable__label sk-toggleable__label-arrow\">StandardScaler</label><div class=\"sk-toggleable__content\"><pre>StandardScaler()</pre></div></div></div><div class=\"sk-item\"><div class=\"sk-estimator sk-toggleable\"><input class=\"sk-toggleable__control sk-hidden--visually\" id=\"sk-estimator-id-74\" type=\"checkbox\" ><label for=\"sk-estimator-id-74\" class=\"sk-toggleable__label sk-toggleable__label-arrow\">CreateStatsDataframe</label><div class=\"sk-toggleable__content\"><pre>CreateStatsDataframe()</pre></div></div></div><div class=\"sk-item\"><div class=\"sk-estimator sk-toggleable\"><input class=\"sk-toggleable__control sk-hidden--visually\" id=\"sk-estimator-id-75\" type=\"checkbox\" ><label for=\"sk-estimator-id-75\" class=\"sk-toggleable__label sk-toggleable__label-arrow\">LgbmModel</label><div class=\"sk-toggleable__content\"><pre>&lt;lgbm_model.LgbmModel object at 0x13978b8e0&gt;</pre></div></div></div></div></div></div></div></div></div></div><div class=\"sk-item\"><div class=\"sk-estimator sk-toggleable\"><input class=\"sk-toggleable__control sk-hidden--visually\" id=\"sk-estimator-id-76\" type=\"checkbox\" ><label for=\"sk-estimator-id-76\" class=\"sk-toggleable__label sk-toggleable__label-arrow\">AggregateModelScores</label><div class=\"sk-toggleable__content\"><pre>AggregateModelScores()</pre></div></div></div></div></div></div></div>"
      ],
      "text/plain": [
       "Pipeline(steps=[('transformations',\n",
       "                 FeatureUnion(transformer_list=[('part_0',\n",
       "                                                 Pipeline(steps=[('drop_changepoint',\n",
       "                                                                  DropColumnTransformer(columns_to_drop=['changepoint'])),\n",
       "                                                                 ('smooth',\n",
       "                                                                  SmoothCurve()),\n",
       "                                                                 ('scaler',\n",
       "                                                                  StandardScaler()),\n",
       "                                                                 ('df_creator',\n",
       "                                                                  CreateStatsDataframe()),\n",
       "                                                                 ('classifier',\n",
       "                                                                  <lgbm_model.LgbmModel object at 0x13978a050>)])),\n",
       "                                                ('part_1',\n",
       "                                                 Pipeline(steps=[('dro...\n",
       "                                                                 ('classifier',\n",
       "                                                                  <lgbm_model.LgbmModel object at 0x13978b100>)])),\n",
       "                                                ('part_6',\n",
       "                                                 Pipeline(steps=[('drop_changepoint',\n",
       "                                                                  DropColumnTransformer(columns_to_drop=['changepoint'])),\n",
       "                                                                 ('smooth',\n",
       "                                                                  SmoothCurve()),\n",
       "                                                                 ('scaler',\n",
       "                                                                  StandardScaler()),\n",
       "                                                                 ('df_creator',\n",
       "                                                                  CreateStatsDataframe()),\n",
       "                                                                 ('classifier',\n",
       "                                                                  <lgbm_model.LgbmModel object at 0x13978b8e0>)]))])),\n",
       "                ('processing_results', AggregateModelScores())])"
      ]
     },
     "execution_count": 8,
     "metadata": {},
     "output_type": "execute_result"
    }
   ],
   "source": [
    "y = targets_pipe.fit_transform(y)\n",
    "model_pipeline.fit(X,y)"
   ]
  },
  {
   "cell_type": "code",
   "execution_count": 9,
   "metadata": {},
   "outputs": [
    {
     "name": "stdout",
     "output_type": "stream",
     "text": [
      "X.shape:  (1844, 7)\n"
     ]
    }
   ],
   "source": [
    "res = model_pipeline.transform(X_test)\n",
    "y_pred = res['avg_prediction'].copy()"
   ]
  },
  {
   "cell_type": "code",
   "execution_count": 10,
   "metadata": {},
   "outputs": [
    {
     "data": {
      "text/html": [
       "<div>\n",
       "<style scoped>\n",
       "    .dataframe tbody tr th:only-of-type {\n",
       "        vertical-align: middle;\n",
       "    }\n",
       "\n",
       "    .dataframe tbody tr th {\n",
       "        vertical-align: top;\n",
       "    }\n",
       "\n",
       "    .dataframe thead th {\n",
       "        text-align: right;\n",
       "    }\n",
       "</style>\n",
       "<table border=\"1\" class=\"dataframe\">\n",
       "  <thead>\n",
       "    <tr style=\"text-align: right;\">\n",
       "      <th></th>\n",
       "      <th>model_0</th>\n",
       "      <th>model_1</th>\n",
       "      <th>model_2</th>\n",
       "      <th>model_3</th>\n",
       "      <th>model_4</th>\n",
       "      <th>model_5</th>\n",
       "      <th>model_6</th>\n",
       "      <th>avg_prediction</th>\n",
       "      <th>median_prediction</th>\n",
       "      <th>max_prediction</th>\n",
       "    </tr>\n",
       "  </thead>\n",
       "  <tbody>\n",
       "    <tr>\n",
       "      <th>0</th>\n",
       "      <td>0.004335</td>\n",
       "      <td>0.011337</td>\n",
       "      <td>0.005905</td>\n",
       "      <td>0.00318</td>\n",
       "      <td>0.121027</td>\n",
       "      <td>0.004436</td>\n",
       "      <td>0.004971</td>\n",
       "      <td>0.022170</td>\n",
       "      <td>0.005438</td>\n",
       "      <td>0.121027</td>\n",
       "    </tr>\n",
       "    <tr>\n",
       "      <th>1</th>\n",
       "      <td>0.004335</td>\n",
       "      <td>0.011325</td>\n",
       "      <td>0.005905</td>\n",
       "      <td>0.00318</td>\n",
       "      <td>0.122861</td>\n",
       "      <td>0.004436</td>\n",
       "      <td>0.004971</td>\n",
       "      <td>0.022430</td>\n",
       "      <td>0.005438</td>\n",
       "      <td>0.122861</td>\n",
       "    </tr>\n",
       "    <tr>\n",
       "      <th>2</th>\n",
       "      <td>0.004335</td>\n",
       "      <td>0.004996</td>\n",
       "      <td>0.005905</td>\n",
       "      <td>0.00318</td>\n",
       "      <td>0.122861</td>\n",
       "      <td>0.004436</td>\n",
       "      <td>0.004968</td>\n",
       "      <td>0.021526</td>\n",
       "      <td>0.004982</td>\n",
       "      <td>0.122861</td>\n",
       "    </tr>\n",
       "    <tr>\n",
       "      <th>3</th>\n",
       "      <td>0.004335</td>\n",
       "      <td>0.004996</td>\n",
       "      <td>0.005905</td>\n",
       "      <td>0.00318</td>\n",
       "      <td>0.122903</td>\n",
       "      <td>0.004436</td>\n",
       "      <td>0.004968</td>\n",
       "      <td>0.021532</td>\n",
       "      <td>0.004982</td>\n",
       "      <td>0.122903</td>\n",
       "    </tr>\n",
       "    <tr>\n",
       "      <th>4</th>\n",
       "      <td>0.004335</td>\n",
       "      <td>0.004996</td>\n",
       "      <td>0.005905</td>\n",
       "      <td>0.00318</td>\n",
       "      <td>0.120963</td>\n",
       "      <td>0.004436</td>\n",
       "      <td>0.004973</td>\n",
       "      <td>0.021255</td>\n",
       "      <td>0.004985</td>\n",
       "      <td>0.120963</td>\n",
       "    </tr>\n",
       "    <tr>\n",
       "      <th>...</th>\n",
       "      <td>...</td>\n",
       "      <td>...</td>\n",
       "      <td>...</td>\n",
       "      <td>...</td>\n",
       "      <td>...</td>\n",
       "      <td>...</td>\n",
       "      <td>...</td>\n",
       "      <td>...</td>\n",
       "      <td>...</td>\n",
       "      <td>...</td>\n",
       "    </tr>\n",
       "    <tr>\n",
       "      <th>1839</th>\n",
       "      <td>0.003976</td>\n",
       "      <td>0.006878</td>\n",
       "      <td>0.005894</td>\n",
       "      <td>0.00318</td>\n",
       "      <td>0.069101</td>\n",
       "      <td>0.004003</td>\n",
       "      <td>0.006715</td>\n",
       "      <td>0.014250</td>\n",
       "      <td>0.006304</td>\n",
       "      <td>0.069101</td>\n",
       "    </tr>\n",
       "    <tr>\n",
       "      <th>1840</th>\n",
       "      <td>0.003976</td>\n",
       "      <td>0.006878</td>\n",
       "      <td>0.005894</td>\n",
       "      <td>0.00318</td>\n",
       "      <td>0.073553</td>\n",
       "      <td>0.004003</td>\n",
       "      <td>0.006715</td>\n",
       "      <td>0.014885</td>\n",
       "      <td>0.006304</td>\n",
       "      <td>0.073553</td>\n",
       "    </tr>\n",
       "    <tr>\n",
       "      <th>1841</th>\n",
       "      <td>0.003976</td>\n",
       "      <td>0.006878</td>\n",
       "      <td>0.005894</td>\n",
       "      <td>0.00318</td>\n",
       "      <td>0.073553</td>\n",
       "      <td>0.004003</td>\n",
       "      <td>0.006696</td>\n",
       "      <td>0.014883</td>\n",
       "      <td>0.006295</td>\n",
       "      <td>0.073553</td>\n",
       "    </tr>\n",
       "    <tr>\n",
       "      <th>1842</th>\n",
       "      <td>0.003976</td>\n",
       "      <td>0.006878</td>\n",
       "      <td>0.005894</td>\n",
       "      <td>0.00318</td>\n",
       "      <td>0.073553</td>\n",
       "      <td>0.004003</td>\n",
       "      <td>0.006715</td>\n",
       "      <td>0.014886</td>\n",
       "      <td>0.006304</td>\n",
       "      <td>0.073553</td>\n",
       "    </tr>\n",
       "    <tr>\n",
       "      <th>1843</th>\n",
       "      <td>0.003976</td>\n",
       "      <td>0.006878</td>\n",
       "      <td>0.005894</td>\n",
       "      <td>0.00318</td>\n",
       "      <td>0.069101</td>\n",
       "      <td>0.004003</td>\n",
       "      <td>0.006715</td>\n",
       "      <td>0.014250</td>\n",
       "      <td>0.006304</td>\n",
       "      <td>0.069101</td>\n",
       "    </tr>\n",
       "  </tbody>\n",
       "</table>\n",
       "<p>1844 rows × 10 columns</p>\n",
       "</div>"
      ],
      "text/plain": [
       "       model_0   model_1   model_2  model_3   model_4   model_5   model_6  \\\n",
       "0     0.004335  0.011337  0.005905  0.00318  0.121027  0.004436  0.004971   \n",
       "1     0.004335  0.011325  0.005905  0.00318  0.122861  0.004436  0.004971   \n",
       "2     0.004335  0.004996  0.005905  0.00318  0.122861  0.004436  0.004968   \n",
       "3     0.004335  0.004996  0.005905  0.00318  0.122903  0.004436  0.004968   \n",
       "4     0.004335  0.004996  0.005905  0.00318  0.120963  0.004436  0.004973   \n",
       "...        ...       ...       ...      ...       ...       ...       ...   \n",
       "1839  0.003976  0.006878  0.005894  0.00318  0.069101  0.004003  0.006715   \n",
       "1840  0.003976  0.006878  0.005894  0.00318  0.073553  0.004003  0.006715   \n",
       "1841  0.003976  0.006878  0.005894  0.00318  0.073553  0.004003  0.006696   \n",
       "1842  0.003976  0.006878  0.005894  0.00318  0.073553  0.004003  0.006715   \n",
       "1843  0.003976  0.006878  0.005894  0.00318  0.069101  0.004003  0.006715   \n",
       "\n",
       "      avg_prediction  median_prediction  max_prediction  \n",
       "0           0.022170           0.005438        0.121027  \n",
       "1           0.022430           0.005438        0.122861  \n",
       "2           0.021526           0.004982        0.122861  \n",
       "3           0.021532           0.004982        0.122903  \n",
       "4           0.021255           0.004985        0.120963  \n",
       "...              ...                ...             ...  \n",
       "1839        0.014250           0.006304        0.069101  \n",
       "1840        0.014885           0.006304        0.073553  \n",
       "1841        0.014883           0.006295        0.073553  \n",
       "1842        0.014886           0.006304        0.073553  \n",
       "1843        0.014250           0.006304        0.069101  \n",
       "\n",
       "[1844 rows x 10 columns]"
      ]
     },
     "execution_count": 10,
     "metadata": {},
     "output_type": "execute_result"
    }
   ],
   "source": [
    "res"
   ]
  },
  {
   "cell_type": "code",
   "execution_count": 11,
   "metadata": {},
   "outputs": [
    {
     "data": {
      "text/html": [
       "<div>\n",
       "<style scoped>\n",
       "    .dataframe tbody tr th:only-of-type {\n",
       "        vertical-align: middle;\n",
       "    }\n",
       "\n",
       "    .dataframe tbody tr th {\n",
       "        vertical-align: top;\n",
       "    }\n",
       "\n",
       "    .dataframe thead th {\n",
       "        text-align: right;\n",
       "    }\n",
       "</style>\n",
       "<table border=\"1\" class=\"dataframe\">\n",
       "  <thead>\n",
       "    <tr style=\"text-align: right;\">\n",
       "      <th></th>\n",
       "      <th>model_0</th>\n",
       "      <th>model_1</th>\n",
       "      <th>model_2</th>\n",
       "      <th>model_3</th>\n",
       "      <th>model_4</th>\n",
       "      <th>model_5</th>\n",
       "      <th>model_6</th>\n",
       "      <th>avg_prediction</th>\n",
       "      <th>median_prediction</th>\n",
       "      <th>max_prediction</th>\n",
       "    </tr>\n",
       "  </thead>\n",
       "  <tbody>\n",
       "    <tr>\n",
       "      <th>0</th>\n",
       "      <td>0.004335</td>\n",
       "      <td>0.011337</td>\n",
       "      <td>0.005905</td>\n",
       "      <td>0.00318</td>\n",
       "      <td>0.121027</td>\n",
       "      <td>0.004436</td>\n",
       "      <td>0.004971</td>\n",
       "      <td>0.022170</td>\n",
       "      <td>0.005438</td>\n",
       "      <td>0.121027</td>\n",
       "    </tr>\n",
       "    <tr>\n",
       "      <th>1</th>\n",
       "      <td>0.004335</td>\n",
       "      <td>0.011325</td>\n",
       "      <td>0.005905</td>\n",
       "      <td>0.00318</td>\n",
       "      <td>0.122861</td>\n",
       "      <td>0.004436</td>\n",
       "      <td>0.004971</td>\n",
       "      <td>0.022430</td>\n",
       "      <td>0.005438</td>\n",
       "      <td>0.122861</td>\n",
       "    </tr>\n",
       "    <tr>\n",
       "      <th>2</th>\n",
       "      <td>0.004335</td>\n",
       "      <td>0.004996</td>\n",
       "      <td>0.005905</td>\n",
       "      <td>0.00318</td>\n",
       "      <td>0.122861</td>\n",
       "      <td>0.004436</td>\n",
       "      <td>0.004968</td>\n",
       "      <td>0.021526</td>\n",
       "      <td>0.004982</td>\n",
       "      <td>0.122861</td>\n",
       "    </tr>\n",
       "    <tr>\n",
       "      <th>3</th>\n",
       "      <td>0.004335</td>\n",
       "      <td>0.004996</td>\n",
       "      <td>0.005905</td>\n",
       "      <td>0.00318</td>\n",
       "      <td>0.122903</td>\n",
       "      <td>0.004436</td>\n",
       "      <td>0.004968</td>\n",
       "      <td>0.021532</td>\n",
       "      <td>0.004982</td>\n",
       "      <td>0.122903</td>\n",
       "    </tr>\n",
       "    <tr>\n",
       "      <th>4</th>\n",
       "      <td>0.004335</td>\n",
       "      <td>0.004996</td>\n",
       "      <td>0.005905</td>\n",
       "      <td>0.00318</td>\n",
       "      <td>0.120963</td>\n",
       "      <td>0.004436</td>\n",
       "      <td>0.004973</td>\n",
       "      <td>0.021255</td>\n",
       "      <td>0.004985</td>\n",
       "      <td>0.120963</td>\n",
       "    </tr>\n",
       "    <tr>\n",
       "      <th>...</th>\n",
       "      <td>...</td>\n",
       "      <td>...</td>\n",
       "      <td>...</td>\n",
       "      <td>...</td>\n",
       "      <td>...</td>\n",
       "      <td>...</td>\n",
       "      <td>...</td>\n",
       "      <td>...</td>\n",
       "      <td>...</td>\n",
       "      <td>...</td>\n",
       "    </tr>\n",
       "    <tr>\n",
       "      <th>1839</th>\n",
       "      <td>0.003976</td>\n",
       "      <td>0.006878</td>\n",
       "      <td>0.005894</td>\n",
       "      <td>0.00318</td>\n",
       "      <td>0.069101</td>\n",
       "      <td>0.004003</td>\n",
       "      <td>0.006715</td>\n",
       "      <td>0.014250</td>\n",
       "      <td>0.006304</td>\n",
       "      <td>0.069101</td>\n",
       "    </tr>\n",
       "    <tr>\n",
       "      <th>1840</th>\n",
       "      <td>0.003976</td>\n",
       "      <td>0.006878</td>\n",
       "      <td>0.005894</td>\n",
       "      <td>0.00318</td>\n",
       "      <td>0.073553</td>\n",
       "      <td>0.004003</td>\n",
       "      <td>0.006715</td>\n",
       "      <td>0.014885</td>\n",
       "      <td>0.006304</td>\n",
       "      <td>0.073553</td>\n",
       "    </tr>\n",
       "    <tr>\n",
       "      <th>1841</th>\n",
       "      <td>0.003976</td>\n",
       "      <td>0.006878</td>\n",
       "      <td>0.005894</td>\n",
       "      <td>0.00318</td>\n",
       "      <td>0.073553</td>\n",
       "      <td>0.004003</td>\n",
       "      <td>0.006696</td>\n",
       "      <td>0.014883</td>\n",
       "      <td>0.006295</td>\n",
       "      <td>0.073553</td>\n",
       "    </tr>\n",
       "    <tr>\n",
       "      <th>1842</th>\n",
       "      <td>0.003976</td>\n",
       "      <td>0.006878</td>\n",
       "      <td>0.005894</td>\n",
       "      <td>0.00318</td>\n",
       "      <td>0.073553</td>\n",
       "      <td>0.004003</td>\n",
       "      <td>0.006715</td>\n",
       "      <td>0.014886</td>\n",
       "      <td>0.006304</td>\n",
       "      <td>0.073553</td>\n",
       "    </tr>\n",
       "    <tr>\n",
       "      <th>1843</th>\n",
       "      <td>0.003976</td>\n",
       "      <td>0.006878</td>\n",
       "      <td>0.005894</td>\n",
       "      <td>0.00318</td>\n",
       "      <td>0.069101</td>\n",
       "      <td>0.004003</td>\n",
       "      <td>0.006715</td>\n",
       "      <td>0.014250</td>\n",
       "      <td>0.006304</td>\n",
       "      <td>0.069101</td>\n",
       "    </tr>\n",
       "  </tbody>\n",
       "</table>\n",
       "<p>1844 rows × 10 columns</p>\n",
       "</div>"
      ],
      "text/plain": [
       "       model_0   model_1   model_2  model_3   model_4   model_5   model_6  \\\n",
       "0     0.004335  0.011337  0.005905  0.00318  0.121027  0.004436  0.004971   \n",
       "1     0.004335  0.011325  0.005905  0.00318  0.122861  0.004436  0.004971   \n",
       "2     0.004335  0.004996  0.005905  0.00318  0.122861  0.004436  0.004968   \n",
       "3     0.004335  0.004996  0.005905  0.00318  0.122903  0.004436  0.004968   \n",
       "4     0.004335  0.004996  0.005905  0.00318  0.120963  0.004436  0.004973   \n",
       "...        ...       ...       ...      ...       ...       ...       ...   \n",
       "1839  0.003976  0.006878  0.005894  0.00318  0.069101  0.004003  0.006715   \n",
       "1840  0.003976  0.006878  0.005894  0.00318  0.073553  0.004003  0.006715   \n",
       "1841  0.003976  0.006878  0.005894  0.00318  0.073553  0.004003  0.006696   \n",
       "1842  0.003976  0.006878  0.005894  0.00318  0.073553  0.004003  0.006715   \n",
       "1843  0.003976  0.006878  0.005894  0.00318  0.069101  0.004003  0.006715   \n",
       "\n",
       "      avg_prediction  median_prediction  max_prediction  \n",
       "0           0.022170           0.005438        0.121027  \n",
       "1           0.022430           0.005438        0.122861  \n",
       "2           0.021526           0.004982        0.122861  \n",
       "3           0.021532           0.004982        0.122903  \n",
       "4           0.021255           0.004985        0.120963  \n",
       "...              ...                ...             ...  \n",
       "1839        0.014250           0.006304        0.069101  \n",
       "1840        0.014885           0.006304        0.073553  \n",
       "1841        0.014883           0.006295        0.073553  \n",
       "1842        0.014886           0.006304        0.073553  \n",
       "1843        0.014250           0.006304        0.069101  \n",
       "\n",
       "[1844 rows x 10 columns]"
      ]
     },
     "execution_count": 11,
     "metadata": {},
     "output_type": "execute_result"
    }
   ],
   "source": [
    "res"
   ]
  },
  {
   "cell_type": "code",
   "execution_count": 12,
   "metadata": {},
   "outputs": [],
   "source": [
    "### Evaluation"
   ]
  },
  {
   "cell_type": "code",
   "execution_count": 13,
   "metadata": {},
   "outputs": [],
   "source": [
    "# import matplotlib.pyplot as plt\n",
    "# from sklearn.metrics import f1_score\n",
    "# from sklearn.metrics import accuracy_score\n",
    "# from sklearn.metrics import confusion_matrix , ConfusionMatrixDisplay\n",
    "# from sklearn.metrics import roc_curve, auc"
   ]
  },
  {
   "cell_type": "code",
   "execution_count": 14,
   "metadata": {},
   "outputs": [],
   "source": [
    "# def calc_metrics(y_true,y_pred):\n",
    "#     th = 0.35\n",
    "#     accuracy = accuracy_score(y_true, np.where(y_pred>=th,1,0))\n",
    "#     cm = confusion_matrix(y_true, np.where(y_pred>=th,1,0))\n",
    "#     f1 = f1_score(y_true, np.where(y_pred>=th,1,0))\n",
    "#     fpr, tpr, thresholds = roc_curve(y_true, y_pred)\n",
    "#     roc_auc = auc(fpr, tpr)\n",
    "#     return accuracy,cm,f1,fpr, tpr, thresholds, roc_auc\n",
    "\n",
    "# def plot_metrics(cm, fpr, tpr, roc_auc, thresholds, title = 'Model Evaluation Metrics'):\n",
    "    \n",
    "#     fig, ax = plt.subplots(nrows=1, ncols=2, figsize=(16, 8))\n",
    "#     fig.suptitle(title, fontsize=16, y=1.02)\n",
    "#     confusion_matrix_ax = ax[0]\n",
    "#     roc_curve_ax = ax[1]\n",
    "\n",
    "#     # Confusion Matrix in the first subplot\n",
    "#     ConfusionMatrixDisplay(confusion_matrix=cm).plot(ax=confusion_matrix_ax,cmap='Blues')\n",
    "#     confusion_matrix_ax.set_title('Confusion Matrix')\n",
    "#     confusion_matrix_ax.set_xlabel('Predicted labels')\n",
    "#     confusion_matrix_ax.set_ylabel('True labels')\n",
    "\n",
    "#     # ROC Curve in the second subplot\n",
    "#     roc_curve_ax.plot(fpr, tpr, color='darkorange', lw=2, label=f'AUC = {roc_auc:.2f}')\n",
    "#     roc_curve_ax.plot([0, 1], [0, 1], color='navy', lw=2, linestyle='--')\n",
    "#     roc_curve_ax.set_xlabel('False Positive Rate')\n",
    "#     roc_curve_ax.set_ylabel('True Positive Rate')\n",
    "#     roc_curve_ax.set_title('Receiver Operating Characteristic (ROC) Curve')\n",
    "#     roc_curve_ax.legend(loc='lower right')\n",
    "#     # Display the plot\n",
    "#     plt.tight_layout()\n",
    "#     plt.show()"
   ]
  },
  {
   "cell_type": "code",
   "execution_count": 15,
   "metadata": {},
   "outputs": [],
   "source": [
    "y_test1 = targets_pipe.transform(y_test)"
   ]
  },
  {
   "cell_type": "code",
   "execution_count": 16,
   "metadata": {},
   "outputs": [
    {
     "data": {
      "text/plain": [
       "(1844,)"
      ]
     },
     "execution_count": 16,
     "metadata": {},
     "output_type": "execute_result"
    }
   ],
   "source": [
    "y_pred.shape"
   ]
  },
  {
   "cell_type": "code",
   "execution_count": 17,
   "metadata": {},
   "outputs": [],
   "source": [
    "# accuracy, cm, f1, fpr, tpr, thresholds, roc_auc = calc_metrics(y_test1,y_pred)\n",
    "# plot_metrics(cm, fpr, tpr, roc_auc, thresholds, title = 'Average Probability')"
   ]
  },
  {
   "cell_type": "code",
   "execution_count": 18,
   "metadata": {},
   "outputs": [],
   "source": [
    "base_preds = pd.read_csv('../data/lgbm_baseline_predictions.csv')['y_pred']"
   ]
  },
  {
   "cell_type": "code",
   "execution_count": 19,
   "metadata": {},
   "outputs": [],
   "source": [
    "models_config = {\n",
    "    'baseline' : {\n",
    "        'y_test' :y_test1,\n",
    "        'y_pred': base_preds.values,\n",
    "        'th': 0.5\n",
    "    },\n",
    "    \n",
    "    'new_model' : {\n",
    "        'y_test' :y_test1,\n",
    "        'y_pred':y_pred.values,\n",
    "        'th' : 0.35\n",
    "    }\n",
    "}"
   ]
  },
  {
   "cell_type": "code",
   "execution_count": 20,
   "metadata": {},
   "outputs": [
    {
     "data": {
      "text/plain": [
       "{'baseline': {'y_test': array([0., 0., 0., ..., 0., 0., 0.]),\n",
       "  'y_pred': array([0.00913124, 0.00820904, 0.00759523, ..., 0.0120525 , 0.0120525 ,\n",
       "         0.0120525 ]),\n",
       "  'th': 0.5},\n",
       " 'new_model': {'y_test': array([0., 0., 0., ..., 0., 0., 0.]),\n",
       "  'y_pred': array([0.02217025, 0.02243046, 0.02152586, ..., 0.01488283, 0.01488555,\n",
       "         0.01424959]),\n",
       "  'th': 0.35}}"
      ]
     },
     "execution_count": 20,
     "metadata": {},
     "output_type": "execute_result"
    }
   ],
   "source": [
    "models_config"
   ]
  },
  {
   "cell_type": "code",
   "execution_count": 21,
   "metadata": {},
   "outputs": [],
   "source": [
    "from evaluation import ModelEvaluation"
   ]
  },
  {
   "cell_type": "code",
   "execution_count": 22,
   "metadata": {},
   "outputs": [
    {
     "data": {
      "text/plain": [
       "{'baseline': {'y_test': array([0., 0., 0., ..., 0., 0., 0.]),\n",
       "  'y_pred': array([0.00913124, 0.00820904, 0.00759523, ..., 0.0120525 , 0.0120525 ,\n",
       "         0.0120525 ]),\n",
       "  'th': 0.5},\n",
       " 'new_model': {'y_test': array([0., 0., 0., ..., 0., 0., 0.]),\n",
       "  'y_pred': array([0.02217025, 0.02243046, 0.02152586, ..., 0.01488283, 0.01488555,\n",
       "         0.01424959]),\n",
       "  'th': 0.35}}"
      ]
     },
     "execution_count": 22,
     "metadata": {},
     "output_type": "execute_result"
    }
   ],
   "source": [
    "models_config"
   ]
  },
  {
   "cell_type": "code",
   "execution_count": 23,
   "metadata": {},
   "outputs": [],
   "source": [
    "eval = ModelEvaluation(eval_config=models_config)"
   ]
  },
  {
   "cell_type": "code",
   "execution_count": 24,
   "metadata": {},
   "outputs": [],
   "source": [
    "eval.calc_metrics()"
   ]
  },
  {
   "cell_type": "code",
   "execution_count": 25,
   "metadata": {},
   "outputs": [
    {
     "name": "stdout",
     "output_type": "stream",
     "text": [
      "[[1031   10]\n",
      " [ 135  668]]\n",
      "0.0147\n",
      "0.1681\n",
      "0.9021\n",
      "\n",
      "[[1031   10]\n",
      " [ 135  668]]\n",
      "0.0147\n",
      "0.1868\n",
      "0.897\n"
     ]
    }
   ],
   "source": [
    "print(eval.eval_config['baseline']['cm'])\n",
    "print(eval.eval_config['baseline']['far_score'])\n",
    "print(eval.eval_config['baseline']['mar_score'])\n",
    "print(eval.eval_config['baseline']['f1'])\n",
    "print()\n",
    "print(eval.eval_config['baseline']['cm'])\n",
    "print(eval.eval_config['baseline']['far_score'])\n",
    "print(eval.eval_config['new_model']['mar_score'])\n",
    "print(eval.eval_config['new_model']['f1'])"
   ]
  },
  {
   "cell_type": "code",
   "execution_count": 26,
   "metadata": {},
   "outputs": [
    {
     "data": {
      "image/png": "[encoded data removed]",
      "text/plain": [
       "<Figure size 1400x500 with 5 Axes>"
      ]
     },
     "metadata": {},
     "output_type": "display_data"
    }
   ],
   "source": [
    "eval.plot_metrics()"
   ]
  },
  {
   "cell_type": "code",
   "execution_count": null,
   "metadata": {},
   "outputs": [],
   "source": [
    "from lgbm_full_model import FullLgbmPipeline"
   ]
  },
  {
   "cell_type": "code",
   "execution_count": null,
   "metadata": {},
   "outputs": [],
   "source": [
    "model_config = {\n",
    "    'target_column': 'anomaly',\n",
    "    'look_back': 10,\n",
    "    'num_splits': 2,\n",
    "}"
   ]
  },
  {
   "cell_type": "code",
   "execution_count": null,
   "metadata": {},
   "outputs": [],
   "source": [
    "full_model = FullLgbmPipeline(model_config)"
   ]
  },
  {
   "cell_type": "code",
   "execution_count": null,
   "metadata": {},
   "outputs": [],
   "source": [
    "preds = full_model.run()"
   ]
  },
  {
   "cell_type": "code",
   "execution_count": null,
   "metadata": {},
   "outputs": [],
   "source": [
    "preds"
   ]
  },
  {
   "cell_type": "code",
   "execution_count": null,
   "metadata": {},
   "outputs": [],
   "source": [
    "full_model.y_test"
   ]
  },
  {
   "cell_type": "code",
   "execution_count": null,
   "metadata": {},
   "outputs": [],
   "source": [
    "model_config = {\n",
    "    'target_column': 'anomaly',\n",
    "    'look_back': 10,\n",
    "    'num_splits': 2,\n",
    "    'th': 0.35,\n",
    "}"
   ]
  },
  {
   "cell_type": "code",
   "execution_count": null,
   "metadata": {},
   "outputs": [],
   "source": [
    "from evaluation import ModelSelector"
   ]
  },
  {
   "cell_type": "code",
   "execution_count": null,
   "metadata": {},
   "outputs": [],
   "source": [
    "selector = ModelSelector(model_config,FullLgbmPipeline,min_splits=7,max_splits=10)"
   ]
  },
  {
   "cell_type": "code",
   "execution_count": null,
   "metadata": {},
   "outputs": [],
   "source": [
    "res = selector.run_model_permutations()"
   ]
  },
  {
   "cell_type": "code",
   "execution_count": null,
   "metadata": {},
   "outputs": [],
   "source": [
    "res[0]"
   ]
  },
  {
   "cell_type": "code",
   "execution_count": null,
   "metadata": {},
   "outputs": [],
   "source": [
    "table = res[0].T.sort_values(by=['f1','mar']) #.style.background_gradient(axis=0)"
   ]
  },
  {
   "cell_type": "code",
   "execution_count": null,
   "metadata": {},
   "outputs": [],
   "source": [
    "table"
   ]
  },
  {
   "cell_type": "code",
   "execution_count": null,
   "metadata": {},
   "outputs": [],
   "source": [
    "table[table['f1']>0.89].tail(1)"
   ]
  },
  {
   "cell_type": "code",
   "execution_count": null,
   "metadata": {},
   "outputs": [],
   "source": [
    "selector.select_best(f1_th=0.89)"
   ]
  },
  {
   "cell_type": "code",
   "execution_count": null,
   "metadata": {},
   "outputs": [],
   "source": [
    "res[1]"
   ]
  },
  {
   "cell_type": "code",
   "execution_count": null,
   "metadata": {},
   "outputs": [],
   "source": []
  }
 ],
 "metadata": {
  "kernelspec": {
   "display_name": ".venv",
   "language": "python",
   "name": "python3"
  },
  "language_info": {
   "codemirror_mode": {
    "name": "ipython",
    "version": 3
   },
   "file_extension": ".py",
   "mimetype": "text/x-python",
   "name": "python",
   "nbconvert_exporter": "python",
   "pygments_lexer": "ipython3",
   "version": "3.10.13"
  }
 },
 "nbformat": 4,
 "nbformat_minor": 2
}

{
 "cells": [
  {
   "cell_type": "code",
   "execution_count": 11,
   "metadata": {},
   "outputs": [
    {
     "name": "stdout",
     "output_type": "stream",
     "text": [
      "The autoreload extension is already loaded. To reload it, use:\n",
      "  %reload_ext autoreload\n"
     ]
    }
   ],
   "source": [
    "%load_ext autoreload\n",
    "%autoreload 2"
   ]
  },
  {
   "cell_type": "code",
   "execution_count": 12,
   "metadata": {},
   "outputs": [],
   "source": [
    "from utils_data import x_y_split , data_splitter\n",
    "from utils_lgbm import lgbm_train_val_test_split_original\n",
    "from lgbm_data_prep import LgbmDataPrep\n",
    "from sklearn.pipeline import Pipeline, FeatureUnion\n",
    "import numpy as np\n",
    "import pandas as pd"
   ]
  },
  {
   "cell_type": "code",
   "execution_count": 13,
   "metadata": {},
   "outputs": [],
   "source": [
    "# split to train test\n",
    "# split to X, y\n",
    "# features pipe separate from the targets pipe"
   ]
  },
  {
   "cell_type": "markdown",
   "metadata": {},
   "source": [
    "### Split To Original train and test"
   ]
  },
  {
   "cell_type": "code",
   "execution_count": 14,
   "metadata": {},
   "outputs": [],
   "source": [
    "x,v,t = lgbm_train_val_test_split_original()"
   ]
  },
  {
   "cell_type": "markdown",
   "metadata": {},
   "source": [
    "### split to X, y "
   ]
  },
  {
   "cell_type": "code",
   "execution_count": 15,
   "metadata": {},
   "outputs": [],
   "source": [
    "X, y = x_y_split(x,'anomaly')"
   ]
  },
  {
   "cell_type": "code",
   "execution_count": 16,
   "metadata": {},
   "outputs": [],
   "source": [
    "### data splitter - for multimodel\n",
    "splits = data_splitter(X,5)"
   ]
  },
  {
   "cell_type": "code",
   "execution_count": 17,
   "metadata": {},
   "outputs": [
    {
     "data": {
      "text/plain": [
       "5"
      ]
     },
     "execution_count": 17,
     "metadata": {},
     "output_type": "execute_result"
    }
   ],
   "source": [
    "len(splits)"
   ]
  },
  {
   "cell_type": "code",
   "execution_count": 18,
   "metadata": {},
   "outputs": [],
   "source": [
    "feature_pipe =  LgbmDataPrep().get_features_pipeline()\n",
    "targets_pipe = LgbmDataPrep().get_targets_pipeline()"
   ]
  },
  {
   "cell_type": "code",
   "execution_count": 23,
   "metadata": {},
   "outputs": [
    {
     "data": {
      "text/html": [
       "<style>#sk-container-id-4 {color: black;background-color: white;}#sk-container-id-4 pre{padding: 0;}#sk-container-id-4 div.sk-toggleable {background-color: white;}#sk-container-id-4 label.sk-toggleable__label {cursor: pointer;display: block;width: 100%;margin-bottom: 0;padding: 0.3em;box-sizing: border-box;text-align: center;}#sk-container-id-4 label.sk-toggleable__label-arrow:before {content: \"▸\";float: left;margin-right: 0.25em;color: #696969;}#sk-container-id-4 label.sk-toggleable__label-arrow:hover:before {color: black;}#sk-container-id-4 div.sk-estimator:hover label.sk-toggleable__label-arrow:before {color: black;}#sk-container-id-4 div.sk-toggleable__content {max-height: 0;max-width: 0;overflow: hidden;text-align: left;background-color: #f0f8ff;}#sk-container-id-4 div.sk-toggleable__content pre {margin: 0.2em;color: black;border-radius: 0.25em;background-color: #f0f8ff;}#sk-container-id-4 input.sk-toggleable__control:checked~div.sk-toggleable__content {max-height: 200px;max-width: 100%;overflow: auto;}#sk-container-id-4 input.sk-toggleable__control:checked~label.sk-toggleable__label-arrow:before {content: \"▾\";}#sk-container-id-4 div.sk-estimator input.sk-toggleable__control:checked~label.sk-toggleable__label {background-color: #d4ebff;}#sk-container-id-4 div.sk-label input.sk-toggleable__control:checked~label.sk-toggleable__label {background-color: #d4ebff;}#sk-container-id-4 input.sk-hidden--visually {border: 0;clip: rect(1px 1px 1px 1px);clip: rect(1px, 1px, 1px, 1px);height: 1px;margin: -1px;overflow: hidden;padding: 0;position: absolute;width: 1px;}#sk-container-id-4 div.sk-estimator {font-family: monospace;background-color: #f0f8ff;border: 1px dotted black;border-radius: 0.25em;box-sizing: border-box;margin-bottom: 0.5em;}#sk-container-id-4 div.sk-estimator:hover {background-color: #d4ebff;}#sk-container-id-4 div.sk-parallel-item::after {content: \"\";width: 100%;border-bottom: 1px solid gray;flex-grow: 1;}#sk-container-id-4 div.sk-label:hover label.sk-toggleable__label {background-color: #d4ebff;}#sk-container-id-4 div.sk-serial::before {content: \"\";position: absolute;border-left: 1px solid gray;box-sizing: border-box;top: 0;bottom: 0;left: 50%;z-index: 0;}#sk-container-id-4 div.sk-serial {display: flex;flex-direction: column;align-items: center;background-color: white;padding-right: 0.2em;padding-left: 0.2em;position: relative;}#sk-container-id-4 div.sk-item {position: relative;z-index: 1;}#sk-container-id-4 div.sk-parallel {display: flex;align-items: stretch;justify-content: center;background-color: white;position: relative;}#sk-container-id-4 div.sk-item::before, #sk-container-id-4 div.sk-parallel-item::before {content: \"\";position: absolute;border-left: 1px solid gray;box-sizing: border-box;top: 0;bottom: 0;left: 50%;z-index: -1;}#sk-container-id-4 div.sk-parallel-item {display: flex;flex-direction: column;z-index: 1;position: relative;background-color: white;}#sk-container-id-4 div.sk-parallel-item:first-child::after {align-self: flex-end;width: 50%;}#sk-container-id-4 div.sk-parallel-item:last-child::after {align-self: flex-start;width: 50%;}#sk-container-id-4 div.sk-parallel-item:only-child::after {width: 0;}#sk-container-id-4 div.sk-dashed-wrapped {border: 1px dashed gray;margin: 0 0.4em 0.5em 0.4em;box-sizing: border-box;padding-bottom: 0.4em;background-color: white;}#sk-container-id-4 div.sk-label label {font-family: monospace;font-weight: bold;display: inline-block;line-height: 1.2em;}#sk-container-id-4 div.sk-label-container {text-align: center;}#sk-container-id-4 div.sk-container {/* jupyter's `normalize.less` sets `[hidden] { display: none; }` but bootstrap.min.css set `[hidden] { display: none !important; }` so we also need the `!important` here to be able to override the default hidden behavior on the sphinx rendered scikit-learn.org. See: https://github.com/scikit-learn/scikit-learn/issues/21755 */display: inline-block !important;position: relative;}#sk-container-id-4 div.sk-text-repr-fallback {display: none;}</style><div id=\"sk-container-id-4\" class=\"sk-top-container\"><div class=\"sk-text-repr-fallback\"><pre>FeatureUnion(transformer_list=[(&#x27;iter_0&#x27;,\n",
       "                                Pipeline(steps=[(&#x27;data_splitter_0&#x27;,\n",
       "                                                 DataSplitter(num_splits=5,\n",
       "                                                              part_num=0)),\n",
       "                                                (&#x27;drop_changepoint&#x27;,\n",
       "                                                 DropColumnTransformer(columns_to_drop=[&#x27;changepoint&#x27;])),\n",
       "                                                (&#x27;smooth&#x27;, SmoothCurve()),\n",
       "                                                (&#x27;scaler&#x27;, StandardScaler()),\n",
       "                                                (&#x27;df_creator&#x27;,\n",
       "                                                 CreateStatsDataframe())])),\n",
       "                               (&#x27;iter_1&#x27;,\n",
       "                                Pipeline(steps=[(&#x27;data_splitter_1&#x27;,\n",
       "                                                 DataSplitter(num_spl...\n",
       "                                                 DropColumnTransformer(columns_to_drop=[&#x27;changepoint&#x27;])),\n",
       "                                                (&#x27;smooth&#x27;, SmoothCurve()),\n",
       "                                                (&#x27;scaler&#x27;, StandardScaler()),\n",
       "                                                (&#x27;df_creator&#x27;,\n",
       "                                                 CreateStatsDataframe())])),\n",
       "                               (&#x27;iter_4&#x27;,\n",
       "                                Pipeline(steps=[(&#x27;data_splitter_4&#x27;,\n",
       "                                                 DataSplitter(num_splits=5,\n",
       "                                                              part_num=4)),\n",
       "                                                (&#x27;drop_changepoint&#x27;,\n",
       "                                                 DropColumnTransformer(columns_to_drop=[&#x27;changepoint&#x27;])),\n",
       "                                                (&#x27;smooth&#x27;, SmoothCurve()),\n",
       "                                                (&#x27;scaler&#x27;, StandardScaler()),\n",
       "                                                (&#x27;df_creator&#x27;,\n",
       "                                                 CreateStatsDataframe())]))])</pre><b>In a Jupyter environment, please rerun this cell to show the HTML representation or trust the notebook. <br />On GitHub, the HTML representation is unable to render, please try loading this page with nbviewer.org.</b></div><div class=\"sk-container\" hidden><div class=\"sk-item sk-dashed-wrapped\"><div class=\"sk-label-container\"><div class=\"sk-label sk-toggleable\"><input class=\"sk-toggleable__control sk-hidden--visually\" id=\"sk-estimator-id-54\" type=\"checkbox\" ><label for=\"sk-estimator-id-54\" class=\"sk-toggleable__label sk-toggleable__label-arrow\">FeatureUnion</label><div class=\"sk-toggleable__content\"><pre>FeatureUnion(transformer_list=[(&#x27;iter_0&#x27;,\n",
       "                                Pipeline(steps=[(&#x27;data_splitter_0&#x27;,\n",
       "                                                 DataSplitter(num_splits=5,\n",
       "                                                              part_num=0)),\n",
       "                                                (&#x27;drop_changepoint&#x27;,\n",
       "                                                 DropColumnTransformer(columns_to_drop=[&#x27;changepoint&#x27;])),\n",
       "                                                (&#x27;smooth&#x27;, SmoothCurve()),\n",
       "                                                (&#x27;scaler&#x27;, StandardScaler()),\n",
       "                                                (&#x27;df_creator&#x27;,\n",
       "                                                 CreateStatsDataframe())])),\n",
       "                               (&#x27;iter_1&#x27;,\n",
       "                                Pipeline(steps=[(&#x27;data_splitter_1&#x27;,\n",
       "                                                 DataSplitter(num_spl...\n",
       "                                                 DropColumnTransformer(columns_to_drop=[&#x27;changepoint&#x27;])),\n",
       "                                                (&#x27;smooth&#x27;, SmoothCurve()),\n",
       "                                                (&#x27;scaler&#x27;, StandardScaler()),\n",
       "                                                (&#x27;df_creator&#x27;,\n",
       "                                                 CreateStatsDataframe())])),\n",
       "                               (&#x27;iter_4&#x27;,\n",
       "                                Pipeline(steps=[(&#x27;data_splitter_4&#x27;,\n",
       "                                                 DataSplitter(num_splits=5,\n",
       "                                                              part_num=4)),\n",
       "                                                (&#x27;drop_changepoint&#x27;,\n",
       "                                                 DropColumnTransformer(columns_to_drop=[&#x27;changepoint&#x27;])),\n",
       "                                                (&#x27;smooth&#x27;, SmoothCurve()),\n",
       "                                                (&#x27;scaler&#x27;, StandardScaler()),\n",
       "                                                (&#x27;df_creator&#x27;,\n",
       "                                                 CreateStatsDataframe())]))])</pre></div></div></div><div class=\"sk-parallel\"><div class=\"sk-parallel-item\"><div class=\"sk-item\"><div class=\"sk-label-container\"><div class=\"sk-label sk-toggleable\"><label>iter_0</label></div></div><div class=\"sk-serial\"><div class=\"sk-item\"><div class=\"sk-serial\"><div class=\"sk-item\"><div class=\"sk-estimator sk-toggleable\"><input class=\"sk-toggleable__control sk-hidden--visually\" id=\"sk-estimator-id-55\" type=\"checkbox\" ><label for=\"sk-estimator-id-55\" class=\"sk-toggleable__label sk-toggleable__label-arrow\">DataSplitter</label><div class=\"sk-toggleable__content\"><pre>DataSplitter(num_splits=5, part_num=0)</pre></div></div></div><div class=\"sk-item\"><div class=\"sk-estimator sk-toggleable\"><input class=\"sk-toggleable__control sk-hidden--visually\" id=\"sk-estimator-id-56\" type=\"checkbox\" ><label for=\"sk-estimator-id-56\" class=\"sk-toggleable__label sk-toggleable__label-arrow\">DropColumnTransformer</label><div class=\"sk-toggleable__content\"><pre>DropColumnTransformer(columns_to_drop=[&#x27;changepoint&#x27;])</pre></div></div></div><div class=\"sk-item\"><div class=\"sk-estimator sk-toggleable\"><input class=\"sk-toggleable__control sk-hidden--visually\" id=\"sk-estimator-id-57\" type=\"checkbox\" ><label for=\"sk-estimator-id-57\" class=\"sk-toggleable__label sk-toggleable__label-arrow\">SmoothCurve</label><div class=\"sk-toggleable__content\"><pre>SmoothCurve()</pre></div></div></div><div class=\"sk-item\"><div class=\"sk-estimator sk-toggleable\"><input class=\"sk-toggleable__control sk-hidden--visually\" id=\"sk-estimator-id-58\" type=\"checkbox\" ><label for=\"sk-estimator-id-58\" class=\"sk-toggleable__label sk-toggleable__label-arrow\">StandardScaler</label><div class=\"sk-toggleable__content\"><pre>StandardScaler()</pre></div></div></div><div class=\"sk-item\"><div class=\"sk-estimator sk-toggleable\"><input class=\"sk-toggleable__control sk-hidden--visually\" id=\"sk-estimator-id-59\" type=\"checkbox\" ><label for=\"sk-estimator-id-59\" class=\"sk-toggleable__label sk-toggleable__label-arrow\">CreateStatsDataframe</label><div class=\"sk-toggleable__content\"><pre>CreateStatsDataframe()</pre></div></div></div></div></div></div></div></div><div class=\"sk-parallel-item\"><div class=\"sk-item\"><div class=\"sk-label-container\"><div class=\"sk-label sk-toggleable\"><label>iter_1</label></div></div><div class=\"sk-serial\"><div class=\"sk-item\"><div class=\"sk-serial\"><div class=\"sk-item\"><div class=\"sk-estimator sk-toggleable\"><input class=\"sk-toggleable__control sk-hidden--visually\" id=\"sk-estimator-id-60\" type=\"checkbox\" ><label for=\"sk-estimator-id-60\" class=\"sk-toggleable__label sk-toggleable__label-arrow\">DataSplitter</label><div class=\"sk-toggleable__content\"><pre>DataSplitter(num_splits=5, part_num=1)</pre></div></div></div><div class=\"sk-item\"><div class=\"sk-estimator sk-toggleable\"><input class=\"sk-toggleable__control sk-hidden--visually\" id=\"sk-estimator-id-61\" type=\"checkbox\" ><label for=\"sk-estimator-id-61\" class=\"sk-toggleable__label sk-toggleable__label-arrow\">DropColumnTransformer</label><div class=\"sk-toggleable__content\"><pre>DropColumnTransformer(columns_to_drop=[&#x27;changepoint&#x27;])</pre></div></div></div><div class=\"sk-item\"><div class=\"sk-estimator sk-toggleable\"><input class=\"sk-toggleable__control sk-hidden--visually\" id=\"sk-estimator-id-62\" type=\"checkbox\" ><label for=\"sk-estimator-id-62\" class=\"sk-toggleable__label sk-toggleable__label-arrow\">SmoothCurve</label><div class=\"sk-toggleable__content\"><pre>SmoothCurve()</pre></div></div></div><div class=\"sk-item\"><div class=\"sk-estimator sk-toggleable\"><input class=\"sk-toggleable__control sk-hidden--visually\" id=\"sk-estimator-id-63\" type=\"checkbox\" ><label for=\"sk-estimator-id-63\" class=\"sk-toggleable__label sk-toggleable__label-arrow\">StandardScaler</label><div class=\"sk-toggleable__content\"><pre>StandardScaler()</pre></div></div></div><div class=\"sk-item\"><div class=\"sk-estimator sk-toggleable\"><input class=\"sk-toggleable__control sk-hidden--visually\" id=\"sk-estimator-id-64\" type=\"checkbox\" ><label for=\"sk-estimator-id-64\" class=\"sk-toggleable__label sk-toggleable__label-arrow\">CreateStatsDataframe</label><div class=\"sk-toggleable__content\"><pre>CreateStatsDataframe()</pre></div></div></div></div></div></div></div></div><div class=\"sk-parallel-item\"><div class=\"sk-item\"><div class=\"sk-label-container\"><div class=\"sk-label sk-toggleable\"><label>iter_2</label></div></div><div class=\"sk-serial\"><div class=\"sk-item\"><div class=\"sk-serial\"><div class=\"sk-item\"><div class=\"sk-estimator sk-toggleable\"><input class=\"sk-toggleable__control sk-hidden--visually\" id=\"sk-estimator-id-65\" type=\"checkbox\" ><label for=\"sk-estimator-id-65\" class=\"sk-toggleable__label sk-toggleable__label-arrow\">DataSplitter</label><div class=\"sk-toggleable__content\"><pre>DataSplitter(num_splits=5, part_num=2)</pre></div></div></div><div class=\"sk-item\"><div class=\"sk-estimator sk-toggleable\"><input class=\"sk-toggleable__control sk-hidden--visually\" id=\"sk-estimator-id-66\" type=\"checkbox\" ><label for=\"sk-estimator-id-66\" class=\"sk-toggleable__label sk-toggleable__label-arrow\">DropColumnTransformer</label><div class=\"sk-toggleable__content\"><pre>DropColumnTransformer(columns_to_drop=[&#x27;changepoint&#x27;])</pre></div></div></div><div class=\"sk-item\"><div class=\"sk-estimator sk-toggleable\"><input class=\"sk-toggleable__control sk-hidden--visually\" id=\"sk-estimator-id-67\" type=\"checkbox\" ><label for=\"sk-estimator-id-67\" class=\"sk-toggleable__label sk-toggleable__label-arrow\">SmoothCurve</label><div class=\"sk-toggleable__content\"><pre>SmoothCurve()</pre></div></div></div><div class=\"sk-item\"><div class=\"sk-estimator sk-toggleable\"><input class=\"sk-toggleable__control sk-hidden--visually\" id=\"sk-estimator-id-68\" type=\"checkbox\" ><label for=\"sk-estimator-id-68\" class=\"sk-toggleable__label sk-toggleable__label-arrow\">StandardScaler</label><div class=\"sk-toggleable__content\"><pre>StandardScaler()</pre></div></div></div><div class=\"sk-item\"><div class=\"sk-estimator sk-toggleable\"><input class=\"sk-toggleable__control sk-hidden--visually\" id=\"sk-estimator-id-69\" type=\"checkbox\" ><label for=\"sk-estimator-id-69\" class=\"sk-toggleable__label sk-toggleable__label-arrow\">CreateStatsDataframe</label><div class=\"sk-toggleable__content\"><pre>CreateStatsDataframe()</pre></div></div></div></div></div></div></div></div><div class=\"sk-parallel-item\"><div class=\"sk-item\"><div class=\"sk-label-container\"><div class=\"sk-label sk-toggleable\"><label>iter_3</label></div></div><div class=\"sk-serial\"><div class=\"sk-item\"><div class=\"sk-serial\"><div class=\"sk-item\"><div class=\"sk-estimator sk-toggleable\"><input class=\"sk-toggleable__control sk-hidden--visually\" id=\"sk-estimator-id-70\" type=\"checkbox\" ><label for=\"sk-estimator-id-70\" class=\"sk-toggleable__label sk-toggleable__label-arrow\">DataSplitter</label><div class=\"sk-toggleable__content\"><pre>DataSplitter(num_splits=5, part_num=3)</pre></div></div></div><div class=\"sk-item\"><div class=\"sk-estimator sk-toggleable\"><input class=\"sk-toggleable__control sk-hidden--visually\" id=\"sk-estimator-id-71\" type=\"checkbox\" ><label for=\"sk-estimator-id-71\" class=\"sk-toggleable__label sk-toggleable__label-arrow\">DropColumnTransformer</label><div class=\"sk-toggleable__content\"><pre>DropColumnTransformer(columns_to_drop=[&#x27;changepoint&#x27;])</pre></div></div></div><div class=\"sk-item\"><div class=\"sk-estimator sk-toggleable\"><input class=\"sk-toggleable__control sk-hidden--visually\" id=\"sk-estimator-id-72\" type=\"checkbox\" ><label for=\"sk-estimator-id-72\" class=\"sk-toggleable__label sk-toggleable__label-arrow\">SmoothCurve</label><div class=\"sk-toggleable__content\"><pre>SmoothCurve()</pre></div></div></div><div class=\"sk-item\"><div class=\"sk-estimator sk-toggleable\"><input class=\"sk-toggleable__control sk-hidden--visually\" id=\"sk-estimator-id-73\" type=\"checkbox\" ><label for=\"sk-estimator-id-73\" class=\"sk-toggleable__label sk-toggleable__label-arrow\">StandardScaler</label><div class=\"sk-toggleable__content\"><pre>StandardScaler()</pre></div></div></div><div class=\"sk-item\"><div class=\"sk-estimator sk-toggleable\"><input class=\"sk-toggleable__control sk-hidden--visually\" id=\"sk-estimator-id-74\" type=\"checkbox\" ><label for=\"sk-estimator-id-74\" class=\"sk-toggleable__label sk-toggleable__label-arrow\">CreateStatsDataframe</label><div class=\"sk-toggleable__content\"><pre>CreateStatsDataframe()</pre></div></div></div></div></div></div></div></div><div class=\"sk-parallel-item\"><div class=\"sk-item\"><div class=\"sk-label-container\"><div class=\"sk-label sk-toggleable\"><label>iter_4</label></div></div><div class=\"sk-serial\"><div class=\"sk-item\"><div class=\"sk-serial\"><div class=\"sk-item\"><div class=\"sk-estimator sk-toggleable\"><input class=\"sk-toggleable__control sk-hidden--visually\" id=\"sk-estimator-id-75\" type=\"checkbox\" ><label for=\"sk-estimator-id-75\" class=\"sk-toggleable__label sk-toggleable__label-arrow\">DataSplitter</label><div class=\"sk-toggleable__content\"><pre>DataSplitter(num_splits=5, part_num=4)</pre></div></div></div><div class=\"sk-item\"><div class=\"sk-estimator sk-toggleable\"><input class=\"sk-toggleable__control sk-hidden--visually\" id=\"sk-estimator-id-76\" type=\"checkbox\" ><label for=\"sk-estimator-id-76\" class=\"sk-toggleable__label sk-toggleable__label-arrow\">DropColumnTransformer</label><div class=\"sk-toggleable__content\"><pre>DropColumnTransformer(columns_to_drop=[&#x27;changepoint&#x27;])</pre></div></div></div><div class=\"sk-item\"><div class=\"sk-estimator sk-toggleable\"><input class=\"sk-toggleable__control sk-hidden--visually\" id=\"sk-estimator-id-77\" type=\"checkbox\" ><label for=\"sk-estimator-id-77\" class=\"sk-toggleable__label sk-toggleable__label-arrow\">SmoothCurve</label><div class=\"sk-toggleable__content\"><pre>SmoothCurve()</pre></div></div></div><div class=\"sk-item\"><div class=\"sk-estimator sk-toggleable\"><input class=\"sk-toggleable__control sk-hidden--visually\" id=\"sk-estimator-id-78\" type=\"checkbox\" ><label for=\"sk-estimator-id-78\" class=\"sk-toggleable__label sk-toggleable__label-arrow\">StandardScaler</label><div class=\"sk-toggleable__content\"><pre>StandardScaler()</pre></div></div></div><div class=\"sk-item\"><div class=\"sk-estimator sk-toggleable\"><input class=\"sk-toggleable__control sk-hidden--visually\" id=\"sk-estimator-id-79\" type=\"checkbox\" ><label for=\"sk-estimator-id-79\" class=\"sk-toggleable__label sk-toggleable__label-arrow\">CreateStatsDataframe</label><div class=\"sk-toggleable__content\"><pre>CreateStatsDataframe()</pre></div></div></div></div></div></div></div></div></div></div></div></div>"
      ],
      "text/plain": [
       "FeatureUnion(transformer_list=[('iter_0',\n",
       "                                Pipeline(steps=[('data_splitter_0',\n",
       "                                                 DataSplitter(num_splits=5,\n",
       "                                                              part_num=0)),\n",
       "                                                ('drop_changepoint',\n",
       "                                                 DropColumnTransformer(columns_to_drop=['changepoint'])),\n",
       "                                                ('smooth', SmoothCurve()),\n",
       "                                                ('scaler', StandardScaler()),\n",
       "                                                ('df_creator',\n",
       "                                                 CreateStatsDataframe())])),\n",
       "                               ('iter_1',\n",
       "                                Pipeline(steps=[('data_splitter_1',\n",
       "                                                 DataSplitter(num_spl...\n",
       "                                                 DropColumnTransformer(columns_to_drop=['changepoint'])),\n",
       "                                                ('smooth', SmoothCurve()),\n",
       "                                                ('scaler', StandardScaler()),\n",
       "                                                ('df_creator',\n",
       "                                                 CreateStatsDataframe())])),\n",
       "                               ('iter_4',\n",
       "                                Pipeline(steps=[('data_splitter_4',\n",
       "                                                 DataSplitter(num_splits=5,\n",
       "                                                              part_num=4)),\n",
       "                                                ('drop_changepoint',\n",
       "                                                 DropColumnTransformer(columns_to_drop=['changepoint'])),\n",
       "                                                ('smooth', SmoothCurve()),\n",
       "                                                ('scaler', StandardScaler()),\n",
       "                                                ('df_creator',\n",
       "                                                 CreateStatsDataframe())]))])"
      ]
     },
     "execution_count": 23,
     "metadata": {},
     "output_type": "execute_result"
    }
   ],
   "source": [
    "feature_pipe"
   ]
  },
  {
   "cell_type": "code",
   "execution_count": 21,
   "metadata": {},
   "outputs": [
    {
     "name": "stdout",
     "output_type": "stream",
     "text": [
      "0\n",
      "1\n",
      "2\n",
      "3\n",
      "4\n"
     ]
    },
    {
     "ename": "ValueError",
     "evalue": "all the input array dimensions except for the concatenation axis must match exactly, but along dimension 0, the array at index 0 has size 2533 and the array at index 4 has size 2535",
     "output_type": "error",
     "traceback": [
      "\u001b[0;31m---------------------------------------------------------------------------\u001b[0m",
      "\u001b[0;31mValueError\u001b[0m                                Traceback (most recent call last)",
      "Cell \u001b[0;32mIn[21], line 1\u001b[0m\n\u001b[0;32m----> 1\u001b[0m \u001b[43mfeature_pipe\u001b[49m\u001b[38;5;241;43m.\u001b[39;49m\u001b[43mfit_transform\u001b[49m\u001b[43m(\u001b[49m\u001b[43mX\u001b[49m\u001b[43m)\u001b[49m\n\u001b[1;32m      2\u001b[0m \u001b[38;5;66;03m# targets_pipe.transform(y)\u001b[39;00m\n",
      "File \u001b[0;32m~/Documents/runi/mlops-anomaly-detection/.venv/lib/python3.10/site-packages/sklearn/pipeline.py:1162\u001b[0m, in \u001b[0;36mFeatureUnion.fit_transform\u001b[0;34m(self, X, y, **fit_params)\u001b[0m\n\u001b[1;32m   1159\u001b[0m Xs, transformers \u001b[38;5;241m=\u001b[39m \u001b[38;5;28mzip\u001b[39m(\u001b[38;5;241m*\u001b[39mresults)\n\u001b[1;32m   1160\u001b[0m \u001b[38;5;28mself\u001b[39m\u001b[38;5;241m.\u001b[39m_update_transformer_list(transformers)\n\u001b[0;32m-> 1162\u001b[0m \u001b[38;5;28;01mreturn\u001b[39;00m \u001b[38;5;28;43mself\u001b[39;49m\u001b[38;5;241;43m.\u001b[39;49m\u001b[43m_hstack\u001b[49m\u001b[43m(\u001b[49m\u001b[43mXs\u001b[49m\u001b[43m)\u001b[49m\n",
      "File \u001b[0;32m~/Documents/runi/mlops-anomaly-detection/.venv/lib/python3.10/site-packages/sklearn/pipeline.py:1218\u001b[0m, in \u001b[0;36mFeatureUnion._hstack\u001b[0;34m(self, Xs)\u001b[0m\n\u001b[1;32m   1216\u001b[0m     Xs \u001b[38;5;241m=\u001b[39m sparse\u001b[38;5;241m.\u001b[39mhstack(Xs)\u001b[38;5;241m.\u001b[39mtocsr()\n\u001b[1;32m   1217\u001b[0m \u001b[38;5;28;01melse\u001b[39;00m:\n\u001b[0;32m-> 1218\u001b[0m     Xs \u001b[38;5;241m=\u001b[39m \u001b[43mnp\u001b[49m\u001b[38;5;241;43m.\u001b[39;49m\u001b[43mhstack\u001b[49m\u001b[43m(\u001b[49m\u001b[43mXs\u001b[49m\u001b[43m)\u001b[49m\n\u001b[1;32m   1219\u001b[0m \u001b[38;5;28;01mreturn\u001b[39;00m Xs\n",
      "File \u001b[0;32m~/Documents/runi/mlops-anomaly-detection/.venv/lib/python3.10/site-packages/numpy/core/shape_base.py:359\u001b[0m, in \u001b[0;36mhstack\u001b[0;34m(tup, dtype, casting)\u001b[0m\n\u001b[1;32m    357\u001b[0m     \u001b[38;5;28;01mreturn\u001b[39;00m _nx\u001b[38;5;241m.\u001b[39mconcatenate(arrs, \u001b[38;5;241m0\u001b[39m, dtype\u001b[38;5;241m=\u001b[39mdtype, casting\u001b[38;5;241m=\u001b[39mcasting)\n\u001b[1;32m    358\u001b[0m \u001b[38;5;28;01melse\u001b[39;00m:\n\u001b[0;32m--> 359\u001b[0m     \u001b[38;5;28;01mreturn\u001b[39;00m \u001b[43m_nx\u001b[49m\u001b[38;5;241;43m.\u001b[39;49m\u001b[43mconcatenate\u001b[49m\u001b[43m(\u001b[49m\u001b[43marrs\u001b[49m\u001b[43m,\u001b[49m\u001b[43m \u001b[49m\u001b[38;5;241;43m1\u001b[39;49m\u001b[43m,\u001b[49m\u001b[43m \u001b[49m\u001b[43mdtype\u001b[49m\u001b[38;5;241;43m=\u001b[39;49m\u001b[43mdtype\u001b[49m\u001b[43m,\u001b[49m\u001b[43m \u001b[49m\u001b[43mcasting\u001b[49m\u001b[38;5;241;43m=\u001b[39;49m\u001b[43mcasting\u001b[49m\u001b[43m)\u001b[49m\n",
      "\u001b[0;31mValueError\u001b[0m: all the input array dimensions except for the concatenation axis must match exactly, but along dimension 0, the array at index 0 has size 2533 and the array at index 4 has size 2535"
     ]
    }
   ],
   "source": [
    "feature_pipe.fit(X)\n",
    "# targets_pipe.transform(y)"
   ]
  },
  {
   "cell_type": "code",
   "execution_count": null,
   "metadata": {},
   "outputs": [],
   "source": [
    "[feature_pipe]*3"
   ]
  },
  {
   "cell_type": "code",
   "execution_count": null,
   "metadata": {},
   "outputs": [],
   "source": [
    "import pandas as pd\n",
    "from typing import List\n",
    "from sklearn.base import BaseEstimator, TransformerMixin\n",
    "from sklearn.preprocessing import FunctionTransformer\n",
    "\n",
    "class DataSplitter(BaseEstimator, TransformerMixin):\n",
    "    def __init__(self, num_splits: int,part_num):\n",
    "        self.num_splits = num_splits\n",
    "        self.part_num = part_num\n",
    "\n",
    "    def fit(self, X, y=None):\n",
    "        return self\n",
    "\n",
    "    def transform(self, X):\n",
    "        \"\"\"\n",
    "        Splits a dataframe to multiple splits determined by num_splits argument\n",
    "\n",
    "        Args:\n",
    "            X (pd.DataFrame): The data set to split by the index (not shuffled)\n",
    "\n",
    "        Returns:\n",
    "            List[pd.DataFrame]: list that contains the dataframe splits\n",
    "        \"\"\"\n",
    "        num_rows_per_part = len(X) // self.num_splits\n",
    "        parts = []\n",
    "        for i in range(self.num_splits):\n",
    "            if i < self.num_splits - 1:\n",
    "                part = X.iloc[i * num_rows_per_part: (i + 1) * num_rows_per_part]\n",
    "            else:\n",
    "                # For the last part, include the remaining rows\n",
    "                part = X.iloc[i * num_rows_per_part:]\n",
    "            parts.append(part)\n",
    "        if self.part_num is not None:\n",
    "            print(self.part_num)\n",
    "            parts = parts[self.part_num]\n",
    "        return parts\n"
   ]
  },
  {
   "cell_type": "code",
   "execution_count": null,
   "metadata": {},
   "outputs": [],
   "source": [
    "data_splitter = Pipeline(\n",
    "            [(f'data_part_{i}' ,DataSplitter(num_splits=5,part_num=i)) for i in range(5)]\n",
    "            )"
   ]
  },
  {
   "cell_type": "code",
   "execution_count": null,
   "metadata": {},
   "outputs": [],
   "source": [
    "# Example usage:\n",
    "# Create an instance of the transformer\n",
    "transformer = DataSplitter(num_splits=3,part_num=2)\n",
    "\n",
    "# Apply the transformer to your data\n",
    "data_splits = transformer.fit_transform(x)"
   ]
  },
  {
   "cell_type": "code",
   "execution_count": null,
   "metadata": {},
   "outputs": [],
   "source": [
    "data_splits"
   ]
  },
  {
   "cell_type": "markdown",
   "metadata": {},
   "source": [
    "### examples"
   ]
  },
  {
   "cell_type": "code",
   "execution_count": null,
   "metadata": {},
   "outputs": [],
   "source": [
    "# 1. load the datasets - by config\n",
    "#   1.1 split for train test (if validation set is needed it will this function again)\n",
    "#   1.2 - split the data for each model\n",
    "# 2. data pipelines - for each model - create data pipeline for each datafreame in a loop, then append the model\n",
    "# 3. model as a transformer\n",
    "#  4. aggregate the results to one df - (feature union) - example in run models.ipynb\n",
    "# 5. model evaluation\n",
    "# 6. model selection\n",
    "\n",
    "\n",
    "# pipeline.fit_transform(X_train,y_train)\n",
    "#pipeline.transform(X_test)\n",
    "\n",
    "\n",
    "#### the implemetation shuold be close to this:\n",
    "from sklearn.pipeline import Pipeline, FeatureUnion\n",
    "from sklearn.preprocessing import StandardScaler\n",
    "from sklearn.decomposition import PCA\n",
    "from sklearn.ensemble import RandomForestClassifier\n",
    "from sklearn.datasets import make_classification\n",
    "from sklearn.model_selection import train_test_split\n",
    "\n",
    "# Create synthetic data\n",
    "X, y = make_classification(n_samples=1000, n_features=20, random_state=42)\n",
    "\n",
    "# Split data into training and testing sets\n",
    "X_train, X_test, y_train, y_test = train_test_split(X, y, test_size=0.2, random_state=42)\n",
    "\n",
    "# Define transformers\n",
    "transformer_list = [\n",
    "    ('scaler', StandardScaler()),  # Standardize features\n",
    "    ('pca', PCA(n_components=10))  # Reduce dimensionality\n",
    "]\n",
    "\n",
    "# Define a FeatureUnion combining the transformers\n",
    "feature_union = FeatureUnion(transformer_list)\n",
    "\n",
    "# Define the model\n",
    "model = RandomForestClassifier(n_estimators=100, random_state=42)\n",
    "\n",
    "# Create a pipeline\n",
    "pipeline = Pipeline([\n",
    "    ('features', feature_union),  # Apply the feature union\n",
    "    ('classifier', model)  # Apply the classifier\n",
    "])\n",
    "\n",
    "# Fit the pipeline to the training data\n",
    "pipeline.fit(X_train, y_train)\n",
    "\n",
    "# Make predictions\n",
    "y_pred = pipeline.predict(X_test)\n",
    "\n",
    "# Evaluate the model\n",
    "from sklearn.metrics import accuracy_score, classification_report\n",
    "\n",
    "accuracy = accuracy_score(y_test, y_pred)\n",
    "report = classification_report(y_test, y_pred)\n",
    "\n",
    "print(\"Accuracy:\", accuracy)\n",
    "print(\"Classification Report:\\n\", report)\n"
   ]
  },
  {
   "cell_type": "code",
   "execution_count": null,
   "metadata": {},
   "outputs": [],
   "source": [
    "full_pipeline"
   ]
  },
  {
   "cell_type": "code",
   "execution_count": null,
   "metadata": {},
   "outputs": [],
   "source": [
    "from sklearn.base import BaseEstimator, TransformerMixin\n",
    "from sklearn.pipeline import FeatureUnion, Pipeline\n",
    "from sklearn.preprocessing import StandardScaler, OneHotEncoder\n",
    "from sklearn.impute import SimpleImputer\n",
    "import pandas as pd\n",
    "\n",
    "# Sample data\n",
    "data = pd.DataFrame({\n",
    "    'feature1': [1, 2, 3],\n",
    "    'feature2': [4, 5, 6],\n",
    "    'feature3': ['A', 'B', 'C']\n",
    "})\n",
    "\n",
    "class DataFilter(BaseEstimator, TransformerMixin):\n",
    "    def __init__(self, columns):\n",
    "        self.columns = columns\n",
    "\n",
    "    def fit(self, X, y=None):\n",
    "        return self\n",
    "\n",
    "    def transform(self, X):\n",
    "        return X[self.columns]\n",
    "\n",
    "# Define pipelines for each branch of the FeatureUnion\n",
    "pipeline1 = Pipeline([\n",
    "    ('filter1', DataFilter(['feature1', 'feature2'])),\n",
    "    ('imputer1', SimpleImputer(strategy='median')),\n",
    "    ('scaler1', StandardScaler())\n",
    "])\n",
    "\n",
    "pipeline2 = Pipeline([\n",
    "    ('filter2', DataFilter(['feature3'])),\n",
    "    ('imputer2', SimpleImputer(strategy='most_frequent')),\n",
    "    ('onehot', OneHotEncoder(handle_unknown='ignore'))\n",
    "])\n",
    "\n",
    "# Combine the pipelines using FeatureUnion\n",
    "full_pipeline = FeatureUnion(transformer_list=[\n",
    "    ('pipeline1', pipeline1),\n",
    "    ('pipeline2', pipeline2)\n",
    "])\n",
    "\n",
    "# Fit and transform the data using the full pipeline\n",
    "transformed_data = full_pipeline.fit_transform(data)\n",
    "\n",
    "# The transformed_data now contains the transformed data for each input dataframe, filtered differently for each branch\n"
   ]
  },
  {
   "cell_type": "code",
   "execution_count": null,
   "metadata": {},
   "outputs": [],
   "source": [
    "full_pipeline"
   ]
  },
  {
   "cell_type": "code",
   "execution_count": null,
   "metadata": {},
   "outputs": [],
   "source": []
  }
 ],
 "metadata": {
  "kernelspec": {
   "display_name": ".venv",
   "language": "python",
   "name": "python3"
  },
  "language_info": {
   "codemirror_mode": {
    "name": "ipython",
    "version": 3
   },
   "file_extension": ".py",
   "mimetype": "text/x-python",
   "name": "python",
   "nbconvert_exporter": "python",
   "pygments_lexer": "ipython3",
   "version": "3.10.13"
  }
 },
 "nbformat": 4,
 "nbformat_minor": 2
}

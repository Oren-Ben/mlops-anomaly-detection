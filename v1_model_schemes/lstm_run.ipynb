{
 "cells": [
  {
   "cell_type": "code",
   "execution_count": 1,
   "metadata": {},
   "outputs": [],
   "source": [
    "%load_ext autoreload\n",
    "%autoreload 2"
   ]
  },
  {
   "cell_type": "code",
   "execution_count": 2,
   "metadata": {},
   "outputs": [
    {
     "name": "stderr",
     "output_type": "stream",
     "text": [
      "2024-02-28 17:10:24.029529: I tensorflow/core/platform/cpu_feature_guard.cc:182] This TensorFlow binary is optimized to use available CPU instructions in performance-critical operations.\n",
      "To enable the following instructions: AVX2 AVX512F AVX512_VNNI FMA, in other operations, rebuild TensorFlow with the appropriate compiler flags.\n"
     ]
    }
   ],
   "source": [
    "import pandas as pd\n",
    "from utils_lstm import load_lstm_dfs, load_train_test_lstm\n",
    "from lstm_data_prep import LstmDataPrep\n",
    "from sklearn.preprocessing import StandardScaler\n"
   ]
  },
  {
   "cell_type": "code",
   "execution_count": 3,
   "metadata": {},
   "outputs": [],
   "source": [
    "list_of_dfs=load_lstm_dfs()\n",
    "train_set, test_set = load_train_test_lstm(list_of_dfs=list_of_dfs)"
   ]
  },
  {
   "cell_type": "code",
   "execution_count": 4,
   "metadata": {},
   "outputs": [
    {
     "name": "stdout",
     "output_type": "stream",
     "text": [
      "Train Shape:  (13600, 10)\n",
      "Test Shape: (37401, 10)\n"
     ]
    }
   ],
   "source": [
    "print(\"Train Shape: \",train_set.shape)\n",
    "print(\"Test Shape:\" ,test_set.shape)"
   ]
  },
  {
   "cell_type": "markdown",
   "metadata": {},
   "source": [
    "New Try"
   ]
  },
  {
   "cell_type": "code",
   "execution_count": 5,
   "metadata": {},
   "outputs": [],
   "source": [
    "config = {\n",
    "    'target_column': 'anomaly',\n",
    "    'n_steps' : 5,\n",
    "    'num_splits' : 5,\n",
    "    }"
   ]
  },
  {
   "cell_type": "code",
   "execution_count": 6,
   "metadata": {},
   "outputs": [],
   "source": [
    "model_pipe = LstmDataPrep(**config).run()"
   ]
  },
  {
   "cell_type": "code",
   "execution_count": 7,
   "metadata": {},
   "outputs": [
    {
     "data": {
      "text/html": [
       "<style>#sk-container-id-1 {color: black;background-color: white;}#sk-container-id-1 pre{padding: 0;}#sk-container-id-1 div.sk-toggleable {background-color: white;}#sk-container-id-1 label.sk-toggleable__label {cursor: pointer;display: block;width: 100%;margin-bottom: 0;padding: 0.3em;box-sizing: border-box;text-align: center;}#sk-container-id-1 label.sk-toggleable__label-arrow:before {content: \"▸\";float: left;margin-right: 0.25em;color: #696969;}#sk-container-id-1 label.sk-toggleable__label-arrow:hover:before {color: black;}#sk-container-id-1 div.sk-estimator:hover label.sk-toggleable__label-arrow:before {color: black;}#sk-container-id-1 div.sk-toggleable__content {max-height: 0;max-width: 0;overflow: hidden;text-align: left;background-color: #f0f8ff;}#sk-container-id-1 div.sk-toggleable__content pre {margin: 0.2em;color: black;border-radius: 0.25em;background-color: #f0f8ff;}#sk-container-id-1 input.sk-toggleable__control:checked~div.sk-toggleable__content {max-height: 200px;max-width: 100%;overflow: auto;}#sk-container-id-1 input.sk-toggleable__control:checked~label.sk-toggleable__label-arrow:before {content: \"▾\";}#sk-container-id-1 div.sk-estimator input.sk-toggleable__control:checked~label.sk-toggleable__label {background-color: #d4ebff;}#sk-container-id-1 div.sk-label input.sk-toggleable__control:checked~label.sk-toggleable__label {background-color: #d4ebff;}#sk-container-id-1 input.sk-hidden--visually {border: 0;clip: rect(1px 1px 1px 1px);clip: rect(1px, 1px, 1px, 1px);height: 1px;margin: -1px;overflow: hidden;padding: 0;position: absolute;width: 1px;}#sk-container-id-1 div.sk-estimator {font-family: monospace;background-color: #f0f8ff;border: 1px dotted black;border-radius: 0.25em;box-sizing: border-box;margin-bottom: 0.5em;}#sk-container-id-1 div.sk-estimator:hover {background-color: #d4ebff;}#sk-container-id-1 div.sk-parallel-item::after {content: \"\";width: 100%;border-bottom: 1px solid gray;flex-grow: 1;}#sk-container-id-1 div.sk-label:hover label.sk-toggleable__label {background-color: #d4ebff;}#sk-container-id-1 div.sk-serial::before {content: \"\";position: absolute;border-left: 1px solid gray;box-sizing: border-box;top: 0;bottom: 0;left: 50%;z-index: 0;}#sk-container-id-1 div.sk-serial {display: flex;flex-direction: column;align-items: center;background-color: white;padding-right: 0.2em;padding-left: 0.2em;position: relative;}#sk-container-id-1 div.sk-item {position: relative;z-index: 1;}#sk-container-id-1 div.sk-parallel {display: flex;align-items: stretch;justify-content: center;background-color: white;position: relative;}#sk-container-id-1 div.sk-item::before, #sk-container-id-1 div.sk-parallel-item::before {content: \"\";position: absolute;border-left: 1px solid gray;box-sizing: border-box;top: 0;bottom: 0;left: 50%;z-index: -1;}#sk-container-id-1 div.sk-parallel-item {display: flex;flex-direction: column;z-index: 1;position: relative;background-color: white;}#sk-container-id-1 div.sk-parallel-item:first-child::after {align-self: flex-end;width: 50%;}#sk-container-id-1 div.sk-parallel-item:last-child::after {align-self: flex-start;width: 50%;}#sk-container-id-1 div.sk-parallel-item:only-child::after {width: 0;}#sk-container-id-1 div.sk-dashed-wrapped {border: 1px dashed gray;margin: 0 0.4em 0.5em 0.4em;box-sizing: border-box;padding-bottom: 0.4em;background-color: white;}#sk-container-id-1 div.sk-label label {font-family: monospace;font-weight: bold;display: inline-block;line-height: 1.2em;}#sk-container-id-1 div.sk-label-container {text-align: center;}#sk-container-id-1 div.sk-container {/* jupyter's `normalize.less` sets `[hidden] { display: none; }` but bootstrap.min.css set `[hidden] { display: none !important; }` so we also need the `!important` here to be able to override the default hidden behavior on the sphinx rendered scikit-learn.org. See: https://github.com/scikit-learn/scikit-learn/issues/21755 */display: inline-block !important;position: relative;}#sk-container-id-1 div.sk-text-repr-fallback {display: none;}</style><div id=\"sk-container-id-1\" class=\"sk-top-container\"><div class=\"sk-text-repr-fallback\"><pre>Pipeline(steps=[(&#x27;transformations&#x27;,\n",
       "                 FeatureUnion(transformer_list=[(&#x27;part_0&#x27;,\n",
       "                                                 Pipeline(steps=[(&#x27;drop_targets&#x27;,\n",
       "                                                                  DropColumnTransformer(columns_to_drop=[&#x27;changepoint&#x27;,\n",
       "                                                                                                         &#x27;anomaly&#x27;])),\n",
       "                                                                 (&#x27;classifier&#x27;,\n",
       "                                                                  &lt;lstm_model.LstmModel object at 0x14212a380&gt;)])),\n",
       "                                                (&#x27;part_1&#x27;,\n",
       "                                                 Pipeline(steps=[(&#x27;drop_targets&#x27;,\n",
       "                                                                  DropColumnTransformer(columns_to_drop=[&#x27;changepoint&#x27;,\n",
       "                                                                                                         &#x27;anomaly&#x27;])),\n",
       "                                                                 (&#x27;classi...\n",
       "                                                 Pipeline(steps=[(&#x27;drop_targets&#x27;,\n",
       "                                                                  DropColumnTransformer(columns_to_drop=[&#x27;changepoint&#x27;,\n",
       "                                                                                                         &#x27;anomaly&#x27;])),\n",
       "                                                                 (&#x27;classifier&#x27;,\n",
       "                                                                  &lt;lstm_model.LstmModel object at 0x14212a710&gt;)])),\n",
       "                                                (&#x27;part_4&#x27;,\n",
       "                                                 Pipeline(steps=[(&#x27;drop_targets&#x27;,\n",
       "                                                                  DropColumnTransformer(columns_to_drop=[&#x27;changepoint&#x27;,\n",
       "                                                                                                         &#x27;anomaly&#x27;])),\n",
       "                                                                 (&#x27;classifier&#x27;,\n",
       "                                                                  &lt;lstm_model.LstmModel object at 0x14212a860&gt;)]))])),\n",
       "                (&#x27;processing_results&#x27;, AggregateModelScores())])</pre><b>In a Jupyter environment, please rerun this cell to show the HTML representation or trust the notebook. <br />On GitHub, the HTML representation is unable to render, please try loading this page with nbviewer.org.</b></div><div class=\"sk-container\" hidden><div class=\"sk-item sk-dashed-wrapped\"><div class=\"sk-label-container\"><div class=\"sk-label sk-toggleable\"><input class=\"sk-toggleable__control sk-hidden--visually\" id=\"sk-estimator-id-1\" type=\"checkbox\" ><label for=\"sk-estimator-id-1\" class=\"sk-toggleable__label sk-toggleable__label-arrow\">Pipeline</label><div class=\"sk-toggleable__content\"><pre>Pipeline(steps=[(&#x27;transformations&#x27;,\n",
       "                 FeatureUnion(transformer_list=[(&#x27;part_0&#x27;,\n",
       "                                                 Pipeline(steps=[(&#x27;drop_targets&#x27;,\n",
       "                                                                  DropColumnTransformer(columns_to_drop=[&#x27;changepoint&#x27;,\n",
       "                                                                                                         &#x27;anomaly&#x27;])),\n",
       "                                                                 (&#x27;classifier&#x27;,\n",
       "                                                                  &lt;lstm_model.LstmModel object at 0x14212a380&gt;)])),\n",
       "                                                (&#x27;part_1&#x27;,\n",
       "                                                 Pipeline(steps=[(&#x27;drop_targets&#x27;,\n",
       "                                                                  DropColumnTransformer(columns_to_drop=[&#x27;changepoint&#x27;,\n",
       "                                                                                                         &#x27;anomaly&#x27;])),\n",
       "                                                                 (&#x27;classi...\n",
       "                                                 Pipeline(steps=[(&#x27;drop_targets&#x27;,\n",
       "                                                                  DropColumnTransformer(columns_to_drop=[&#x27;changepoint&#x27;,\n",
       "                                                                                                         &#x27;anomaly&#x27;])),\n",
       "                                                                 (&#x27;classifier&#x27;,\n",
       "                                                                  &lt;lstm_model.LstmModel object at 0x14212a710&gt;)])),\n",
       "                                                (&#x27;part_4&#x27;,\n",
       "                                                 Pipeline(steps=[(&#x27;drop_targets&#x27;,\n",
       "                                                                  DropColumnTransformer(columns_to_drop=[&#x27;changepoint&#x27;,\n",
       "                                                                                                         &#x27;anomaly&#x27;])),\n",
       "                                                                 (&#x27;classifier&#x27;,\n",
       "                                                                  &lt;lstm_model.LstmModel object at 0x14212a860&gt;)]))])),\n",
       "                (&#x27;processing_results&#x27;, AggregateModelScores())])</pre></div></div></div><div class=\"sk-serial\"><div class=\"sk-item sk-dashed-wrapped\"><div class=\"sk-label-container\"><div class=\"sk-label sk-toggleable\"><input class=\"sk-toggleable__control sk-hidden--visually\" id=\"sk-estimator-id-2\" type=\"checkbox\" ><label for=\"sk-estimator-id-2\" class=\"sk-toggleable__label sk-toggleable__label-arrow\">transformations: FeatureUnion</label><div class=\"sk-toggleable__content\"><pre>FeatureUnion(transformer_list=[(&#x27;part_0&#x27;,\n",
       "                                Pipeline(steps=[(&#x27;drop_targets&#x27;,\n",
       "                                                 DropColumnTransformer(columns_to_drop=[&#x27;changepoint&#x27;,\n",
       "                                                                                        &#x27;anomaly&#x27;])),\n",
       "                                                (&#x27;classifier&#x27;,\n",
       "                                                 &lt;lstm_model.LstmModel object at 0x14212a380&gt;)])),\n",
       "                               (&#x27;part_1&#x27;,\n",
       "                                Pipeline(steps=[(&#x27;drop_targets&#x27;,\n",
       "                                                 DropColumnTransformer(columns_to_drop=[&#x27;changepoint&#x27;,\n",
       "                                                                                        &#x27;anomaly&#x27;])),\n",
       "                                                (&#x27;classifier&#x27;,\n",
       "                                                 &lt;lstm_model.LstmModel object at...\n",
       "                                                 &lt;lstm_model.LstmModel object at 0x142129fc0&gt;)])),\n",
       "                               (&#x27;part_3&#x27;,\n",
       "                                Pipeline(steps=[(&#x27;drop_targets&#x27;,\n",
       "                                                 DropColumnTransformer(columns_to_drop=[&#x27;changepoint&#x27;,\n",
       "                                                                                        &#x27;anomaly&#x27;])),\n",
       "                                                (&#x27;classifier&#x27;,\n",
       "                                                 &lt;lstm_model.LstmModel object at 0x14212a710&gt;)])),\n",
       "                               (&#x27;part_4&#x27;,\n",
       "                                Pipeline(steps=[(&#x27;drop_targets&#x27;,\n",
       "                                                 DropColumnTransformer(columns_to_drop=[&#x27;changepoint&#x27;,\n",
       "                                                                                        &#x27;anomaly&#x27;])),\n",
       "                                                (&#x27;classifier&#x27;,\n",
       "                                                 &lt;lstm_model.LstmModel object at 0x14212a860&gt;)]))])</pre></div></div></div><div class=\"sk-parallel\"><div class=\"sk-parallel-item\"><div class=\"sk-item\"><div class=\"sk-label-container\"><div class=\"sk-label sk-toggleable\"><label>part_0</label></div></div><div class=\"sk-serial\"><div class=\"sk-item\"><div class=\"sk-serial\"><div class=\"sk-item\"><div class=\"sk-estimator sk-toggleable\"><input class=\"sk-toggleable__control sk-hidden--visually\" id=\"sk-estimator-id-3\" type=\"checkbox\" ><label for=\"sk-estimator-id-3\" class=\"sk-toggleable__label sk-toggleable__label-arrow\">DropColumnTransformer</label><div class=\"sk-toggleable__content\"><pre>DropColumnTransformer(columns_to_drop=[&#x27;changepoint&#x27;, &#x27;anomaly&#x27;])</pre></div></div></div><div class=\"sk-item\"><div class=\"sk-estimator sk-toggleable\"><input class=\"sk-toggleable__control sk-hidden--visually\" id=\"sk-estimator-id-4\" type=\"checkbox\" ><label for=\"sk-estimator-id-4\" class=\"sk-toggleable__label sk-toggleable__label-arrow\">LstmModel</label><div class=\"sk-toggleable__content\"><pre>&lt;lstm_model.LstmModel object at 0x14212a380&gt;</pre></div></div></div></div></div></div></div></div><div class=\"sk-parallel-item\"><div class=\"sk-item\"><div class=\"sk-label-container\"><div class=\"sk-label sk-toggleable\"><label>part_1</label></div></div><div class=\"sk-serial\"><div class=\"sk-item\"><div class=\"sk-serial\"><div class=\"sk-item\"><div class=\"sk-estimator sk-toggleable\"><input class=\"sk-toggleable__control sk-hidden--visually\" id=\"sk-estimator-id-5\" type=\"checkbox\" ><label for=\"sk-estimator-id-5\" class=\"sk-toggleable__label sk-toggleable__label-arrow\">DropColumnTransformer</label><div class=\"sk-toggleable__content\"><pre>DropColumnTransformer(columns_to_drop=[&#x27;changepoint&#x27;, &#x27;anomaly&#x27;])</pre></div></div></div><div class=\"sk-item\"><div class=\"sk-estimator sk-toggleable\"><input class=\"sk-toggleable__control sk-hidden--visually\" id=\"sk-estimator-id-6\" type=\"checkbox\" ><label for=\"sk-estimator-id-6\" class=\"sk-toggleable__label sk-toggleable__label-arrow\">LstmModel</label><div class=\"sk-toggleable__content\"><pre>&lt;lstm_model.LstmModel object at 0x142129300&gt;</pre></div></div></div></div></div></div></div></div><div class=\"sk-parallel-item\"><div class=\"sk-item\"><div class=\"sk-label-container\"><div class=\"sk-label sk-toggleable\"><label>part_2</label></div></div><div class=\"sk-serial\"><div class=\"sk-item\"><div class=\"sk-serial\"><div class=\"sk-item\"><div class=\"sk-estimator sk-toggleable\"><input class=\"sk-toggleable__control sk-hidden--visually\" id=\"sk-estimator-id-7\" type=\"checkbox\" ><label for=\"sk-estimator-id-7\" class=\"sk-toggleable__label sk-toggleable__label-arrow\">DropColumnTransformer</label><div class=\"sk-toggleable__content\"><pre>DropColumnTransformer(columns_to_drop=[&#x27;changepoint&#x27;, &#x27;anomaly&#x27;])</pre></div></div></div><div class=\"sk-item\"><div class=\"sk-estimator sk-toggleable\"><input class=\"sk-toggleable__control sk-hidden--visually\" id=\"sk-estimator-id-8\" type=\"checkbox\" ><label for=\"sk-estimator-id-8\" class=\"sk-toggleable__label sk-toggleable__label-arrow\">LstmModel</label><div class=\"sk-toggleable__content\"><pre>&lt;lstm_model.LstmModel object at 0x142129fc0&gt;</pre></div></div></div></div></div></div></div></div><div class=\"sk-parallel-item\"><div class=\"sk-item\"><div class=\"sk-label-container\"><div class=\"sk-label sk-toggleable\"><label>part_3</label></div></div><div class=\"sk-serial\"><div class=\"sk-item\"><div class=\"sk-serial\"><div class=\"sk-item\"><div class=\"sk-estimator sk-toggleable\"><input class=\"sk-toggleable__control sk-hidden--visually\" id=\"sk-estimator-id-9\" type=\"checkbox\" ><label for=\"sk-estimator-id-9\" class=\"sk-toggleable__label sk-toggleable__label-arrow\">DropColumnTransformer</label><div class=\"sk-toggleable__content\"><pre>DropColumnTransformer(columns_to_drop=[&#x27;changepoint&#x27;, &#x27;anomaly&#x27;])</pre></div></div></div><div class=\"sk-item\"><div class=\"sk-estimator sk-toggleable\"><input class=\"sk-toggleable__control sk-hidden--visually\" id=\"sk-estimator-id-10\" type=\"checkbox\" ><label for=\"sk-estimator-id-10\" class=\"sk-toggleable__label sk-toggleable__label-arrow\">LstmModel</label><div class=\"sk-toggleable__content\"><pre>&lt;lstm_model.LstmModel object at 0x14212a710&gt;</pre></div></div></div></div></div></div></div></div><div class=\"sk-parallel-item\"><div class=\"sk-item\"><div class=\"sk-label-container\"><div class=\"sk-label sk-toggleable\"><label>part_4</label></div></div><div class=\"sk-serial\"><div class=\"sk-item\"><div class=\"sk-serial\"><div class=\"sk-item\"><div class=\"sk-estimator sk-toggleable\"><input class=\"sk-toggleable__control sk-hidden--visually\" id=\"sk-estimator-id-11\" type=\"checkbox\" ><label for=\"sk-estimator-id-11\" class=\"sk-toggleable__label sk-toggleable__label-arrow\">DropColumnTransformer</label><div class=\"sk-toggleable__content\"><pre>DropColumnTransformer(columns_to_drop=[&#x27;changepoint&#x27;, &#x27;anomaly&#x27;])</pre></div></div></div><div class=\"sk-item\"><div class=\"sk-estimator sk-toggleable\"><input class=\"sk-toggleable__control sk-hidden--visually\" id=\"sk-estimator-id-12\" type=\"checkbox\" ><label for=\"sk-estimator-id-12\" class=\"sk-toggleable__label sk-toggleable__label-arrow\">LstmModel</label><div class=\"sk-toggleable__content\"><pre>&lt;lstm_model.LstmModel object at 0x14212a860&gt;</pre></div></div></div></div></div></div></div></div></div></div><div class=\"sk-item\"><div class=\"sk-estimator sk-toggleable\"><input class=\"sk-toggleable__control sk-hidden--visually\" id=\"sk-estimator-id-13\" type=\"checkbox\" ><label for=\"sk-estimator-id-13\" class=\"sk-toggleable__label sk-toggleable__label-arrow\">AggregateModelScores</label><div class=\"sk-toggleable__content\"><pre>AggregateModelScores()</pre></div></div></div></div></div></div></div>"
      ],
      "text/plain": [
       "Pipeline(steps=[('transformations',\n",
       "                 FeatureUnion(transformer_list=[('part_0',\n",
       "                                                 Pipeline(steps=[('drop_targets',\n",
       "                                                                  DropColumnTransformer(columns_to_drop=['changepoint',\n",
       "                                                                                                         'anomaly'])),\n",
       "                                                                 ('classifier',\n",
       "                                                                  <lstm_model.LstmModel object at 0x14212a380>)])),\n",
       "                                                ('part_1',\n",
       "                                                 Pipeline(steps=[('drop_targets',\n",
       "                                                                  DropColumnTransformer(columns_to_drop=['changepoint',\n",
       "                                                                                                         'anomaly'])),\n",
       "                                                                 ('classi...\n",
       "                                                 Pipeline(steps=[('drop_targets',\n",
       "                                                                  DropColumnTransformer(columns_to_drop=['changepoint',\n",
       "                                                                                                         'anomaly'])),\n",
       "                                                                 ('classifier',\n",
       "                                                                  <lstm_model.LstmModel object at 0x14212a710>)])),\n",
       "                                                ('part_4',\n",
       "                                                 Pipeline(steps=[('drop_targets',\n",
       "                                                                  DropColumnTransformer(columns_to_drop=['changepoint',\n",
       "                                                                                                         'anomaly'])),\n",
       "                                                                 ('classifier',\n",
       "                                                                  <lstm_model.LstmModel object at 0x14212a860>)]))])),\n",
       "                ('processing_results', AggregateModelScores())])"
      ]
     },
     "execution_count": 7,
     "metadata": {},
     "output_type": "execute_result"
    }
   ],
   "source": [
    "model_pipe"
   ]
  },
  {
   "cell_type": "code",
   "execution_count": null,
   "metadata": {},
   "outputs": [],
   "source": [
    "res1 = model_pipe.fit_transform(train_set)"
   ]
  },
  {
   "cell_type": "code",
   "execution_count": null,
   "metadata": {},
   "outputs": [],
   "source": [
    "res1"
   ]
  },
  {
   "cell_type": "code",
   "execution_count": null,
   "metadata": {},
   "outputs": [],
   "source": [
    "res2 = [model_pipe.transform(df) for df in  list_of_dfs]"
   ]
  },
  {
   "cell_type": "code",
   "execution_count": null,
   "metadata": {},
   "outputs": [],
   "source": [
    "res3 = pd.concat(res2, ignore_index=True)\n",
    "res3"
   ]
  },
  {
   "cell_type": "code",
   "execution_count": null,
   "metadata": {},
   "outputs": [],
   "source": [
    "y_pred = res3['avg_prediction']\n",
    "y_pred.shape"
   ]
  },
  {
   "cell_type": "code",
   "execution_count": null,
   "metadata": {},
   "outputs": [],
   "source": [
    "base_preds = pd.read_csv('../data/lstm_baseline_predictions.csv')['y_pred']"
   ]
  },
  {
   "cell_type": "code",
   "execution_count": null,
   "metadata": {},
   "outputs": [],
   "source": [
    "len(base_preds)"
   ]
  },
  {
   "cell_type": "code",
   "execution_count": null,
   "metadata": {},
   "outputs": [],
   "source": [
    "len(y_pred)"
   ]
  },
  {
   "cell_type": "code",
   "execution_count": null,
   "metadata": {},
   "outputs": [],
   "source": [
    "y_test = pd.concat([df['anomaly'][5:] for df in list_of_dfs],ignore_index=True)\n",
    "len(y_test)"
   ]
  },
  {
   "cell_type": "code",
   "execution_count": null,
   "metadata": {},
   "outputs": [],
   "source": [
    "models_config = {\n",
    "    'baseline' : {\n",
    "        'y_test' :y_test.values,\n",
    "        'y_pred': base_preds.values,\n",
    "        'th': 0.5\n",
    "    },\n",
    "    \n",
    "    'new_model' : {\n",
    "        'y_test' :y_test.values,\n",
    "        'y_pred':y_pred.values,\n",
    "        'th' : 0.91\n",
    "    }\n",
    "}"
   ]
  },
  {
   "cell_type": "code",
   "execution_count": null,
   "metadata": {},
   "outputs": [],
   "source": [
    "models_config"
   ]
  },
  {
   "cell_type": "code",
   "execution_count": null,
   "metadata": {},
   "outputs": [],
   "source": [
    "from evaluation import ModelEvaluation"
   ]
  },
  {
   "cell_type": "code",
   "execution_count": null,
   "metadata": {},
   "outputs": [],
   "source": [
    "eval = ModelEvaluation(eval_config=models_config)"
   ]
  },
  {
   "cell_type": "code",
   "execution_count": null,
   "metadata": {},
   "outputs": [],
   "source": [
    "# eval.calc_metrics()"
   ]
  },
  {
   "cell_type": "code",
   "execution_count": null,
   "metadata": {},
   "outputs": [],
   "source": [
    "eval.eval_config['new_model'].keys()"
   ]
  },
  {
   "cell_type": "code",
   "execution_count": null,
   "metadata": {},
   "outputs": [],
   "source": [
    "eval.plot_metrics()"
   ]
  },
  {
   "cell_type": "code",
   "execution_count": null,
   "metadata": {},
   "outputs": [],
   "source": [
    "# import matplotlib.pyplot as plt\n",
    "# from sklearn.metrics import f1_score\n",
    "# from sklearn.metrics import accuracy_score\n",
    "# from sklearn.metrics import confusion_matrix , ConfusionMatrixDisplay\n",
    "# from sklearn.metrics import roc_curve, auc\n",
    "# import numpy as np"
   ]
  },
  {
   "cell_type": "code",
   "execution_count": null,
   "metadata": {},
   "outputs": [],
   "source": [
    "# def calc_metrics(y_true,y_pred):\n",
    "#     th = 0.91\n",
    "#     accuracy = accuracy_score(y_true, np.where(y_pred>=th,1,0))\n",
    "#     cm = confusion_matrix(y_true, np.where(y_pred>=th,1,0))\n",
    "#     f1 = f1_score(y_true, np.where(y_pred>=th,1,0))\n",
    "#     fpr, tpr, thresholds = roc_curve(y_true, y_pred)\n",
    "#     roc_auc = auc(fpr, tpr)\n",
    "#     return accuracy,cm,f1,fpr, tpr, thresholds, roc_auc\n",
    "\n",
    "# def plot_metrics(cm, fpr, tpr, roc_auc, thresholds, title = 'Model Evaluation Metrics'):\n",
    "    \n",
    "#     fig, ax = plt.subplots(nrows=1, ncols=2, figsize=(16, 8))\n",
    "#     fig.suptitle(title, fontsize=16, y=1.02)\n",
    "#     confusion_matrix_ax = ax[0]\n",
    "#     roc_curve_ax = ax[1]\n",
    "\n",
    "#     # Confusion Matrix in the first subplot\n",
    "#     ConfusionMatrixDisplay(confusion_matrix=cm).plot(ax=confusion_matrix_ax,cmap='Blues')\n",
    "#     confusion_matrix_ax.set_title('Confusion Matrix')\n",
    "#     confusion_matrix_ax.set_xlabel('Predicted labels')\n",
    "#     confusion_matrix_ax.set_ylabel('True labels')\n",
    "\n",
    "#     # ROC Curve in the second subplot\n",
    "#     roc_curve_ax.plot(fpr, tpr, color='darkorange', lw=2, label=f'AUC = {roc_auc:.2f}')\n",
    "#     roc_curve_ax.plot([0, 1], [0, 1], color='navy', lw=2, linestyle='--')\n",
    "#     roc_curve_ax.set_xlabel('False Positive Rate')\n",
    "#     roc_curve_ax.set_ylabel('True Positive Rate')\n",
    "#     roc_curve_ax.set_title('Receiver Operating Characteristic (ROC) Curve')\n",
    "#     roc_curve_ax.legend(loc='lower right')\n",
    "#     # Display the plot\n",
    "#     plt.tight_layout()\n",
    "#     plt.show()"
   ]
  },
  {
   "cell_type": "code",
   "execution_count": null,
   "metadata": {},
   "outputs": [],
   "source": [
    "# accuracy, cm, f1, fpr, tpr, thresholds, roc_auc = calc_metrics(y_test,y_pred)\n",
    "# plot_metrics(cm, fpr, tpr, roc_auc, thresholds, title = 'Average Probability')"
   ]
  },
  {
   "cell_type": "markdown",
   "metadata": {},
   "source": [
    "## MAR"
   ]
  },
  {
   "cell_type": "code",
   "execution_count": null,
   "metadata": {},
   "outputs": [],
   "source": [
    "2239/(2239+10828)"
   ]
  },
  {
   "cell_type": "code",
   "execution_count": null,
   "metadata": {},
   "outputs": [],
   "source": [
    "from lstm_full_model import FullLstmPipeline"
   ]
  },
  {
   "cell_type": "code",
   "execution_count": null,
   "metadata": {},
   "outputs": [],
   "source": [
    "model_config = {\n",
    "    'target_column': 'anomaly',\n",
    "    'n_steps' : 5,\n",
    "    'num_splits' : 34,\n",
    "    }"
   ]
  },
  {
   "cell_type": "code",
   "execution_count": null,
   "metadata": {},
   "outputs": [],
   "source": [
    "full_model = FullLstmPipeline(model_config)"
   ]
  },
  {
   "cell_type": "code",
   "execution_count": null,
   "metadata": {},
   "outputs": [],
   "source": [
    "\n",
    "preds = full_model.run()"
   ]
  },
  {
   "cell_type": "code",
   "execution_count": null,
   "metadata": {},
   "outputs": [],
   "source": [
    "preds"
   ]
  },
  {
   "cell_type": "code",
   "execution_count": null,
   "metadata": {},
   "outputs": [],
   "source": [
    "full_model.y_test"
   ]
  },
  {
   "cell_type": "code",
   "execution_count": null,
   "metadata": {},
   "outputs": [],
   "source": [
    "model_config1 = {\n",
    "    'target_column': 'anomaly',\n",
    "    'n_steps' : 5,\n",
    "    'num_splits' : 34,\n",
    "    'th' : 0.91\n",
    "    }"
   ]
  },
  {
   "cell_type": "code",
   "execution_count": null,
   "metadata": {},
   "outputs": [],
   "source": [
    "from evaluation import ModelSelector"
   ]
  },
  {
   "cell_type": "code",
   "execution_count": null,
   "metadata": {},
   "outputs": [],
   "source": [
    "selector = ModelSelector(model_config1,FullLstmPipeline,min_splits=32,max_splits=34)"
   ]
  },
  {
   "cell_type": "code",
   "execution_count": null,
   "metadata": {},
   "outputs": [],
   "source": [
    "res = selector.run_model_permutations()"
   ]
  },
  {
   "cell_type": "code",
   "execution_count": null,
   "metadata": {},
   "outputs": [],
   "source": [
    "res[0].style.background_gradient(axis=1)"
   ]
  },
  {
   "cell_type": "code",
   "execution_count": null,
   "metadata": {},
   "outputs": [],
   "source": []
  },
  {
   "cell_type": "code",
   "execution_count": null,
   "metadata": {},
   "outputs": [],
   "source": []
  }
 ],
 "metadata": {
  "kernelspec": {
   "display_name": ".venv",
   "language": "python",
   "name": "python3"
  },
  "language_info": {
   "codemirror_mode": {
    "name": "ipython",
    "version": 3
   },
   "file_extension": ".py",
   "mimetype": "text/x-python",
   "name": "python",
   "nbconvert_exporter": "python",
   "pygments_lexer": "ipython3",
   "version": "3.10.13"
  }
 },
 "nbformat": 4,
 "nbformat_minor": 2
}

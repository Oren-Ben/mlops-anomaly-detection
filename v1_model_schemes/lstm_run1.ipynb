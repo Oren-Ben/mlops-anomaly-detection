{
 "cells": [
  {
   "cell_type": "code",
   "execution_count": 10,
   "metadata": {},
   "outputs": [
    {
     "name": "stderr",
     "output_type": "stream",
     "text": [
      "2024-02-25 12:44:02.324349: I tensorflow/core/platform/cpu_feature_guard.cc:182] This TensorFlow binary is optimized to use available CPU instructions in performance-critical operations.\n",
      "To enable the following instructions: AVX2 AVX512F AVX512_VNNI FMA, in other operations, rebuild TensorFlow with the appropriate compiler flags.\n"
     ]
    }
   ],
   "source": [
    "import numpy as np\n",
    "import pandas as pd\n",
    "from utils_lstm import load_lstm_dfs, load_train_test_lstm\n",
    "from lstm_data_prep import LstmDataPrep"
   ]
  },
  {
   "cell_type": "markdown",
   "metadata": {},
   "source": []
  },
  {
   "cell_type": "code",
   "execution_count": 8,
   "metadata": {},
   "outputs": [],
   "source": [
    "list_of_dfs = load_lstm_dfs()\n",
    "train_set, test_set = load_train_test_lstm(list_of_dfs=list_of_dfs)"
   ]
  },
  {
   "cell_type": "code",
   "execution_count": 9,
   "metadata": {},
   "outputs": [
    {
     "data": {
      "text/plain": [
       "(13600, 10)"
      ]
     },
     "execution_count": 9,
     "metadata": {},
     "output_type": "execute_result"
    }
   ],
   "source": [
    "train_set.shape"
   ]
  },
  {
   "cell_type": "code",
   "execution_count": 12,
   "metadata": {},
   "outputs": [],
   "source": [
    "preprocess_pipe = LstmDataPrep(num_splits=34).get_preprocess_pipeline()"
   ]
  },
  {
   "cell_type": "code",
   "execution_count": 15,
   "metadata": {},
   "outputs": [],
   "source": [
    "x_train , y_train = preprocess_pipe.fit_transform(train_set)"
   ]
  },
  {
   "cell_type": "code",
   "execution_count": 19,
   "metadata": {},
   "outputs": [
    {
     "name": "stdout",
     "output_type": "stream",
     "text": [
      "(13595, 5, 8)\n",
      "(13595, 8)\n"
     ]
    }
   ],
   "source": [
    "print(x_train.shape) # the shape of x is [batch size, time steps , features]\n",
    "print(y_train.shape)"
   ]
  },
  {
   "cell_type": "code",
   "execution_count": 25,
   "metadata": {},
   "outputs": [
    {
     "data": {
      "text/html": [
       "<div>\n",
       "<style scoped>\n",
       "    .dataframe tbody tr th:only-of-type {\n",
       "        vertical-align: middle;\n",
       "    }\n",
       "\n",
       "    .dataframe tbody tr th {\n",
       "        vertical-align: top;\n",
       "    }\n",
       "\n",
       "    .dataframe thead th {\n",
       "        text-align: right;\n",
       "    }\n",
       "</style>\n",
       "<table border=\"1\" class=\"dataframe\">\n",
       "  <thead>\n",
       "    <tr style=\"text-align: right;\">\n",
       "      <th></th>\n",
       "      <th>Accelerometer1RMS</th>\n",
       "      <th>Accelerometer2RMS</th>\n",
       "      <th>Current</th>\n",
       "      <th>Pressure</th>\n",
       "      <th>Temperature</th>\n",
       "      <th>Thermocouple</th>\n",
       "      <th>Voltage</th>\n",
       "      <th>Volume Flow RateRMS</th>\n",
       "    </tr>\n",
       "  </thead>\n",
       "  <tbody>\n",
       "    <tr>\n",
       "      <th>0</th>\n",
       "      <td>-0.731015</td>\n",
       "      <td>-0.766151</td>\n",
       "      <td>-0.505682</td>\n",
       "      <td>2.460389</td>\n",
       "      <td>-0.651502</td>\n",
       "      <td>-0.341552</td>\n",
       "      <td>0.291642</td>\n",
       "      <td>-0.761765</td>\n",
       "    </tr>\n",
       "    <tr>\n",
       "      <th>1</th>\n",
       "      <td>-0.733543</td>\n",
       "      <td>-0.770456</td>\n",
       "      <td>-0.447343</td>\n",
       "      <td>-0.057864</td>\n",
       "      <td>-0.660573</td>\n",
       "      <td>-0.341122</td>\n",
       "      <td>0.440245</td>\n",
       "      <td>-0.762014</td>\n",
       "    </tr>\n",
       "    <tr>\n",
       "      <th>2</th>\n",
       "      <td>-0.727777</td>\n",
       "      <td>-0.765325</td>\n",
       "      <td>-0.489851</td>\n",
       "      <td>-1.316991</td>\n",
       "      <td>-0.662907</td>\n",
       "      <td>-0.340222</td>\n",
       "      <td>-2.251695</td>\n",
       "      <td>-0.761765</td>\n",
       "    </tr>\n",
       "    <tr>\n",
       "      <th>3</th>\n",
       "      <td>-0.738723</td>\n",
       "      <td>-0.772427</td>\n",
       "      <td>-1.035934</td>\n",
       "      <td>1.201262</td>\n",
       "      <td>-0.668833</td>\n",
       "      <td>-0.342803</td>\n",
       "      <td>-1.627248</td>\n",
       "      <td>-0.738127</td>\n",
       "    </tr>\n",
       "    <tr>\n",
       "      <th>4</th>\n",
       "      <td>-0.725531</td>\n",
       "      <td>-0.775603</td>\n",
       "      <td>-1.034174</td>\n",
       "      <td>-0.057864</td>\n",
       "      <td>-0.652124</td>\n",
       "      <td>-0.346322</td>\n",
       "      <td>-1.909121</td>\n",
       "      <td>-0.738368</td>\n",
       "    </tr>\n",
       "  </tbody>\n",
       "</table>\n",
       "</div>"
      ],
      "text/plain": [
       "   Accelerometer1RMS  Accelerometer2RMS   Current  Pressure  Temperature  \\\n",
       "0          -0.731015          -0.766151 -0.505682  2.460389    -0.651502   \n",
       "1          -0.733543          -0.770456 -0.447343 -0.057864    -0.660573   \n",
       "2          -0.727777          -0.765325 -0.489851 -1.316991    -0.662907   \n",
       "3          -0.738723          -0.772427 -1.035934  1.201262    -0.668833   \n",
       "4          -0.725531          -0.775603 -1.034174 -0.057864    -0.652124   \n",
       "\n",
       "   Thermocouple   Voltage  Volume Flow RateRMS  \n",
       "0     -0.341552  0.291642            -0.761765  \n",
       "1     -0.341122  0.440245            -0.762014  \n",
       "2     -0.340222 -2.251695            -0.761765  \n",
       "3     -0.342803 -1.627248            -0.738127  \n",
       "4     -0.346322 -1.909121            -0.738368  "
      ]
     },
     "execution_count": 25,
     "metadata": {},
     "output_type": "execute_result"
    }
   ],
   "source": [
    "(\n",
    "    pd.DataFrame(x_train[1],columns=train_set.columns[:-2])\n",
    " )"
   ]
  },
  {
   "cell_type": "code",
   "execution_count": null,
   "metadata": {},
   "outputs": [],
   "source": [
    "### the split needs to be the first part on the the preprocessing stage."
   ]
  },
  {
   "cell_type": "code",
   "execution_count": null,
   "metadata": {},
   "outputs": [],
   "source": []
  },
  {
   "cell_type": "code",
   "execution_count": null,
   "metadata": {},
   "outputs": [],
   "source": []
  },
  {
   "cell_type": "code",
   "execution_count": null,
   "metadata": {},
   "outputs": [],
   "source": []
  },
  {
   "cell_type": "code",
   "execution_count": null,
   "metadata": {},
   "outputs": [],
   "source": []
  }
 ],
 "metadata": {
  "kernelspec": {
   "display_name": ".venv",
   "language": "python",
   "name": "python3"
  },
  "language_info": {
   "codemirror_mode": {
    "name": "ipython",
    "version": 3
   },
   "file_extension": ".py",
   "mimetype": "text/x-python",
   "name": "python",
   "nbconvert_exporter": "python",
   "pygments_lexer": "ipython3",
   "version": "3.10.13"
  }
 },
 "nbformat": 4,
 "nbformat_minor": 2
}

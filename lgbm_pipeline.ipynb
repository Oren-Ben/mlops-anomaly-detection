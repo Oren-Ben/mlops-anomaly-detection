{
 "cells": [
  {
   "cell_type": "code",
   "execution_count": 1,
   "metadata": {},
   "outputs": [],
   "source": [
    "import os\n",
    "import numpy as np \n",
    "import pandas as pd \n",
    "import matplotlib.pyplot as plt\n",
    "import seaborn as sns\n",
    "from typing import List, Dict, Tuple"
   ]
  },
  {
   "cell_type": "code",
   "execution_count": 2,
   "metadata": {},
   "outputs": [],
   "source": [
    "DATA_PATH = './data/'\n",
    "DATA_SOURCES = ['valve1','valve2','other']\n"
   ]
  },
  {
   "cell_type": "code",
   "execution_count": 3,
   "metadata": {},
   "outputs": [],
   "source": [
    "def load_dfs_by_source(data_dir:str,data_source:str)-> pd.DataFrame:\n",
    "    \"\"\"\n",
    "    Load all dfs by source ('valve1','valve2','other')\n",
    "\n",
    "    Args:\n",
    "        data_dir (str): _description_\n",
    "        data_source (str): _description_\n",
    "\n",
    "    Returns:\n",
    "        pd.DataFrame: _description_\n",
    "    \"\"\"\n",
    "    all_files=[]\n",
    "    for root, dirs, files in os.walk(data_dir):\n",
    "        for file in files:\n",
    "            if file.endswith(\".csv\"):\n",
    "                all_files.append(os.path.join(root, file))\n",
    "    all_files.sort()\n",
    "    \n",
    "    \n",
    "    dfs_list = [pd.read_csv(file, \n",
    "                          sep=';', \n",
    "                          index_col='datetime', \n",
    "                          parse_dates=True) for file in all_files if data_source in file]\n",
    "    \n",
    "    return (\n",
    "        pd.concat(dfs_list)\n",
    "        # .drop(columns=['changepoint'])\n",
    "        .sort_index()\n",
    "    )\n",
    "\n",
    "def train_val_test_split_original(valve1_data_sets:pd.DataFrame)\\\n",
    "    ->Tuple[pd.DataFrame, pd.DataFrame, pd.DataFrame, pd.DataFrame]:\n",
    "    \"\"\"\n",
    "    Load original lgbm data sets\n",
    "\n",
    "    Args : valve1_data_set\n",
    "    \n",
    "    Returns:\n",
    "         x_train, x_valid, x_test, y_train, y_valid, y_test \n",
    "    \"\"\"\n",
    "    #train_pre(valve1_data is dataframe)\n",
    "    train_pre=valve1_data_sets\n",
    "\n",
    "    #train_pre ⇒ train:valid_pre=7:3\n",
    "    train_pre_size=len(train_pre)\n",
    "    train_size=int(train_pre_size*0.7)\n",
    "    train=train_pre[0:train_size]\n",
    "    x_train_pre=train.drop('anomaly',axis=1)\n",
    "    x_train=x_train_pre.drop('changepoint',axis=1)\n",
    "    y_train=train['anomaly'].values\n",
    "\n",
    "    #valid_pre ⇒ valid:test=2:1\n",
    "    valid_pre_size=train_pre_size-train_size\n",
    "    valid_size=int(valid_pre_size*0.66)\n",
    "    valid=train_pre[train_size:train_size+valid_size]\n",
    "    x_valid_pre=valid.drop('anomaly',axis=1)\n",
    "    x_valid=x_valid_pre.drop('changepoint',axis=1)\n",
    "    y_valid=valid['anomaly'].values\n",
    "\n",
    "    test=train_pre[train_size+valid_size:]\n",
    "    x_test_pre=test.drop('anomaly',axis=1)\n",
    "    x_test=x_test_pre.drop('changepoint',axis=1)\n",
    "    y_test=test['anomaly'].values\n",
    "    \n",
    "    return x_train, x_valid, x_test, y_train, y_valid, y_test\n",
    "\n",
    "def data_perprocessing_original():\n",
    "    pass\n",
    "\n",
    "def smooth_curve(x):\n",
    "    #x=1 dimension array\n",
    "    window_len = 11\n",
    "    s = np.r_[x[window_len-1:0:-1], x, x[-1:-window_len:-1]]\n",
    "    w = np.kaiser(window_len, 2)\n",
    "    y = np.convolve(w/w.sum(), s, mode='valid')\n",
    "    return y[5:len(y)-5] \n",
    "\n",
    "def create_dataset(dataset,look_back=10):\n",
    "    \n",
    "    data_X=np.zeros((len(dataset)-look_back+1,3))\n",
    "    j=0\n",
    "    \n",
    "    for i in range(look_back-1,len(dataset)):\n",
    "        \n",
    "        data_pre=dataset[i-look_back+1:i+1,0]\n",
    "    \n",
    "        data_pre_mean=np.mean(data_pre,axis=0)\n",
    "        data_pre_min=np.min(data_pre,axis=0)\n",
    "        data_pre_max=np.max(data_pre,axis=0)\n",
    "        \n",
    "        data_X[j,:]=np.array([data_pre_mean,data_pre_min,data_pre_max])\n",
    "        j+=1\n",
    "    \n",
    "    return np.array(data_X).reshape(-1,3) "
   ]
  },
  {
   "cell_type": "code",
   "execution_count": 4,
   "metadata": {},
   "outputs": [],
   "source": [
    "data_dict_by_source = {source:load_dfs_by_source(DATA_PATH,source) for source in DATA_SOURCES}"
   ]
  },
  {
   "cell_type": "code",
   "execution_count": 5,
   "metadata": {},
   "outputs": [],
   "source": [
    "x_train, x_valid, x_test, y_train, y_valid, y_test = train_val_test_split_original(data_dict_by_source['valve1'])\n",
    "\n",
    "# train_x,train_y,valid_x,valid_y,test_x,test_y = train_val_test_split_original(data_dict_by_source['valve1'])"
   ]
  },
  {
   "cell_type": "code",
   "execution_count": 6,
   "metadata": {},
   "outputs": [],
   "source": [
    "from sklearn.pipeline import Pipeline\n",
    "from sklearn.base import BaseEstimator, TransformerMixin\n",
    "from sklearn.preprocessing import StandardScaler\n",
    "from sklearn.compose import ColumnTransformer\n"
   ]
  },
  {
   "cell_type": "code",
   "execution_count": 35,
   "metadata": {},
   "outputs": [],
   "source": [
    "class TargetsWindow(BaseEstimator, TransformerMixin):\n",
    "    \n",
    "    def __init__(self,look_back:int=10) -> None:\n",
    "        self.look_back = look_back\n",
    "    \n",
    "    def fit(self, X, y=None):\n",
    "        return self\n",
    "\n",
    "    def transform(self, y:np.array):\n",
    "    \n",
    "        return pd.Series(y[self.look_back-1:]).to_frame().rename(columns={0:'anomaly'}).values\n",
    "\n",
    "\n",
    "class SmoothCurve(BaseEstimator, TransformerMixin):\n",
    "    def fit(self, X, y=None):\n",
    "        return self\n",
    "\n",
    "    def transform(self, X:np.array):\n",
    "        # Perform arbitary transformation\n",
    "        X_win=np.zeros_like(X.values)\n",
    "        data_dim = X.shape[1]\n",
    "        \n",
    "        for i in range(0,data_dim):\n",
    "            X_win[:,i]=smooth_curve(X.values[:,i].flatten())\n",
    "    \n",
    "        return X_win\n",
    "\n",
    "\n",
    "class CreateStatsDataframe(BaseEstimator, TransformerMixin):\n",
    "    \n",
    "    stats_cols=['A1_mean','A1_min','A1_max', \\\n",
    "          'A2_mean','A2_min','A2_max', \\\n",
    "          'Cur_mean','Cur_min','Cur_max', \\\n",
    "          'Pre_mean','Pre_min','Pre_max', \\\n",
    "          'Temp_mean','Temp_min','Temp_max', \\\n",
    "          'Ther_mean','Ther_min','Ther_max', \\\n",
    "          'Vol_mean','Vol_min','Vol_max', \\\n",
    "          'Flow_mean','Flow_min','Flow_max']\n",
    "    \n",
    "    \n",
    "    def __init__(self,look_back:int=10) -> None:\n",
    "        self.look_back = look_back\n",
    "    \n",
    "    def fit(self, X, y=None):\n",
    "        return self\n",
    "\n",
    "    def transform(self, X):\n",
    "        \n",
    "        data_dim = X.shape[1]\n",
    "        for i in range(data_dim):\n",
    "            if i==0:\n",
    "                X_win=create_dataset(X[:,i].reshape(-1,1),look_back=self.look_back)\n",
    "            else:\n",
    "                X_win =  np.concatenate([X_win,create_dataset(X[:,i].reshape(-1,1),look_back=self.look_back)],axis=-1)\n",
    "                \n",
    "        X_win=X_win.reshape(-1,3*data_dim)\n",
    "        \n",
    "        df = pd.DataFrame(data=X_win,columns=CreateStatsDataframe.stats_cols)\n",
    "        \n",
    "        return df"
   ]
  },
  {
   "cell_type": "code",
   "execution_count": 36,
   "metadata": {},
   "outputs": [],
   "source": [
    "smooth = SmoothCurve()\n",
    "scaler = StandardScaler()\n",
    "df_creator = CreateStatsDataframe(look_back=10)\n",
    "targets_win = TargetsWindow(look_back=10)"
   ]
  },
  {
   "cell_type": "code",
   "execution_count": 37,
   "metadata": {},
   "outputs": [],
   "source": [
    "features_pipeline = Pipeline(\n",
    "    [\n",
    "        ('smooth',smooth),\n",
    "        ('scaler',scaler),\n",
    "        ('df_creator',df_creator)\n",
    "    ]\n",
    ")\n",
    "\n",
    "targets_pipeline = Pipeline([('targets_win',targets_win)])"
   ]
  },
  {
   "cell_type": "code",
   "execution_count": 38,
   "metadata": {},
   "outputs": [
    {
     "data": {
      "text/plain": [
       "array([[0.],\n",
       "       [0.],\n",
       "       [0.],\n",
       "       ...,\n",
       "       [0.],\n",
       "       [0.],\n",
       "       [0.]])"
      ]
     },
     "execution_count": 38,
     "metadata": {},
     "output_type": "execute_result"
    }
   ],
   "source": [
    "# features_pipeline.fit_transform(x_train)\n",
    "targets_pipeline.transform(y_train) \n"
   ]
  },
  {
   "cell_type": "code",
   "execution_count": 39,
   "metadata": {},
   "outputs": [],
   "source": [
    "train_x = features_pipeline.fit_transform(x_train)\n",
    "train_y = targets_pipeline.transform(y_train)\n",
    " \n",
    "valid_x = features_pipeline.fit_transform(x_valid)\n",
    "valid_y = targets_pipeline.transform(y_valid) \n",
    "\n",
    "test_x = features_pipeline.transform(x_test)\n",
    "test_y = targets_pipeline.transform(y_test) "
   ]
  },
  {
   "cell_type": "code",
   "execution_count": 40,
   "metadata": {},
   "outputs": [
    {
     "name": "stdout",
     "output_type": "stream",
     "text": [
      "(1844, 24) (1844, 1)\n"
     ]
    }
   ],
   "source": [
    "print(test_x.shape ,test_y.shape)"
   ]
  },
  {
   "cell_type": "code",
   "execution_count": null,
   "metadata": {},
   "outputs": [],
   "source": []
  },
  {
   "cell_type": "code",
   "execution_count": 41,
   "metadata": {},
   "outputs": [],
   "source": [
    "# def calc_metrics(metrics,y_test,y_pred):\n",
    "#     pass\n",
    "# def plot_metrics(metrics,metrics_res):\n",
    "#     pass\n",
    "\n",
    "# class ModelEvaluation:\n",
    "    \n",
    "#     \"\"\"\n",
    "#     eval_config = {\n",
    "#       'lgb' : {\n",
    "#           'y_test' : pd.Series(),\n",
    "#           'y_pred': pd.Series()\n",
    "#       } ,\n",
    "#       'lgb_new': {\n",
    "#           'y_test' : pd.Series(),\n",
    "#           'y_pred': pd.Series()\n",
    "#       }\n",
    "# }\n",
    "#     \"\"\"\n",
    "    \n",
    "#     def __init__(self,eval_config) -> None:\n",
    "#         self.eval_config = eval_config\n",
    "        \n",
    "#     def run(self):\n",
    "        \n",
    "#         for model in self.eval_config.keys():\n",
    "#             pass"
   ]
  },
  {
   "cell_type": "code",
   "execution_count": 42,
   "metadata": {},
   "outputs": [],
   "source": [
    "\n",
    "# eval_config = {\n",
    "#     'metrics': [],\n",
    "#       'lgb' : {\n",
    "#           'y_test' : pd.Series(),\n",
    "#           'y_pred': pd.Series()\n",
    "#       } ,\n",
    "#       'lgb_new': {\n",
    "#           'y_test' : pd.Series(),\n",
    "#           'y_pred': pd.Series()\n",
    "#       }\n",
    "# }\n",
    "\n",
    "# res = {\n",
    "#     'lgb' : {\n",
    "#         'cm' : cm,\n",
    "#         'roc_res' : (fpr, tpr, thresholds),\n",
    "#         'auc' : roc_auc\n",
    "#     },\n",
    "#     'lgb_new': {\n",
    "#         'cm' : cm,\n",
    "#         'roc_res' : (fpr, tpr, thresholds),\n",
    "#         'auc' : roc_auc\n",
    "#     }\n",
    "# }"
   ]
  },
  {
   "cell_type": "code",
   "execution_count": 43,
   "metadata": {},
   "outputs": [],
   "source": [
    "import lightgbm as lgb\n",
    "from sklearn.metrics import accuracy_score\n",
    "from sklearn.metrics import f1_score\n",
    "# from tensorflow.keras.callbacks import EarlyStopping\n",
    "from sklearn.metrics import confusion_matrix\n",
    "import random\n",
    "import tensorflow as tf\n",
    "\n",
    "# fix random seed\n",
    "tf.random.set_seed(0)\n",
    "np.random.seed(0)\n",
    "random.seed(0)\n",
    "os.environ[\"PYTHONHASHSEED\"] = \"0\"\n",
    "\n",
    "#LightGBM train predict function\n",
    "def lgb_train_predict(x_train,y_train,x_valid,y_valid,x_test,y_test,params, \\\n",
    "                      test_flag=False):\n",
    "    \n",
    "    lgb_train=lgb.Dataset(x_train,y_train)\n",
    "    lgb_valid=lgb.Dataset(x_valid,y_valid)\n",
    "    lgb_test=lgb.Dataset(x_test,y_test)\n",
    "    \n",
    "    model_lgb=lgb.train(params=params,train_set=lgb_train, \\\n",
    "                        valid_sets=[lgb_train,lgb_valid], \\\n",
    "                        )\n",
    "    \n",
    "    if test_flag:\n",
    "        test_pred=np.zeros((len(y_test),1))\n",
    "        test_pred[:,0]=np.where(model_lgb.predict(x_test)>=0.5,1,0)\n",
    "        test_acc=accuracy_score(y_test.reshape(-1,1),test_pred)\n",
    "        test_f1score=f1_score(y_test.reshape(-1,1),test_pred)\n",
    "        test_cm=confusion_matrix(y_test.reshape(-1,1),test_pred)\n",
    "        \n",
    "        return test_acc,test_f1score,test_cm,test_pred,model_lgb\n",
    "    \n",
    "    else:\n",
    "        train_pred=np.zeros((len(y_train),1))\n",
    "        train_pred[:,0]=np.where(model_lgb.predict(x_train)>=0.5,1,0)\n",
    "        train_acc=accuracy_score(y_train.reshape(-1,1),train_pred)\n",
    "        \n",
    "        valid_pred=np.zeros((len(y_valid),1))\n",
    "        valid_pred[:,0]=np.where(model_lgb.predict(x_valid)>=0.5,1,0)\n",
    "        valid_acc=accuracy_score(y_valid.reshape(-1,1),valid_pred) \n",
    "        \n",
    "        return train_acc,valid_acc"
   ]
  },
  {
   "cell_type": "code",
   "execution_count": 44,
   "metadata": {},
   "outputs": [
    {
     "name": "stderr",
     "output_type": "stream",
     "text": [
      "/Users/orenben/Documents/runi/mlops-anomaly-detection/.venv/lib/python3.10/site-packages/lightgbm/basic.py:335: UserWarning: Converting column-vector to 1d array\n",
      "  _log_warning('Converting column-vector to 1d array')\n"
     ]
    },
    {
     "name": "stdout",
     "output_type": "stream",
     "text": [
      "[LightGBM] [Info] Number of positive: 4309, number of negative: 8395\n",
      "[LightGBM] [Info] Total Bins 6120\n",
      "[LightGBM] [Info] Number of data points in the train set: 12704, number of used features: 24\n",
      "[LightGBM] [Info] [binary:BoostFromScore]: pavg=0.339185 -> initscore=-0.666930\n",
      "[LightGBM] [Info] Start training from score -0.666930\n",
      "test_acc:0.911062906724512\n",
      "test_f1score:0.8867403314917127\n",
      "test_confusionMatrix\n"
     ]
    },
    {
     "data": {
      "text/plain": [
       "array([[1038,    3],\n",
       "       [ 161,  642]])"
      ]
     },
     "metadata": {},
     "output_type": "display_data"
    },
    {
     "data": {
      "text/plain": [
       "<matplotlib.legend.Legend at 0x147ff9d50>"
      ]
     },
     "execution_count": 44,
     "metadata": {},
     "output_type": "execute_result"
    },
    {
     "data": {
      "image/png": "[encoded data removed]",
      "text/plain": [
       "<Figure size 1000x500 with 1 Axes>"
      ]
     },
     "metadata": {},
     "output_type": "display_data"
    }
   ],
   "source": [
    "\n",
    "#fine-tunned hyper paramter\n",
    "lgb_params={'objective':'binary',\n",
    "            'metric':'binary_error',\n",
    "            'force_row_wise':True,\n",
    "            'seed':0,\n",
    "            'learning_rate':0.0424127,\n",
    "            'min_data_in_leaf':15,\n",
    "            'max_depth':24,\n",
    "            'num_leaves':29\n",
    "           }\n",
    "\n",
    "test_acc,test_f1score,test_cm,test_pred,model_lgb=lgb_train_predict(train_x,train_y,valid_x,valid_y,test_x,test_y,params=lgb_params,test_flag=True)\n",
    "\n",
    "print('test_acc:' + str(test_acc))\n",
    "print('test_f1score:' + str(test_f1score))\n",
    "print('test_confusionMatrix')\n",
    "display(test_cm)\n",
    "\n",
    "plt.figure(figsize=(10,5))\n",
    "plt.plot(range(len(test_y)),test_y,linestyle='none', marker='X', color='blue', markersize=5, label='Anomaly')\n",
    "plt.plot(range(len(test_pred)),test_pred,linestyle='none', marker='X', color='red', markersize=5, label='Predict',alpha=0.05)\n",
    "plt.title('Light GBM')\n",
    "plt.xlabel('index')\n",
    "plt.ylabel('label')\n",
    "plt.legend(loc='best')"
   ]
  },
  {
   "cell_type": "code",
   "execution_count": null,
   "metadata": {},
   "outputs": [],
   "source": []
  }
 ],
 "metadata": {
  "kernelspec": {
   "display_name": ".venv",
   "language": "python",
   "name": "python3"
  },
  "language_info": {
   "codemirror_mode": {
    "name": "ipython",
    "version": 3
   },
   "file_extension": ".py",
   "mimetype": "text/x-python",
   "name": "python",
   "nbconvert_exporter": "python",
   "pygments_lexer": "ipython3",
   "version": "3.10.13"
  }
 },
 "nbformat": 4,
 "nbformat_minor": 2
}
